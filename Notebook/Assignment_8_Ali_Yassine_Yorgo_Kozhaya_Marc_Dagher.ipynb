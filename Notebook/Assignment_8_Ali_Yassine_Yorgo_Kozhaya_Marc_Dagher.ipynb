{
  "cells": [
    {
      "cell_type": "markdown",
      "id": "093da4d2",
      "metadata": {},
      "source": [
        "# Imports"
      ]
    },
    {
      "cell_type": "code",
      "execution_count": 3,
      "id": "bde0ff11",
      "metadata": {
        "colab": {
          "base_uri": "https://localhost:8080/"
        },
        "id": "bde0ff11",
        "outputId": "c471431c-b72d-47ae-cd24-1e49d7fea3c8"
      },
      "outputs": [
        {
          "name": "stderr",
          "output_type": "stream",
          "text": [
            "[nltk_data] Downloading package wordnet to /root/nltk_data...\n",
            "[nltk_data]   Package wordnet is already up-to-date!\n",
            "[nltk_data] Downloading package stopwords to /root/nltk_data...\n",
            "[nltk_data]   Package stopwords is already up-to-date!\n"
          ]
        }
      ],
      "source": [
        "import matplotlib.pyplot as plt\n",
        "import nltk\n",
        "import numpy as np\n",
        "import pandas as pd\n",
        "import re\n",
        "from nltk.corpus import stopwords\n",
        "nltk.download('wordnet')\n",
        "nltk.download('stopwords')\n",
        "from nltk.stem import WordNetLemmatizer\n",
        "from sklearn.feature_extraction.text import CountVectorizer\n",
        "import matplotlib.pyplot as plt\n",
        "from sklearn.linear_model import LogisticRegression\n",
        "import sklearn.model_selection\n",
        "import sklearn.preprocessing as preproc\n",
        "from sklearn.feature_extraction import text\n",
        "import pickle\n",
        "import warnings\n",
        "warnings.filterwarnings(\"ignore\")"
      ]
    },
    {
      "cell_type": "markdown",
      "id": "ddbc3837",
      "metadata": {
        "id": "ddbc3837"
      },
      "source": [
        "# Inspecting Dataset"
      ]
    },
    {
      "cell_type": "code",
      "execution_count": 4,
      "id": "f6db1c50",
      "metadata": {
        "colab": {
          "base_uri": "https://localhost:8080/"
        },
        "id": "f6db1c50",
        "outputId": "80495486-84c1-46d5-f159-eee6f370022e"
      },
      "outputs": [
        {
          "data": {
            "text/plain": [
              "(53043, 2)"
            ]
          },
          "execution_count": 4,
          "metadata": {},
          "output_type": "execute_result"
        }
      ],
      "source": [
        "# load the dataset\n",
        "df = pd.read_csv('/content/Combined Data.csv', index_col=0)\n",
        "df.shape"
      ]
    },
    {
      "cell_type": "code",
      "execution_count": 5,
      "id": "1dbc724d",
      "metadata": {
        "colab": {
          "base_uri": "https://localhost:8080/"
        },
        "id": "1dbc724d",
        "outputId": "ed2f9d60-80fc-48bb-cdee-78653d9c5bf6"
      },
      "outputs": [
        {
          "name": "stdout",
          "output_type": "stream",
          "text": [
            "<class 'pandas.core.frame.DataFrame'>\n",
            "Index: 53043 entries, 0 to 53042\n",
            "Data columns (total 2 columns):\n",
            " #   Column     Non-Null Count  Dtype \n",
            "---  ------     --------------  ----- \n",
            " 0   statement  52681 non-null  object\n",
            " 1   status     53043 non-null  object\n",
            "dtypes: object(2)\n",
            "memory usage: 1.2+ MB\n"
          ]
        }
      ],
      "source": [
        "df.info()"
      ]
    },
    {
      "cell_type": "code",
      "execution_count": 6,
      "id": "0e6bff53",
      "metadata": {
        "colab": {
          "base_uri": "https://localhost:8080/",
          "height": 175
        },
        "id": "0e6bff53",
        "outputId": "7298583d-b477-4278-8fe5-3915435f5a64"
      },
      "outputs": [
        {
          "data": {
            "application/vnd.google.colaboratory.intrinsic+json": {
              "summary": "{\n  \"name\": \"df\",\n  \"rows\": 4,\n  \"fields\": [\n    {\n      \"column\": \"statement\",\n      \"properties\": {\n        \"dtype\": \"string\",\n        \"num_unique_values\": 4,\n        \"samples\": [\n          51073,\n          \"22\",\n          \"52681\"\n        ],\n        \"semantic_type\": \"\",\n        \"description\": \"\"\n      }\n    },\n    {\n      \"column\": \"status\",\n      \"properties\": {\n        \"dtype\": \"string\",\n        \"num_unique_values\": 4,\n        \"samples\": [\n          7,\n          \"16351\",\n          \"53043\"\n        ],\n        \"semantic_type\": \"\",\n        \"description\": \"\"\n      }\n    }\n  ]\n}",
              "type": "dataframe"
            },
            "text/html": [
              "\n",
              "  <div id=\"df-e8ec7b1e-4be1-4ff3-aa77-2b1dc2bd48b1\" class=\"colab-df-container\">\n",
              "    <div>\n",
              "<style scoped>\n",
              "    .dataframe tbody tr th:only-of-type {\n",
              "        vertical-align: middle;\n",
              "    }\n",
              "\n",
              "    .dataframe tbody tr th {\n",
              "        vertical-align: top;\n",
              "    }\n",
              "\n",
              "    .dataframe thead th {\n",
              "        text-align: right;\n",
              "    }\n",
              "</style>\n",
              "<table border=\"1\" class=\"dataframe\">\n",
              "  <thead>\n",
              "    <tr style=\"text-align: right;\">\n",
              "      <th></th>\n",
              "      <th>statement</th>\n",
              "      <th>status</th>\n",
              "    </tr>\n",
              "  </thead>\n",
              "  <tbody>\n",
              "    <tr>\n",
              "      <th>count</th>\n",
              "      <td>52681</td>\n",
              "      <td>53043</td>\n",
              "    </tr>\n",
              "    <tr>\n",
              "      <th>unique</th>\n",
              "      <td>51073</td>\n",
              "      <td>7</td>\n",
              "    </tr>\n",
              "    <tr>\n",
              "      <th>top</th>\n",
              "      <td>what do you mean?</td>\n",
              "      <td>Normal</td>\n",
              "    </tr>\n",
              "    <tr>\n",
              "      <th>freq</th>\n",
              "      <td>22</td>\n",
              "      <td>16351</td>\n",
              "    </tr>\n",
              "  </tbody>\n",
              "</table>\n",
              "</div>\n",
              "    <div class=\"colab-df-buttons\">\n",
              "\n",
              "  <div class=\"colab-df-container\">\n",
              "    <button class=\"colab-df-convert\" onclick=\"convertToInteractive('df-e8ec7b1e-4be1-4ff3-aa77-2b1dc2bd48b1')\"\n",
              "            title=\"Convert this dataframe to an interactive table.\"\n",
              "            style=\"display:none;\">\n",
              "\n",
              "  <svg xmlns=\"http://www.w3.org/2000/svg\" height=\"24px\" viewBox=\"0 -960 960 960\">\n",
              "    <path d=\"M120-120v-720h720v720H120Zm60-500h600v-160H180v160Zm220 220h160v-160H400v160Zm0 220h160v-160H400v160ZM180-400h160v-160H180v160Zm440 0h160v-160H620v160ZM180-180h160v-160H180v160Zm440 0h160v-160H620v160Z\"/>\n",
              "  </svg>\n",
              "    </button>\n",
              "\n",
              "  <style>\n",
              "    .colab-df-container {\n",
              "      display:flex;\n",
              "      gap: 12px;\n",
              "    }\n",
              "\n",
              "    .colab-df-convert {\n",
              "      background-color: #E8F0FE;\n",
              "      border: none;\n",
              "      border-radius: 50%;\n",
              "      cursor: pointer;\n",
              "      display: none;\n",
              "      fill: #1967D2;\n",
              "      height: 32px;\n",
              "      padding: 0 0 0 0;\n",
              "      width: 32px;\n",
              "    }\n",
              "\n",
              "    .colab-df-convert:hover {\n",
              "      background-color: #E2EBFA;\n",
              "      box-shadow: 0px 1px 2px rgba(60, 64, 67, 0.3), 0px 1px 3px 1px rgba(60, 64, 67, 0.15);\n",
              "      fill: #174EA6;\n",
              "    }\n",
              "\n",
              "    .colab-df-buttons div {\n",
              "      margin-bottom: 4px;\n",
              "    }\n",
              "\n",
              "    [theme=dark] .colab-df-convert {\n",
              "      background-color: #3B4455;\n",
              "      fill: #D2E3FC;\n",
              "    }\n",
              "\n",
              "    [theme=dark] .colab-df-convert:hover {\n",
              "      background-color: #434B5C;\n",
              "      box-shadow: 0px 1px 3px 1px rgba(0, 0, 0, 0.15);\n",
              "      filter: drop-shadow(0px 1px 2px rgba(0, 0, 0, 0.3));\n",
              "      fill: #FFFFFF;\n",
              "    }\n",
              "  </style>\n",
              "\n",
              "    <script>\n",
              "      const buttonEl =\n",
              "        document.querySelector('#df-e8ec7b1e-4be1-4ff3-aa77-2b1dc2bd48b1 button.colab-df-convert');\n",
              "      buttonEl.style.display =\n",
              "        google.colab.kernel.accessAllowed ? 'block' : 'none';\n",
              "\n",
              "      async function convertToInteractive(key) {\n",
              "        const element = document.querySelector('#df-e8ec7b1e-4be1-4ff3-aa77-2b1dc2bd48b1');\n",
              "        const dataTable =\n",
              "          await google.colab.kernel.invokeFunction('convertToInteractive',\n",
              "                                                    [key], {});\n",
              "        if (!dataTable) return;\n",
              "\n",
              "        const docLinkHtml = 'Like what you see? Visit the ' +\n",
              "          '<a target=\"_blank\" href=https://colab.research.google.com/notebooks/data_table.ipynb>data table notebook</a>'\n",
              "          + ' to learn more about interactive tables.';\n",
              "        element.innerHTML = '';\n",
              "        dataTable['output_type'] = 'display_data';\n",
              "        await google.colab.output.renderOutput(dataTable, element);\n",
              "        const docLink = document.createElement('div');\n",
              "        docLink.innerHTML = docLinkHtml;\n",
              "        element.appendChild(docLink);\n",
              "      }\n",
              "    </script>\n",
              "  </div>\n",
              "\n",
              "\n",
              "    <div id=\"df-267c557a-ff8a-40d7-ae8f-558858e8c843\">\n",
              "      <button class=\"colab-df-quickchart\" onclick=\"quickchart('df-267c557a-ff8a-40d7-ae8f-558858e8c843')\"\n",
              "                title=\"Suggest charts\"\n",
              "                style=\"display:none;\">\n",
              "\n",
              "<svg xmlns=\"http://www.w3.org/2000/svg\" height=\"24px\"viewBox=\"0 0 24 24\"\n",
              "     width=\"24px\">\n",
              "    <g>\n",
              "        <path d=\"M19 3H5c-1.1 0-2 .9-2 2v14c0 1.1.9 2 2 2h14c1.1 0 2-.9 2-2V5c0-1.1-.9-2-2-2zM9 17H7v-7h2v7zm4 0h-2V7h2v10zm4 0h-2v-4h2v4z\"/>\n",
              "    </g>\n",
              "</svg>\n",
              "      </button>\n",
              "\n",
              "<style>\n",
              "  .colab-df-quickchart {\n",
              "      --bg-color: #E8F0FE;\n",
              "      --fill-color: #1967D2;\n",
              "      --hover-bg-color: #E2EBFA;\n",
              "      --hover-fill-color: #174EA6;\n",
              "      --disabled-fill-color: #AAA;\n",
              "      --disabled-bg-color: #DDD;\n",
              "  }\n",
              "\n",
              "  [theme=dark] .colab-df-quickchart {\n",
              "      --bg-color: #3B4455;\n",
              "      --fill-color: #D2E3FC;\n",
              "      --hover-bg-color: #434B5C;\n",
              "      --hover-fill-color: #FFFFFF;\n",
              "      --disabled-bg-color: #3B4455;\n",
              "      --disabled-fill-color: #666;\n",
              "  }\n",
              "\n",
              "  .colab-df-quickchart {\n",
              "    background-color: var(--bg-color);\n",
              "    border: none;\n",
              "    border-radius: 50%;\n",
              "    cursor: pointer;\n",
              "    display: none;\n",
              "    fill: var(--fill-color);\n",
              "    height: 32px;\n",
              "    padding: 0;\n",
              "    width: 32px;\n",
              "  }\n",
              "\n",
              "  .colab-df-quickchart:hover {\n",
              "    background-color: var(--hover-bg-color);\n",
              "    box-shadow: 0 1px 2px rgba(60, 64, 67, 0.3), 0 1px 3px 1px rgba(60, 64, 67, 0.15);\n",
              "    fill: var(--button-hover-fill-color);\n",
              "  }\n",
              "\n",
              "  .colab-df-quickchart-complete:disabled,\n",
              "  .colab-df-quickchart-complete:disabled:hover {\n",
              "    background-color: var(--disabled-bg-color);\n",
              "    fill: var(--disabled-fill-color);\n",
              "    box-shadow: none;\n",
              "  }\n",
              "\n",
              "  .colab-df-spinner {\n",
              "    border: 2px solid var(--fill-color);\n",
              "    border-color: transparent;\n",
              "    border-bottom-color: var(--fill-color);\n",
              "    animation:\n",
              "      spin 1s steps(1) infinite;\n",
              "  }\n",
              "\n",
              "  @keyframes spin {\n",
              "    0% {\n",
              "      border-color: transparent;\n",
              "      border-bottom-color: var(--fill-color);\n",
              "      border-left-color: var(--fill-color);\n",
              "    }\n",
              "    20% {\n",
              "      border-color: transparent;\n",
              "      border-left-color: var(--fill-color);\n",
              "      border-top-color: var(--fill-color);\n",
              "    }\n",
              "    30% {\n",
              "      border-color: transparent;\n",
              "      border-left-color: var(--fill-color);\n",
              "      border-top-color: var(--fill-color);\n",
              "      border-right-color: var(--fill-color);\n",
              "    }\n",
              "    40% {\n",
              "      border-color: transparent;\n",
              "      border-right-color: var(--fill-color);\n",
              "      border-top-color: var(--fill-color);\n",
              "    }\n",
              "    60% {\n",
              "      border-color: transparent;\n",
              "      border-right-color: var(--fill-color);\n",
              "    }\n",
              "    80% {\n",
              "      border-color: transparent;\n",
              "      border-right-color: var(--fill-color);\n",
              "      border-bottom-color: var(--fill-color);\n",
              "    }\n",
              "    90% {\n",
              "      border-color: transparent;\n",
              "      border-bottom-color: var(--fill-color);\n",
              "    }\n",
              "  }\n",
              "</style>\n",
              "\n",
              "      <script>\n",
              "        async function quickchart(key) {\n",
              "          const quickchartButtonEl =\n",
              "            document.querySelector('#' + key + ' button');\n",
              "          quickchartButtonEl.disabled = true;  // To prevent multiple clicks.\n",
              "          quickchartButtonEl.classList.add('colab-df-spinner');\n",
              "          try {\n",
              "            const charts = await google.colab.kernel.invokeFunction(\n",
              "                'suggestCharts', [key], {});\n",
              "          } catch (error) {\n",
              "            console.error('Error during call to suggestCharts:', error);\n",
              "          }\n",
              "          quickchartButtonEl.classList.remove('colab-df-spinner');\n",
              "          quickchartButtonEl.classList.add('colab-df-quickchart-complete');\n",
              "        }\n",
              "        (() => {\n",
              "          let quickchartButtonEl =\n",
              "            document.querySelector('#df-267c557a-ff8a-40d7-ae8f-558858e8c843 button');\n",
              "          quickchartButtonEl.style.display =\n",
              "            google.colab.kernel.accessAllowed ? 'block' : 'none';\n",
              "        })();\n",
              "      </script>\n",
              "    </div>\n",
              "\n",
              "    </div>\n",
              "  </div>\n"
            ],
            "text/plain": [
              "                statement  status\n",
              "count               52681   53043\n",
              "unique              51073       7\n",
              "top     what do you mean?  Normal\n",
              "freq                   22   16351"
            ]
          },
          "execution_count": 6,
          "metadata": {},
          "output_type": "execute_result"
        }
      ],
      "source": [
        "df.describe()"
      ]
    },
    {
      "cell_type": "code",
      "execution_count": 7,
      "id": "9f04e1a0",
      "metadata": {
        "colab": {
          "base_uri": "https://localhost:8080/"
        },
        "id": "9f04e1a0",
        "outputId": "1bc4d9f6-aca4-4d56-991b-e59c8c8bcbea"
      },
      "outputs": [
        {
          "data": {
            "text/plain": [
              "(52681, 2)"
            ]
          },
          "execution_count": 7,
          "metadata": {},
          "output_type": "execute_result"
        }
      ],
      "source": [
        "# drop the rows containing null values\n",
        "df = df.dropna()\n",
        "df.shape"
      ]
    },
    {
      "cell_type": "code",
      "execution_count": 8,
      "id": "b0c7c471",
      "metadata": {
        "colab": {
          "base_uri": "https://localhost:8080/",
          "height": 112
        },
        "id": "b0c7c471",
        "outputId": "ef94ac5f-01d1-4c5d-9707-f1c8e33e4138"
      },
      "outputs": [
        {
          "data": {
            "application/vnd.google.colaboratory.intrinsic+json": {
              "summary": "{\n  \"name\": \"df\",\n  \"rows\": 52681,\n  \"fields\": [\n    {\n      \"column\": \"statement\",\n      \"properties\": {\n        \"dtype\": \"string\",\n        \"num_unique_values\": 51073,\n        \"samples\": [\n          \"he's been a chain smoker for 30 years.\",\n          \"Dependence on therapist I attend IOP groups and individual therapy sessions at the same place, my therapist who I have worked with on and off for a year and a couple months just told me today that she is leaving soon and I am heartbroken. I love my therapist and I don't know how I am going to keep progressing without her. There will be a replacement for her but idk what to do, I don't want a different therapist. :(\",\n          \"These feelings constantly come back. Someone from my past that hurt me came back a month ago and once again disrespected me and i just feel like shit. Idk why these feelings keep resurfacing but it just hurts. I do not want to be over dramatic but Its hurts when you were nothing but loving/kind to someone and they disrespect you. I just hate feeling like this, feeling like i cannot trust anyone or that no one would ever truly love me unless i have something to offer. I am always worried about my looks and its just making me depressed. I really do not feel like i fit in with the world I am just here. Idk what my next step should be to get help but I am really going through it. (Yes I am in therapy) but how do i help myself ? I have been depressed/anxious for years and most day i do not even leave my house. But nobody around me seems to care and honestly I am tired of feeling this way. But at the same time i do not want to give up on myself bc i feel like I am here to be somebody great. I am just trying to find my way right now. It keeps coming back\"\n        ],\n        \"semantic_type\": \"\",\n        \"description\": \"\"\n      }\n    },\n    {\n      \"column\": \"status\",\n      \"properties\": {\n        \"dtype\": \"category\",\n        \"num_unique_values\": 7,\n        \"samples\": [\n          \"Anxiety\",\n          \"Normal\",\n          \"Bipolar\"\n        ],\n        \"semantic_type\": \"\",\n        \"description\": \"\"\n      }\n    }\n  ]\n}",
              "type": "dataframe",
              "variable_name": "df"
            },
            "text/html": [
              "\n",
              "  <div id=\"df-b4d565ec-91bb-4510-8a58-c6cc8ca73277\" class=\"colab-df-container\">\n",
              "    <div>\n",
              "<style scoped>\n",
              "    .dataframe tbody tr th:only-of-type {\n",
              "        vertical-align: middle;\n",
              "    }\n",
              "\n",
              "    .dataframe tbody tr th {\n",
              "        vertical-align: top;\n",
              "    }\n",
              "\n",
              "    .dataframe thead th {\n",
              "        text-align: right;\n",
              "    }\n",
              "</style>\n",
              "<table border=\"1\" class=\"dataframe\">\n",
              "  <thead>\n",
              "    <tr style=\"text-align: right;\">\n",
              "      <th></th>\n",
              "      <th>statement</th>\n",
              "      <th>status</th>\n",
              "    </tr>\n",
              "  </thead>\n",
              "  <tbody>\n",
              "    <tr>\n",
              "      <th>0</th>\n",
              "      <td>oh my gosh</td>\n",
              "      <td>Anxiety</td>\n",
              "    </tr>\n",
              "    <tr>\n",
              "      <th>1</th>\n",
              "      <td>trouble sleeping, confused mind, restless hear...</td>\n",
              "      <td>Anxiety</td>\n",
              "    </tr>\n",
              "  </tbody>\n",
              "</table>\n",
              "</div>\n",
              "    <div class=\"colab-df-buttons\">\n",
              "\n",
              "  <div class=\"colab-df-container\">\n",
              "    <button class=\"colab-df-convert\" onclick=\"convertToInteractive('df-b4d565ec-91bb-4510-8a58-c6cc8ca73277')\"\n",
              "            title=\"Convert this dataframe to an interactive table.\"\n",
              "            style=\"display:none;\">\n",
              "\n",
              "  <svg xmlns=\"http://www.w3.org/2000/svg\" height=\"24px\" viewBox=\"0 -960 960 960\">\n",
              "    <path d=\"M120-120v-720h720v720H120Zm60-500h600v-160H180v160Zm220 220h160v-160H400v160Zm0 220h160v-160H400v160ZM180-400h160v-160H180v160Zm440 0h160v-160H620v160ZM180-180h160v-160H180v160Zm440 0h160v-160H620v160Z\"/>\n",
              "  </svg>\n",
              "    </button>\n",
              "\n",
              "  <style>\n",
              "    .colab-df-container {\n",
              "      display:flex;\n",
              "      gap: 12px;\n",
              "    }\n",
              "\n",
              "    .colab-df-convert {\n",
              "      background-color: #E8F0FE;\n",
              "      border: none;\n",
              "      border-radius: 50%;\n",
              "      cursor: pointer;\n",
              "      display: none;\n",
              "      fill: #1967D2;\n",
              "      height: 32px;\n",
              "      padding: 0 0 0 0;\n",
              "      width: 32px;\n",
              "    }\n",
              "\n",
              "    .colab-df-convert:hover {\n",
              "      background-color: #E2EBFA;\n",
              "      box-shadow: 0px 1px 2px rgba(60, 64, 67, 0.3), 0px 1px 3px 1px rgba(60, 64, 67, 0.15);\n",
              "      fill: #174EA6;\n",
              "    }\n",
              "\n",
              "    .colab-df-buttons div {\n",
              "      margin-bottom: 4px;\n",
              "    }\n",
              "\n",
              "    [theme=dark] .colab-df-convert {\n",
              "      background-color: #3B4455;\n",
              "      fill: #D2E3FC;\n",
              "    }\n",
              "\n",
              "    [theme=dark] .colab-df-convert:hover {\n",
              "      background-color: #434B5C;\n",
              "      box-shadow: 0px 1px 3px 1px rgba(0, 0, 0, 0.15);\n",
              "      filter: drop-shadow(0px 1px 2px rgba(0, 0, 0, 0.3));\n",
              "      fill: #FFFFFF;\n",
              "    }\n",
              "  </style>\n",
              "\n",
              "    <script>\n",
              "      const buttonEl =\n",
              "        document.querySelector('#df-b4d565ec-91bb-4510-8a58-c6cc8ca73277 button.colab-df-convert');\n",
              "      buttonEl.style.display =\n",
              "        google.colab.kernel.accessAllowed ? 'block' : 'none';\n",
              "\n",
              "      async function convertToInteractive(key) {\n",
              "        const element = document.querySelector('#df-b4d565ec-91bb-4510-8a58-c6cc8ca73277');\n",
              "        const dataTable =\n",
              "          await google.colab.kernel.invokeFunction('convertToInteractive',\n",
              "                                                    [key], {});\n",
              "        if (!dataTable) return;\n",
              "\n",
              "        const docLinkHtml = 'Like what you see? Visit the ' +\n",
              "          '<a target=\"_blank\" href=https://colab.research.google.com/notebooks/data_table.ipynb>data table notebook</a>'\n",
              "          + ' to learn more about interactive tables.';\n",
              "        element.innerHTML = '';\n",
              "        dataTable['output_type'] = 'display_data';\n",
              "        await google.colab.output.renderOutput(dataTable, element);\n",
              "        const docLink = document.createElement('div');\n",
              "        docLink.innerHTML = docLinkHtml;\n",
              "        element.appendChild(docLink);\n",
              "      }\n",
              "    </script>\n",
              "  </div>\n",
              "\n",
              "\n",
              "    <div id=\"df-e506dd20-47c1-4594-ac27-0ac55e18e949\">\n",
              "      <button class=\"colab-df-quickchart\" onclick=\"quickchart('df-e506dd20-47c1-4594-ac27-0ac55e18e949')\"\n",
              "                title=\"Suggest charts\"\n",
              "                style=\"display:none;\">\n",
              "\n",
              "<svg xmlns=\"http://www.w3.org/2000/svg\" height=\"24px\"viewBox=\"0 0 24 24\"\n",
              "     width=\"24px\">\n",
              "    <g>\n",
              "        <path d=\"M19 3H5c-1.1 0-2 .9-2 2v14c0 1.1.9 2 2 2h14c1.1 0 2-.9 2-2V5c0-1.1-.9-2-2-2zM9 17H7v-7h2v7zm4 0h-2V7h2v10zm4 0h-2v-4h2v4z\"/>\n",
              "    </g>\n",
              "</svg>\n",
              "      </button>\n",
              "\n",
              "<style>\n",
              "  .colab-df-quickchart {\n",
              "      --bg-color: #E8F0FE;\n",
              "      --fill-color: #1967D2;\n",
              "      --hover-bg-color: #E2EBFA;\n",
              "      --hover-fill-color: #174EA6;\n",
              "      --disabled-fill-color: #AAA;\n",
              "      --disabled-bg-color: #DDD;\n",
              "  }\n",
              "\n",
              "  [theme=dark] .colab-df-quickchart {\n",
              "      --bg-color: #3B4455;\n",
              "      --fill-color: #D2E3FC;\n",
              "      --hover-bg-color: #434B5C;\n",
              "      --hover-fill-color: #FFFFFF;\n",
              "      --disabled-bg-color: #3B4455;\n",
              "      --disabled-fill-color: #666;\n",
              "  }\n",
              "\n",
              "  .colab-df-quickchart {\n",
              "    background-color: var(--bg-color);\n",
              "    border: none;\n",
              "    border-radius: 50%;\n",
              "    cursor: pointer;\n",
              "    display: none;\n",
              "    fill: var(--fill-color);\n",
              "    height: 32px;\n",
              "    padding: 0;\n",
              "    width: 32px;\n",
              "  }\n",
              "\n",
              "  .colab-df-quickchart:hover {\n",
              "    background-color: var(--hover-bg-color);\n",
              "    box-shadow: 0 1px 2px rgba(60, 64, 67, 0.3), 0 1px 3px 1px rgba(60, 64, 67, 0.15);\n",
              "    fill: var(--button-hover-fill-color);\n",
              "  }\n",
              "\n",
              "  .colab-df-quickchart-complete:disabled,\n",
              "  .colab-df-quickchart-complete:disabled:hover {\n",
              "    background-color: var(--disabled-bg-color);\n",
              "    fill: var(--disabled-fill-color);\n",
              "    box-shadow: none;\n",
              "  }\n",
              "\n",
              "  .colab-df-spinner {\n",
              "    border: 2px solid var(--fill-color);\n",
              "    border-color: transparent;\n",
              "    border-bottom-color: var(--fill-color);\n",
              "    animation:\n",
              "      spin 1s steps(1) infinite;\n",
              "  }\n",
              "\n",
              "  @keyframes spin {\n",
              "    0% {\n",
              "      border-color: transparent;\n",
              "      border-bottom-color: var(--fill-color);\n",
              "      border-left-color: var(--fill-color);\n",
              "    }\n",
              "    20% {\n",
              "      border-color: transparent;\n",
              "      border-left-color: var(--fill-color);\n",
              "      border-top-color: var(--fill-color);\n",
              "    }\n",
              "    30% {\n",
              "      border-color: transparent;\n",
              "      border-left-color: var(--fill-color);\n",
              "      border-top-color: var(--fill-color);\n",
              "      border-right-color: var(--fill-color);\n",
              "    }\n",
              "    40% {\n",
              "      border-color: transparent;\n",
              "      border-right-color: var(--fill-color);\n",
              "      border-top-color: var(--fill-color);\n",
              "    }\n",
              "    60% {\n",
              "      border-color: transparent;\n",
              "      border-right-color: var(--fill-color);\n",
              "    }\n",
              "    80% {\n",
              "      border-color: transparent;\n",
              "      border-right-color: var(--fill-color);\n",
              "      border-bottom-color: var(--fill-color);\n",
              "    }\n",
              "    90% {\n",
              "      border-color: transparent;\n",
              "      border-bottom-color: var(--fill-color);\n",
              "    }\n",
              "  }\n",
              "</style>\n",
              "\n",
              "      <script>\n",
              "        async function quickchart(key) {\n",
              "          const quickchartButtonEl =\n",
              "            document.querySelector('#' + key + ' button');\n",
              "          quickchartButtonEl.disabled = true;  // To prevent multiple clicks.\n",
              "          quickchartButtonEl.classList.add('colab-df-spinner');\n",
              "          try {\n",
              "            const charts = await google.colab.kernel.invokeFunction(\n",
              "                'suggestCharts', [key], {});\n",
              "          } catch (error) {\n",
              "            console.error('Error during call to suggestCharts:', error);\n",
              "          }\n",
              "          quickchartButtonEl.classList.remove('colab-df-spinner');\n",
              "          quickchartButtonEl.classList.add('colab-df-quickchart-complete');\n",
              "        }\n",
              "        (() => {\n",
              "          let quickchartButtonEl =\n",
              "            document.querySelector('#df-e506dd20-47c1-4594-ac27-0ac55e18e949 button');\n",
              "          quickchartButtonEl.style.display =\n",
              "            google.colab.kernel.accessAllowed ? 'block' : 'none';\n",
              "        })();\n",
              "      </script>\n",
              "    </div>\n",
              "\n",
              "    </div>\n",
              "  </div>\n"
            ],
            "text/plain": [
              "                                           statement   status\n",
              "0                                         oh my gosh  Anxiety\n",
              "1  trouble sleeping, confused mind, restless hear...  Anxiety"
            ]
          },
          "execution_count": 8,
          "metadata": {},
          "output_type": "execute_result"
        }
      ],
      "source": [
        "# output the first tow rows of the dataset\n",
        "df.head(2)"
      ]
    },
    {
      "cell_type": "markdown",
      "id": "5ea1ad19",
      "metadata": {
        "id": "5ea1ad19"
      },
      "source": [
        "# Data Cleaning"
      ]
    },
    {
      "cell_type": "markdown",
      "id": "43781aec",
      "metadata": {
        "id": "43781aec"
      },
      "source": [
        "- __Deduplication__ Removing the dublicate rows, which share the same UserId, ProfileName, Time, and Text"
      ]
    },
    {
      "cell_type": "code",
      "execution_count": 9,
      "id": "e6f82c4f",
      "metadata": {
        "colab": {
          "base_uri": "https://localhost:8080/",
          "height": 147
        },
        "id": "e6f82c4f",
        "outputId": "d1b682e1-22b5-4fc1-fd62-db146ead2055"
      },
      "outputs": [
        {
          "data": {
            "text/html": [
              "<div>\n",
              "<style scoped>\n",
              "    .dataframe tbody tr th:only-of-type {\n",
              "        vertical-align: middle;\n",
              "    }\n",
              "\n",
              "    .dataframe tbody tr th {\n",
              "        vertical-align: top;\n",
              "    }\n",
              "\n",
              "    .dataframe thead th {\n",
              "        text-align: right;\n",
              "    }\n",
              "</style>\n",
              "<table border=\"1\" class=\"dataframe\">\n",
              "  <thead>\n",
              "    <tr style=\"text-align: right;\">\n",
              "      <th></th>\n",
              "      <th>count</th>\n",
              "    </tr>\n",
              "  </thead>\n",
              "  <tbody>\n",
              "    <tr>\n",
              "      <th>False</th>\n",
              "      <td>51073</td>\n",
              "    </tr>\n",
              "    <tr>\n",
              "      <th>True</th>\n",
              "      <td>1608</td>\n",
              "    </tr>\n",
              "  </tbody>\n",
              "</table>\n",
              "</div><br><label><b>dtype:</b> int64</label>"
            ],
            "text/plain": [
              "False    51073\n",
              "True      1608\n",
              "Name: count, dtype: int64"
            ]
          },
          "execution_count": 9,
          "metadata": {},
          "output_type": "execute_result"
        }
      ],
      "source": [
        "df.duplicated(subset=['statement']).value_counts()"
      ]
    },
    {
      "cell_type": "code",
      "execution_count": 10,
      "id": "259866e8",
      "metadata": {
        "id": "259866e8"
      },
      "outputs": [],
      "source": [
        "df.drop_duplicates(subset=['statement'],inplace=True)"
      ]
    },
    {
      "cell_type": "code",
      "execution_count": 11,
      "id": "f97cc8b6",
      "metadata": {
        "colab": {
          "base_uri": "https://localhost:8080/",
          "height": 115
        },
        "id": "f97cc8b6",
        "outputId": "cb9e2898-4d39-4e86-bea6-17fef673557a"
      },
      "outputs": [
        {
          "data": {
            "text/html": [
              "<div>\n",
              "<style scoped>\n",
              "    .dataframe tbody tr th:only-of-type {\n",
              "        vertical-align: middle;\n",
              "    }\n",
              "\n",
              "    .dataframe tbody tr th {\n",
              "        vertical-align: top;\n",
              "    }\n",
              "\n",
              "    .dataframe thead th {\n",
              "        text-align: right;\n",
              "    }\n",
              "</style>\n",
              "<table border=\"1\" class=\"dataframe\">\n",
              "  <thead>\n",
              "    <tr style=\"text-align: right;\">\n",
              "      <th></th>\n",
              "      <th>count</th>\n",
              "    </tr>\n",
              "  </thead>\n",
              "  <tbody>\n",
              "    <tr>\n",
              "      <th>False</th>\n",
              "      <td>51073</td>\n",
              "    </tr>\n",
              "  </tbody>\n",
              "</table>\n",
              "</div><br><label><b>dtype:</b> int64</label>"
            ],
            "text/plain": [
              "False    51073\n",
              "Name: count, dtype: int64"
            ]
          },
          "execution_count": 11,
          "metadata": {},
          "output_type": "execute_result"
        }
      ],
      "source": [
        "df.duplicated(subset=['statement']).value_counts()"
      ]
    },
    {
      "cell_type": "code",
      "execution_count": 12,
      "id": "bd01742a",
      "metadata": {
        "colab": {
          "base_uri": "https://localhost:8080/"
        },
        "id": "bd01742a",
        "outputId": "19938e86-cfdf-412c-890e-190e27175c8d"
      },
      "outputs": [
        {
          "data": {
            "text/plain": [
              "(51073, 2)"
            ]
          },
          "execution_count": 12,
          "metadata": {},
          "output_type": "execute_result"
        }
      ],
      "source": [
        "df.shape"
      ]
    },
    {
      "cell_type": "code",
      "execution_count": 13,
      "id": "a14fdc0d",
      "metadata": {
        "colab": {
          "base_uri": "https://localhost:8080/",
          "height": 688
        },
        "id": "a14fdc0d",
        "outputId": "0e5a9c97-0de6-4d68-e3b5-0ef21c37a318"
      },
      "outputs": [
        {
          "data": {
            "image/png": "[encoded data removed]",
            "text/plain": [
              "<Figure size 600x600 with 1 Axes>"
            ]
          },
          "metadata": {},
          "output_type": "display_data"
        }
      ],
      "source": [
        "# create a histogram showing the review distribution over scores from 1 to 5\n",
        "# value counts is pandas built in function that counts the number of occurences of different values in a series (numerical column)\n",
        "# plot is a pandas built in function to plot the values of a series (it uses matplotlib by default)\n",
        "ax = df['status'].value_counts().plot(kind='bar', figsize=(6,6))\n",
        "\n",
        "# get figure returns a matplotlib object (figure)\n",
        "fig = ax.get_figure()\n",
        "\n",
        "# built in matplotlib functions\n",
        "ax.set_title(\"Disorder Frequencies\")\n",
        "ax.set_xlabel('Disorder Type')\n",
        "ax.set_ylabel('Value Counts');"
      ]
    },
    {
      "cell_type": "code",
      "execution_count": 14,
      "id": "3108a8ef",
      "metadata": {
        "colab": {
          "base_uri": "https://localhost:8080/",
          "height": 81
        },
        "id": "3108a8ef",
        "outputId": "731d6352-2665-4f02-d0a8-59f5dce0c6c7"
      },
      "outputs": [
        {
          "data": {
            "application/vnd.google.colaboratory.intrinsic+json": {
              "summary": "{\n  \"name\": \"df\",\n  \"rows\": 51073,\n  \"fields\": [\n    {\n      \"column\": \"statement\",\n      \"properties\": {\n        \"dtype\": \"string\",\n        \"num_unique_values\": 51073,\n        \"samples\": [\n          \"he's been a chain smoker for 30 years.\",\n          \"Dependence on therapist I attend IOP groups and individual therapy sessions at the same place, my therapist who I have worked with on and off for a year and a couple months just told me today that she is leaving soon and I am heartbroken. I love my therapist and I don't know how I am going to keep progressing without her. There will be a replacement for her but idk what to do, I don't want a different therapist. :(\",\n          \"These feelings constantly come back. Someone from my past that hurt me came back a month ago and once again disrespected me and i just feel like shit. Idk why these feelings keep resurfacing but it just hurts. I do not want to be over dramatic but Its hurts when you were nothing but loving/kind to someone and they disrespect you. I just hate feeling like this, feeling like i cannot trust anyone or that no one would ever truly love me unless i have something to offer. I am always worried about my looks and its just making me depressed. I really do not feel like i fit in with the world I am just here. Idk what my next step should be to get help but I am really going through it. (Yes I am in therapy) but how do i help myself ? I have been depressed/anxious for years and most day i do not even leave my house. But nobody around me seems to care and honestly I am tired of feeling this way. But at the same time i do not want to give up on myself bc i feel like I am here to be somebody great. I am just trying to find my way right now. It keeps coming back\"\n        ],\n        \"semantic_type\": \"\",\n        \"description\": \"\"\n      }\n    },\n    {\n      \"column\": \"status\",\n      \"properties\": {\n        \"dtype\": \"category\",\n        \"num_unique_values\": 7,\n        \"samples\": [\n          \"Anxiety\",\n          \"Normal\",\n          \"Bipolar\"\n        ],\n        \"semantic_type\": \"\",\n        \"description\": \"\"\n      }\n    },\n    {\n      \"column\": \"Label\",\n      \"properties\": {\n        \"dtype\": \"number\",\n        \"std\": 0,\n        \"min\": 0,\n        \"max\": 0,\n        \"num_unique_values\": 1,\n        \"samples\": [\n          0\n        ],\n        \"semantic_type\": \"\",\n        \"description\": \"\"\n      }\n    }\n  ]\n}",
              "type": "dataframe",
              "variable_name": "df"
            },
            "text/html": [
              "\n",
              "  <div id=\"df-101475aa-e65e-4b96-94dd-4cc50c1def2d\" class=\"colab-df-container\">\n",
              "    <div>\n",
              "<style scoped>\n",
              "    .dataframe tbody tr th:only-of-type {\n",
              "        vertical-align: middle;\n",
              "    }\n",
              "\n",
              "    .dataframe tbody tr th {\n",
              "        vertical-align: top;\n",
              "    }\n",
              "\n",
              "    .dataframe thead th {\n",
              "        text-align: right;\n",
              "    }\n",
              "</style>\n",
              "<table border=\"1\" class=\"dataframe\">\n",
              "  <thead>\n",
              "    <tr style=\"text-align: right;\">\n",
              "      <th></th>\n",
              "      <th>statement</th>\n",
              "      <th>status</th>\n",
              "      <th>Label</th>\n",
              "    </tr>\n",
              "  </thead>\n",
              "  <tbody>\n",
              "    <tr>\n",
              "      <th>0</th>\n",
              "      <td>oh my gosh</td>\n",
              "      <td>Anxiety</td>\n",
              "      <td>0</td>\n",
              "    </tr>\n",
              "  </tbody>\n",
              "</table>\n",
              "</div>\n",
              "    <div class=\"colab-df-buttons\">\n",
              "\n",
              "  <div class=\"colab-df-container\">\n",
              "    <button class=\"colab-df-convert\" onclick=\"convertToInteractive('df-101475aa-e65e-4b96-94dd-4cc50c1def2d')\"\n",
              "            title=\"Convert this dataframe to an interactive table.\"\n",
              "            style=\"display:none;\">\n",
              "\n",
              "  <svg xmlns=\"http://www.w3.org/2000/svg\" height=\"24px\" viewBox=\"0 -960 960 960\">\n",
              "    <path d=\"M120-120v-720h720v720H120Zm60-500h600v-160H180v160Zm220 220h160v-160H400v160Zm0 220h160v-160H400v160ZM180-400h160v-160H180v160Zm440 0h160v-160H620v160ZM180-180h160v-160H180v160Zm440 0h160v-160H620v160Z\"/>\n",
              "  </svg>\n",
              "    </button>\n",
              "\n",
              "  <style>\n",
              "    .colab-df-container {\n",
              "      display:flex;\n",
              "      gap: 12px;\n",
              "    }\n",
              "\n",
              "    .colab-df-convert {\n",
              "      background-color: #E8F0FE;\n",
              "      border: none;\n",
              "      border-radius: 50%;\n",
              "      cursor: pointer;\n",
              "      display: none;\n",
              "      fill: #1967D2;\n",
              "      height: 32px;\n",
              "      padding: 0 0 0 0;\n",
              "      width: 32px;\n",
              "    }\n",
              "\n",
              "    .colab-df-convert:hover {\n",
              "      background-color: #E2EBFA;\n",
              "      box-shadow: 0px 1px 2px rgba(60, 64, 67, 0.3), 0px 1px 3px 1px rgba(60, 64, 67, 0.15);\n",
              "      fill: #174EA6;\n",
              "    }\n",
              "\n",
              "    .colab-df-buttons div {\n",
              "      margin-bottom: 4px;\n",
              "    }\n",
              "\n",
              "    [theme=dark] .colab-df-convert {\n",
              "      background-color: #3B4455;\n",
              "      fill: #D2E3FC;\n",
              "    }\n",
              "\n",
              "    [theme=dark] .colab-df-convert:hover {\n",
              "      background-color: #434B5C;\n",
              "      box-shadow: 0px 1px 3px 1px rgba(0, 0, 0, 0.15);\n",
              "      filter: drop-shadow(0px 1px 2px rgba(0, 0, 0, 0.3));\n",
              "      fill: #FFFFFF;\n",
              "    }\n",
              "  </style>\n",
              "\n",
              "    <script>\n",
              "      const buttonEl =\n",
              "        document.querySelector('#df-101475aa-e65e-4b96-94dd-4cc50c1def2d button.colab-df-convert');\n",
              "      buttonEl.style.display =\n",
              "        google.colab.kernel.accessAllowed ? 'block' : 'none';\n",
              "\n",
              "      async function convertToInteractive(key) {\n",
              "        const element = document.querySelector('#df-101475aa-e65e-4b96-94dd-4cc50c1def2d');\n",
              "        const dataTable =\n",
              "          await google.colab.kernel.invokeFunction('convertToInteractive',\n",
              "                                                    [key], {});\n",
              "        if (!dataTable) return;\n",
              "\n",
              "        const docLinkHtml = 'Like what you see? Visit the ' +\n",
              "          '<a target=\"_blank\" href=https://colab.research.google.com/notebooks/data_table.ipynb>data table notebook</a>'\n",
              "          + ' to learn more about interactive tables.';\n",
              "        element.innerHTML = '';\n",
              "        dataTable['output_type'] = 'display_data';\n",
              "        await google.colab.output.renderOutput(dataTable, element);\n",
              "        const docLink = document.createElement('div');\n",
              "        docLink.innerHTML = docLinkHtml;\n",
              "        element.appendChild(docLink);\n",
              "      }\n",
              "    </script>\n",
              "  </div>\n",
              "\n",
              "\n",
              "    </div>\n",
              "  </div>\n"
            ],
            "text/plain": [
              "    statement   status  Label\n",
              "0  oh my gosh  Anxiety      0"
            ]
          },
          "execution_count": 14,
          "metadata": {},
          "output_type": "execute_result"
        }
      ],
      "source": [
        "# Create a label column in the dataframe and assing all its values to 0\n",
        "df['Label'] = 0\n",
        "df.head(1)"
      ]
    },
    {
      "cell_type": "code",
      "execution_count": 15,
      "id": "af83a1b3",
      "metadata": {
        "id": "af83a1b3"
      },
      "outputs": [],
      "source": [
        "def cluster_status(status):\n",
        "    if status in ['Anxiety','Bipolar','Stress','Personality disorder']:\n",
        "        return 3\n",
        "    elif status == 'Normal':\n",
        "        return 0\n",
        "    elif status == 'Depression':\n",
        "        return 1\n",
        "    elif status == 'Suicidal':\n",
        "        return 2"
      ]
    },
    {
      "cell_type": "code",
      "execution_count": 16,
      "id": "d28a688b",
      "metadata": {
        "id": "d28a688b"
      },
      "outputs": [],
      "source": [
        "df['Label']=df['status'].apply(cluster_status)"
      ]
    },
    {
      "cell_type": "code",
      "execution_count": 17,
      "id": "d736160f",
      "metadata": {
        "colab": {
          "base_uri": "https://localhost:8080/",
          "height": 206
        },
        "id": "d736160f",
        "outputId": "97d27108-629e-40dc-a75b-3358cd7d6f33"
      },
      "outputs": [
        {
          "data": {
            "application/vnd.google.colaboratory.intrinsic+json": {
              "summary": "{\n  \"name\": \"df\",\n  \"rows\": 5,\n  \"fields\": [\n    {\n      \"column\": \"statement\",\n      \"properties\": {\n        \"dtype\": \"string\",\n        \"num_unique_values\": 5,\n        \"samples\": [\n          \"wkwkwk what a joke\",\n          \"wedding teaser concept using the song day6 - only, sounds good ga siiih\",\n          \"Leaves are also standby in front of the PC ... because the office is no longer on leave\"\n        ],\n        \"semantic_type\": \"\",\n        \"description\": \"\"\n      }\n    },\n    {\n      \"column\": \"status\",\n      \"properties\": {\n        \"dtype\": \"category\",\n        \"num_unique_values\": 1,\n        \"samples\": [\n          \"Normal\"\n        ],\n        \"semantic_type\": \"\",\n        \"description\": \"\"\n      }\n    },\n    {\n      \"column\": \"Label\",\n      \"properties\": {\n        \"dtype\": \"number\",\n        \"std\": 0,\n        \"min\": 0,\n        \"max\": 0,\n        \"num_unique_values\": 1,\n        \"samples\": [\n          0\n        ],\n        \"semantic_type\": \"\",\n        \"description\": \"\"\n      }\n    }\n  ]\n}",
              "type": "dataframe"
            },
            "text/html": [
              "\n",
              "  <div id=\"df-a90d91a8-b2e7-45d3-9dab-782eeb49f8d8\" class=\"colab-df-container\">\n",
              "    <div>\n",
              "<style scoped>\n",
              "    .dataframe tbody tr th:only-of-type {\n",
              "        vertical-align: middle;\n",
              "    }\n",
              "\n",
              "    .dataframe tbody tr th {\n",
              "        vertical-align: top;\n",
              "    }\n",
              "\n",
              "    .dataframe thead th {\n",
              "        text-align: right;\n",
              "    }\n",
              "</style>\n",
              "<table border=\"1\" class=\"dataframe\">\n",
              "  <thead>\n",
              "    <tr style=\"text-align: right;\">\n",
              "      <th></th>\n",
              "      <th>statement</th>\n",
              "      <th>status</th>\n",
              "      <th>Label</th>\n",
              "    </tr>\n",
              "  </thead>\n",
              "  <tbody>\n",
              "    <tr>\n",
              "      <th>733</th>\n",
              "      <td>Gr gr dreaming of ex crush to be my game, God</td>\n",
              "      <td>Normal</td>\n",
              "      <td>0</td>\n",
              "    </tr>\n",
              "    <tr>\n",
              "      <th>734</th>\n",
              "      <td>wkwkwk what a joke</td>\n",
              "      <td>Normal</td>\n",
              "      <td>0</td>\n",
              "    </tr>\n",
              "    <tr>\n",
              "      <th>735</th>\n",
              "      <td>Leaves are also standby in front of the PC ......</td>\n",
              "      <td>Normal</td>\n",
              "      <td>0</td>\n",
              "    </tr>\n",
              "    <tr>\n",
              "      <th>736</th>\n",
              "      <td>Thank God even though it's just a ride through</td>\n",
              "      <td>Normal</td>\n",
              "      <td>0</td>\n",
              "    </tr>\n",
              "    <tr>\n",
              "      <th>737</th>\n",
              "      <td>wedding teaser concept using the song day6 - o...</td>\n",
              "      <td>Normal</td>\n",
              "      <td>0</td>\n",
              "    </tr>\n",
              "  </tbody>\n",
              "</table>\n",
              "</div>\n",
              "    <div class=\"colab-df-buttons\">\n",
              "\n",
              "  <div class=\"colab-df-container\">\n",
              "    <button class=\"colab-df-convert\" onclick=\"convertToInteractive('df-a90d91a8-b2e7-45d3-9dab-782eeb49f8d8')\"\n",
              "            title=\"Convert this dataframe to an interactive table.\"\n",
              "            style=\"display:none;\">\n",
              "\n",
              "  <svg xmlns=\"http://www.w3.org/2000/svg\" height=\"24px\" viewBox=\"0 -960 960 960\">\n",
              "    <path d=\"M120-120v-720h720v720H120Zm60-500h600v-160H180v160Zm220 220h160v-160H400v160Zm0 220h160v-160H400v160ZM180-400h160v-160H180v160Zm440 0h160v-160H620v160ZM180-180h160v-160H180v160Zm440 0h160v-160H620v160Z\"/>\n",
              "  </svg>\n",
              "    </button>\n",
              "\n",
              "  <style>\n",
              "    .colab-df-container {\n",
              "      display:flex;\n",
              "      gap: 12px;\n",
              "    }\n",
              "\n",
              "    .colab-df-convert {\n",
              "      background-color: #E8F0FE;\n",
              "      border: none;\n",
              "      border-radius: 50%;\n",
              "      cursor: pointer;\n",
              "      display: none;\n",
              "      fill: #1967D2;\n",
              "      height: 32px;\n",
              "      padding: 0 0 0 0;\n",
              "      width: 32px;\n",
              "    }\n",
              "\n",
              "    .colab-df-convert:hover {\n",
              "      background-color: #E2EBFA;\n",
              "      box-shadow: 0px 1px 2px rgba(60, 64, 67, 0.3), 0px 1px 3px 1px rgba(60, 64, 67, 0.15);\n",
              "      fill: #174EA6;\n",
              "    }\n",
              "\n",
              "    .colab-df-buttons div {\n",
              "      margin-bottom: 4px;\n",
              "    }\n",
              "\n",
              "    [theme=dark] .colab-df-convert {\n",
              "      background-color: #3B4455;\n",
              "      fill: #D2E3FC;\n",
              "    }\n",
              "\n",
              "    [theme=dark] .colab-df-convert:hover {\n",
              "      background-color: #434B5C;\n",
              "      box-shadow: 0px 1px 3px 1px rgba(0, 0, 0, 0.15);\n",
              "      filter: drop-shadow(0px 1px 2px rgba(0, 0, 0, 0.3));\n",
              "      fill: #FFFFFF;\n",
              "    }\n",
              "  </style>\n",
              "\n",
              "    <script>\n",
              "      const buttonEl =\n",
              "        document.querySelector('#df-a90d91a8-b2e7-45d3-9dab-782eeb49f8d8 button.colab-df-convert');\n",
              "      buttonEl.style.display =\n",
              "        google.colab.kernel.accessAllowed ? 'block' : 'none';\n",
              "\n",
              "      async function convertToInteractive(key) {\n",
              "        const element = document.querySelector('#df-a90d91a8-b2e7-45d3-9dab-782eeb49f8d8');\n",
              "        const dataTable =\n",
              "          await google.colab.kernel.invokeFunction('convertToInteractive',\n",
              "                                                    [key], {});\n",
              "        if (!dataTable) return;\n",
              "\n",
              "        const docLinkHtml = 'Like what you see? Visit the ' +\n",
              "          '<a target=\"_blank\" href=https://colab.research.google.com/notebooks/data_table.ipynb>data table notebook</a>'\n",
              "          + ' to learn more about interactive tables.';\n",
              "        element.innerHTML = '';\n",
              "        dataTable['output_type'] = 'display_data';\n",
              "        await google.colab.output.renderOutput(dataTable, element);\n",
              "        const docLink = document.createElement('div');\n",
              "        docLink.innerHTML = docLinkHtml;\n",
              "        element.appendChild(docLink);\n",
              "      }\n",
              "    </script>\n",
              "  </div>\n",
              "\n",
              "\n",
              "    <div id=\"df-a5020ccb-2bfc-4fa9-8020-12b76747bf42\">\n",
              "      <button class=\"colab-df-quickchart\" onclick=\"quickchart('df-a5020ccb-2bfc-4fa9-8020-12b76747bf42')\"\n",
              "                title=\"Suggest charts\"\n",
              "                style=\"display:none;\">\n",
              "\n",
              "<svg xmlns=\"http://www.w3.org/2000/svg\" height=\"24px\"viewBox=\"0 0 24 24\"\n",
              "     width=\"24px\">\n",
              "    <g>\n",
              "        <path d=\"M19 3H5c-1.1 0-2 .9-2 2v14c0 1.1.9 2 2 2h14c1.1 0 2-.9 2-2V5c0-1.1-.9-2-2-2zM9 17H7v-7h2v7zm4 0h-2V7h2v10zm4 0h-2v-4h2v4z\"/>\n",
              "    </g>\n",
              "</svg>\n",
              "      </button>\n",
              "\n",
              "<style>\n",
              "  .colab-df-quickchart {\n",
              "      --bg-color: #E8F0FE;\n",
              "      --fill-color: #1967D2;\n",
              "      --hover-bg-color: #E2EBFA;\n",
              "      --hover-fill-color: #174EA6;\n",
              "      --disabled-fill-color: #AAA;\n",
              "      --disabled-bg-color: #DDD;\n",
              "  }\n",
              "\n",
              "  [theme=dark] .colab-df-quickchart {\n",
              "      --bg-color: #3B4455;\n",
              "      --fill-color: #D2E3FC;\n",
              "      --hover-bg-color: #434B5C;\n",
              "      --hover-fill-color: #FFFFFF;\n",
              "      --disabled-bg-color: #3B4455;\n",
              "      --disabled-fill-color: #666;\n",
              "  }\n",
              "\n",
              "  .colab-df-quickchart {\n",
              "    background-color: var(--bg-color);\n",
              "    border: none;\n",
              "    border-radius: 50%;\n",
              "    cursor: pointer;\n",
              "    display: none;\n",
              "    fill: var(--fill-color);\n",
              "    height: 32px;\n",
              "    padding: 0;\n",
              "    width: 32px;\n",
              "  }\n",
              "\n",
              "  .colab-df-quickchart:hover {\n",
              "    background-color: var(--hover-bg-color);\n",
              "    box-shadow: 0 1px 2px rgba(60, 64, 67, 0.3), 0 1px 3px 1px rgba(60, 64, 67, 0.15);\n",
              "    fill: var(--button-hover-fill-color);\n",
              "  }\n",
              "\n",
              "  .colab-df-quickchart-complete:disabled,\n",
              "  .colab-df-quickchart-complete:disabled:hover {\n",
              "    background-color: var(--disabled-bg-color);\n",
              "    fill: var(--disabled-fill-color);\n",
              "    box-shadow: none;\n",
              "  }\n",
              "\n",
              "  .colab-df-spinner {\n",
              "    border: 2px solid var(--fill-color);\n",
              "    border-color: transparent;\n",
              "    border-bottom-color: var(--fill-color);\n",
              "    animation:\n",
              "      spin 1s steps(1) infinite;\n",
              "  }\n",
              "\n",
              "  @keyframes spin {\n",
              "    0% {\n",
              "      border-color: transparent;\n",
              "      border-bottom-color: var(--fill-color);\n",
              "      border-left-color: var(--fill-color);\n",
              "    }\n",
              "    20% {\n",
              "      border-color: transparent;\n",
              "      border-left-color: var(--fill-color);\n",
              "      border-top-color: var(--fill-color);\n",
              "    }\n",
              "    30% {\n",
              "      border-color: transparent;\n",
              "      border-left-color: var(--fill-color);\n",
              "      border-top-color: var(--fill-color);\n",
              "      border-right-color: var(--fill-color);\n",
              "    }\n",
              "    40% {\n",
              "      border-color: transparent;\n",
              "      border-right-color: var(--fill-color);\n",
              "      border-top-color: var(--fill-color);\n",
              "    }\n",
              "    60% {\n",
              "      border-color: transparent;\n",
              "      border-right-color: var(--fill-color);\n",
              "    }\n",
              "    80% {\n",
              "      border-color: transparent;\n",
              "      border-right-color: var(--fill-color);\n",
              "      border-bottom-color: var(--fill-color);\n",
              "    }\n",
              "    90% {\n",
              "      border-color: transparent;\n",
              "      border-bottom-color: var(--fill-color);\n",
              "    }\n",
              "  }\n",
              "</style>\n",
              "\n",
              "      <script>\n",
              "        async function quickchart(key) {\n",
              "          const quickchartButtonEl =\n",
              "            document.querySelector('#' + key + ' button');\n",
              "          quickchartButtonEl.disabled = true;  // To prevent multiple clicks.\n",
              "          quickchartButtonEl.classList.add('colab-df-spinner');\n",
              "          try {\n",
              "            const charts = await google.colab.kernel.invokeFunction(\n",
              "                'suggestCharts', [key], {});\n",
              "          } catch (error) {\n",
              "            console.error('Error during call to suggestCharts:', error);\n",
              "          }\n",
              "          quickchartButtonEl.classList.remove('colab-df-spinner');\n",
              "          quickchartButtonEl.classList.add('colab-df-quickchart-complete');\n",
              "        }\n",
              "        (() => {\n",
              "          let quickchartButtonEl =\n",
              "            document.querySelector('#df-a5020ccb-2bfc-4fa9-8020-12b76747bf42 button');\n",
              "          quickchartButtonEl.style.display =\n",
              "            google.colab.kernel.accessAllowed ? 'block' : 'none';\n",
              "        })();\n",
              "      </script>\n",
              "    </div>\n",
              "\n",
              "    </div>\n",
              "  </div>\n"
            ],
            "text/plain": [
              "                                             statement  status  Label\n",
              "733      Gr gr dreaming of ex crush to be my game, God  Normal      0\n",
              "734                                 wkwkwk what a joke  Normal      0\n",
              "735  Leaves are also standby in front of the PC ......  Normal      0\n",
              "736     Thank God even though it's just a ride through  Normal      0\n",
              "737  wedding teaser concept using the song day6 - o...  Normal      0"
            ]
          },
          "execution_count": 17,
          "metadata": {},
          "output_type": "execute_result"
        }
      ],
      "source": [
        "# df.loc[df['status']=='Anxiety'].head()  # note that we checked differnt status to be sure\n",
        "df.loc[df['status']=='Normal'].head()"
      ]
    },
    {
      "cell_type": "markdown",
      "id": "289e5bd0",
      "metadata": {
        "id": "289e5bd0"
      },
      "source": [
        "# Text Preprocessing"
      ]
    },
    {
      "cell_type": "code",
      "execution_count": 18,
      "id": "136a21bb",
      "metadata": {
        "id": "136a21bb"
      },
      "outputs": [],
      "source": [
        "# A list of contractions from http://stackoverflow.com/questions/19790188/expanding-english-language-contractions-in-python\n",
        "contractions = {\n",
        "\"ain't\": \"am not\",\n",
        "\"aren't\": \"are not\",\n",
        "\"can't\": \"cannot\",\n",
        "\"can't've\": \"cannot have\",\n",
        "\"'cause\": \"because\",\n",
        "\"could've\": \"could have\",\n",
        "\"couldn't\": \"could not\",\n",
        "\"couldn't've\": \"could not have\",\n",
        "\"didn't\": \"did not\",\n",
        "\"doesn't\": \"does not\",\n",
        "\"don't\": \"do not\",\n",
        "\"hadn't\": \"had not\",\n",
        "\"hadn't've\": \"had not have\",\n",
        "\"hasn't\": \"has not\",\n",
        "\"haven't\": \"have not\",\n",
        "\"he'd\": \"he would\",\n",
        "\"he'd've\": \"he would have\",\n",
        "\"he'll\": \"he will\",\n",
        "\"he's\": \"he is\",\n",
        "\"how'd\": \"how did\",\n",
        "\"how'll\": \"how will\",\n",
        "\"how's\": \"how is\",\n",
        "\"i'd\": \"i would\",\n",
        "\"i'll\": \"i will\",\n",
        "\"i'm\": \"i am\",\n",
        "\"i've\": \"i have\",\n",
        "\"isn't\": \"is not\",\n",
        "\"it'd\": \"it would\",\n",
        "\"it'll\": \"it will\",\n",
        "\"it's\": \"it is\",\n",
        "\"let's\": \"let us\",\n",
        "\"ma'am\": \"madam\",\n",
        "\"mayn't\": \"may not\",\n",
        "\"might've\": \"might have\",\n",
        "\"mightn't\": \"might not\",\n",
        "\"must've\": \"must have\",\n",
        "\"mustn't\": \"must not\",\n",
        "\"needn't\": \"need not\",\n",
        "\"oughtn't\": \"ought not\",\n",
        "\"shan't\": \"shall not\",\n",
        "\"sha'n't\": \"shall not\",\n",
        "\"she'd\": \"she would\",\n",
        "\"she'll\": \"she will\",\n",
        "\"she's\": \"she is\",\n",
        "\"should've\": \"should have\",\n",
        "\"shouldn't\": \"should not\",\n",
        "\"that'd\": \"that would\",\n",
        "\"that's\": \"that is\",\n",
        "\"there'd\": \"there had\",\n",
        "\"there's\": \"there is\",\n",
        "\"they'd\": \"they would\",\n",
        "\"they'll\": \"they will\",\n",
        "\"they're\": \"they are\",\n",
        "\"they've\": \"they have\",\n",
        "\"wasn't\": \"was not\",\n",
        "\"we'd\": \"we would\",\n",
        "\"we'll\": \"we will\",\n",
        "\"we're\": \"we are\",\n",
        "\"we've\": \"we have\",\n",
        "\"weren't\": \"were not\",\n",
        "\"what'll\": \"what will\",\n",
        "\"what're\": \"what are\",\n",
        "\"what's\": \"what is\",\n",
        "\"what've\": \"what have\",\n",
        "\"where'd\": \"where did\",\n",
        "\"where's\": \"where is\",\n",
        "\"who'll\": \"who will\",\n",
        "\"who's\": \"who is\",\n",
        "\"won't\": \"will not\",\n",
        "\"wouldn't\": \"would not\",\n",
        "\"you'd\": \"you would\",\n",
        "\"you'll\": \"you will\",\n",
        "\"you're\": \"you are\"\n",
        "}"
      ]
    },
    {
      "cell_type": "code",
      "execution_count": 19,
      "id": "bc05c559",
      "metadata": {
        "id": "bc05c559"
      },
      "outputs": [],
      "source": [
        "# function to replace the contracted words with their longer counterparts\n",
        "def decontract_words(text):\n",
        "    text = text.split()\n",
        "    new_text = []\n",
        "    for word in text:\n",
        "        if word in contractions:\n",
        "            new_text.append(contractions[word])\n",
        "        else:\n",
        "            new_text.append(word)\n",
        "    return \" \".join(new_text)"
      ]
    },
    {
      "cell_type": "code",
      "execution_count": 20,
      "id": "8bd8d18a",
      "metadata": {
        "id": "8bd8d18a"
      },
      "outputs": [],
      "source": [
        "# function to format words and remove unwanted characters using regex\n",
        "def format_text_regex(text):\n",
        "    # ^https?:\\/\\/(?:www\\.)?[-a-zA-Z0-9@:%.\\+~#=]{1,256}\\.[a-zA-Z0-9()]{1,6}\\b(?:[-a-zA-Z0-9()@:%\\+.~#?&\\/=]*)$\n",
        "    text = re.sub(r'https?:\\/\\/.*[\\r\\n]*', '', text, flags=re.MULTILINE) #clean all URLs\n",
        "    text = re.sub(r'\\<a href', ' ', text) #clean html style URL\n",
        "    text = re.sub(r'&amp;', '', text) #remove &amp; chars\n",
        "    text = re.sub(r'[_\"\\-;%()|+&=*%.,!?:#$@\\[\\]/]', ' ', text) #remove special characters\n",
        "    text = re.sub(r'<br />', ' ', text) #remove html style <br>\n",
        "    text = re.sub(r'\\'', ' ', text)\n",
        "    return text"
      ]
    },
    {
      "cell_type": "code",
      "execution_count": 21,
      "id": "0dad6169",
      "metadata": {
        "colab": {
          "base_uri": "https://localhost:8080/"
        },
        "id": "0dad6169",
        "outputId": "4fdb5ad8-01be-438f-9cae-f1b2bd617e0c"
      },
      "outputs": [
        {
          "name": "stderr",
          "output_type": "stream",
          "text": [
            "[nltk_data] Downloading package stopwords to /root/nltk_data...\n",
            "[nltk_data]   Package stopwords is already up-to-date!\n"
          ]
        }
      ],
      "source": [
        "# function to remove stop words usng the nltk\n",
        "nltk.download('stopwords')\n",
        "def remove_stopwords(text):\n",
        "    text = text.split()\n",
        "    stops = set(stopwords.words(\"english\"))\n",
        "    text = [w for w in text if not w in stops]\n",
        "    return \" \".join(text)"
      ]
    },
    {
      "cell_type": "code",
      "execution_count": 22,
      "id": "e02eb735",
      "metadata": {
        "id": "e02eb735"
      },
      "outputs": [],
      "source": [
        "# function that groups logic from other preprocessing functions to clean text\n",
        "def clean_text(text):\n",
        "\n",
        "    # Convert words to lower case\n",
        "    text = text.lower()\n",
        "\n",
        "    # Use other preprocessing functions\n",
        "    text = decontract_words(text)\n",
        "    text = format_text_regex(text)\n",
        "    text = remove_stopwords(text)\n",
        "\n",
        "    # Tokenize each word\n",
        "    text =  nltk.WordPunctTokenizer().tokenize(text)\n",
        "\n",
        "    return text"
      ]
    },
    {
      "cell_type": "code",
      "execution_count": 23,
      "id": "52563ba7",
      "metadata": {
        "colab": {
          "base_uri": "https://localhost:8080/"
        },
        "id": "52563ba7",
        "outputId": "b66f5239-1208-4b39-c950-3e68e85a5166"
      },
      "outputs": [
        {
          "name": "stdout",
          "output_type": "stream",
          "text": [
            "<class 'pandas.core.frame.DataFrame'>\n",
            "Index: 51073 entries, 0 to 52840\n",
            "Data columns (total 3 columns):\n",
            " #   Column     Non-Null Count  Dtype \n",
            "---  ------     --------------  ----- \n",
            " 0   statement  51073 non-null  object\n",
            " 1   status     51073 non-null  object\n",
            " 2   Label      51073 non-null  int64 \n",
            "dtypes: int64(1), object(2)\n",
            "memory usage: 1.6+ MB\n"
          ]
        }
      ],
      "source": [
        "df.info()"
      ]
    },
    {
      "cell_type": "code",
      "execution_count": 24,
      "id": "fb292bfa",
      "metadata": {
        "colab": {
          "base_uri": "https://localhost:8080/",
          "height": 178
        },
        "id": "fb292bfa",
        "outputId": "98c50301-6a13-4bec-d687-54a544267e7a"
      },
      "outputs": [
        {
          "data": {
            "application/vnd.google.colaboratory.intrinsic+json": {
              "summary": "{\n  \"name\": \"df\",\n  \"rows\": 51073,\n  \"fields\": [\n    {\n      \"column\": \"statement\",\n      \"properties\": {\n        \"dtype\": \"string\",\n        \"num_unique_values\": 51073,\n        \"samples\": [\n          \"he's been a chain smoker for 30 years.\",\n          \"Dependence on therapist I attend IOP groups and individual therapy sessions at the same place, my therapist who I have worked with on and off for a year and a couple months just told me today that she is leaving soon and I am heartbroken. I love my therapist and I don't know how I am going to keep progressing without her. There will be a replacement for her but idk what to do, I don't want a different therapist. :(\",\n          \"These feelings constantly come back. Someone from my past that hurt me came back a month ago and once again disrespected me and i just feel like shit. Idk why these feelings keep resurfacing but it just hurts. I do not want to be over dramatic but Its hurts when you were nothing but loving/kind to someone and they disrespect you. I just hate feeling like this, feeling like i cannot trust anyone or that no one would ever truly love me unless i have something to offer. I am always worried about my looks and its just making me depressed. I really do not feel like i fit in with the world I am just here. Idk what my next step should be to get help but I am really going through it. (Yes I am in therapy) but how do i help myself ? I have been depressed/anxious for years and most day i do not even leave my house. But nobody around me seems to care and honestly I am tired of feeling this way. But at the same time i do not want to give up on myself bc i feel like I am here to be somebody great. I am just trying to find my way right now. It keeps coming back\"\n        ],\n        \"semantic_type\": \"\",\n        \"description\": \"\"\n      }\n    },\n    {\n      \"column\": \"status\",\n      \"properties\": {\n        \"dtype\": \"category\",\n        \"num_unique_values\": 7,\n        \"samples\": [\n          \"Anxiety\",\n          \"Normal\",\n          \"Bipolar\"\n        ],\n        \"semantic_type\": \"\",\n        \"description\": \"\"\n      }\n    },\n    {\n      \"column\": \"Label\",\n      \"properties\": {\n        \"dtype\": \"number\",\n        \"std\": 1,\n        \"min\": 0,\n        \"max\": 3,\n        \"num_unique_values\": 4,\n        \"samples\": [\n          0,\n          2,\n          3\n        ],\n        \"semantic_type\": \"\",\n        \"description\": \"\"\n      }\n    },\n    {\n      \"column\": \"Text_Cleaned\",\n      \"properties\": {\n        \"dtype\": \"object\",\n        \"semantic_type\": \"\",\n        \"description\": \"\"\n      }\n    }\n  ]\n}",
              "type": "dataframe",
              "variable_name": "df"
            },
            "text/html": [
              "\n",
              "  <div id=\"df-4f5b8119-33d9-4aba-889f-275873115907\" class=\"colab-df-container\">\n",
              "    <div>\n",
              "<style scoped>\n",
              "    .dataframe tbody tr th:only-of-type {\n",
              "        vertical-align: middle;\n",
              "    }\n",
              "\n",
              "    .dataframe tbody tr th {\n",
              "        vertical-align: top;\n",
              "    }\n",
              "\n",
              "    .dataframe thead th {\n",
              "        text-align: right;\n",
              "    }\n",
              "</style>\n",
              "<table border=\"1\" class=\"dataframe\">\n",
              "  <thead>\n",
              "    <tr style=\"text-align: right;\">\n",
              "      <th></th>\n",
              "      <th>statement</th>\n",
              "      <th>status</th>\n",
              "      <th>Label</th>\n",
              "      <th>Text_Cleaned</th>\n",
              "    </tr>\n",
              "  </thead>\n",
              "  <tbody>\n",
              "    <tr>\n",
              "      <th>0</th>\n",
              "      <td>oh my gosh</td>\n",
              "      <td>Anxiety</td>\n",
              "      <td>3</td>\n",
              "      <td>[oh, gosh]</td>\n",
              "    </tr>\n",
              "    <tr>\n",
              "      <th>1</th>\n",
              "      <td>trouble sleeping, confused mind, restless hear...</td>\n",
              "      <td>Anxiety</td>\n",
              "      <td>3</td>\n",
              "      <td>[trouble, sleeping, confused, mind, restless, ...</td>\n",
              "    </tr>\n",
              "    <tr>\n",
              "      <th>2</th>\n",
              "      <td>All wrong, back off dear, forward doubt. Stay ...</td>\n",
              "      <td>Anxiety</td>\n",
              "      <td>3</td>\n",
              "      <td>[wrong, back, dear, forward, doubt, stay, rest...</td>\n",
              "    </tr>\n",
              "  </tbody>\n",
              "</table>\n",
              "</div>\n",
              "    <div class=\"colab-df-buttons\">\n",
              "\n",
              "  <div class=\"colab-df-container\">\n",
              "    <button class=\"colab-df-convert\" onclick=\"convertToInteractive('df-4f5b8119-33d9-4aba-889f-275873115907')\"\n",
              "            title=\"Convert this dataframe to an interactive table.\"\n",
              "            style=\"display:none;\">\n",
              "\n",
              "  <svg xmlns=\"http://www.w3.org/2000/svg\" height=\"24px\" viewBox=\"0 -960 960 960\">\n",
              "    <path d=\"M120-120v-720h720v720H120Zm60-500h600v-160H180v160Zm220 220h160v-160H400v160Zm0 220h160v-160H400v160ZM180-400h160v-160H180v160Zm440 0h160v-160H620v160ZM180-180h160v-160H180v160Zm440 0h160v-160H620v160Z\"/>\n",
              "  </svg>\n",
              "    </button>\n",
              "\n",
              "  <style>\n",
              "    .colab-df-container {\n",
              "      display:flex;\n",
              "      gap: 12px;\n",
              "    }\n",
              "\n",
              "    .colab-df-convert {\n",
              "      background-color: #E8F0FE;\n",
              "      border: none;\n",
              "      border-radius: 50%;\n",
              "      cursor: pointer;\n",
              "      display: none;\n",
              "      fill: #1967D2;\n",
              "      height: 32px;\n",
              "      padding: 0 0 0 0;\n",
              "      width: 32px;\n",
              "    }\n",
              "\n",
              "    .colab-df-convert:hover {\n",
              "      background-color: #E2EBFA;\n",
              "      box-shadow: 0px 1px 2px rgba(60, 64, 67, 0.3), 0px 1px 3px 1px rgba(60, 64, 67, 0.15);\n",
              "      fill: #174EA6;\n",
              "    }\n",
              "\n",
              "    .colab-df-buttons div {\n",
              "      margin-bottom: 4px;\n",
              "    }\n",
              "\n",
              "    [theme=dark] .colab-df-convert {\n",
              "      background-color: #3B4455;\n",
              "      fill: #D2E3FC;\n",
              "    }\n",
              "\n",
              "    [theme=dark] .colab-df-convert:hover {\n",
              "      background-color: #434B5C;\n",
              "      box-shadow: 0px 1px 3px 1px rgba(0, 0, 0, 0.15);\n",
              "      filter: drop-shadow(0px 1px 2px rgba(0, 0, 0, 0.3));\n",
              "      fill: #FFFFFF;\n",
              "    }\n",
              "  </style>\n",
              "\n",
              "    <script>\n",
              "      const buttonEl =\n",
              "        document.querySelector('#df-4f5b8119-33d9-4aba-889f-275873115907 button.colab-df-convert');\n",
              "      buttonEl.style.display =\n",
              "        google.colab.kernel.accessAllowed ? 'block' : 'none';\n",
              "\n",
              "      async function convertToInteractive(key) {\n",
              "        const element = document.querySelector('#df-4f5b8119-33d9-4aba-889f-275873115907');\n",
              "        const dataTable =\n",
              "          await google.colab.kernel.invokeFunction('convertToInteractive',\n",
              "                                                    [key], {});\n",
              "        if (!dataTable) return;\n",
              "\n",
              "        const docLinkHtml = 'Like what you see? Visit the ' +\n",
              "          '<a target=\"_blank\" href=https://colab.research.google.com/notebooks/data_table.ipynb>data table notebook</a>'\n",
              "          + ' to learn more about interactive tables.';\n",
              "        element.innerHTML = '';\n",
              "        dataTable['output_type'] = 'display_data';\n",
              "        await google.colab.output.renderOutput(dataTable, element);\n",
              "        const docLink = document.createElement('div');\n",
              "        docLink.innerHTML = docLinkHtml;\n",
              "        element.appendChild(docLink);\n",
              "      }\n",
              "    </script>\n",
              "  </div>\n",
              "\n",
              "\n",
              "    <div id=\"df-76b38e22-3d22-44f8-b85b-75ec02180b2e\">\n",
              "      <button class=\"colab-df-quickchart\" onclick=\"quickchart('df-76b38e22-3d22-44f8-b85b-75ec02180b2e')\"\n",
              "                title=\"Suggest charts\"\n",
              "                style=\"display:none;\">\n",
              "\n",
              "<svg xmlns=\"http://www.w3.org/2000/svg\" height=\"24px\"viewBox=\"0 0 24 24\"\n",
              "     width=\"24px\">\n",
              "    <g>\n",
              "        <path d=\"M19 3H5c-1.1 0-2 .9-2 2v14c0 1.1.9 2 2 2h14c1.1 0 2-.9 2-2V5c0-1.1-.9-2-2-2zM9 17H7v-7h2v7zm4 0h-2V7h2v10zm4 0h-2v-4h2v4z\"/>\n",
              "    </g>\n",
              "</svg>\n",
              "      </button>\n",
              "\n",
              "<style>\n",
              "  .colab-df-quickchart {\n",
              "      --bg-color: #E8F0FE;\n",
              "      --fill-color: #1967D2;\n",
              "      --hover-bg-color: #E2EBFA;\n",
              "      --hover-fill-color: #174EA6;\n",
              "      --disabled-fill-color: #AAA;\n",
              "      --disabled-bg-color: #DDD;\n",
              "  }\n",
              "\n",
              "  [theme=dark] .colab-df-quickchart {\n",
              "      --bg-color: #3B4455;\n",
              "      --fill-color: #D2E3FC;\n",
              "      --hover-bg-color: #434B5C;\n",
              "      --hover-fill-color: #FFFFFF;\n",
              "      --disabled-bg-color: #3B4455;\n",
              "      --disabled-fill-color: #666;\n",
              "  }\n",
              "\n",
              "  .colab-df-quickchart {\n",
              "    background-color: var(--bg-color);\n",
              "    border: none;\n",
              "    border-radius: 50%;\n",
              "    cursor: pointer;\n",
              "    display: none;\n",
              "    fill: var(--fill-color);\n",
              "    height: 32px;\n",
              "    padding: 0;\n",
              "    width: 32px;\n",
              "  }\n",
              "\n",
              "  .colab-df-quickchart:hover {\n",
              "    background-color: var(--hover-bg-color);\n",
              "    box-shadow: 0 1px 2px rgba(60, 64, 67, 0.3), 0 1px 3px 1px rgba(60, 64, 67, 0.15);\n",
              "    fill: var(--button-hover-fill-color);\n",
              "  }\n",
              "\n",
              "  .colab-df-quickchart-complete:disabled,\n",
              "  .colab-df-quickchart-complete:disabled:hover {\n",
              "    background-color: var(--disabled-bg-color);\n",
              "    fill: var(--disabled-fill-color);\n",
              "    box-shadow: none;\n",
              "  }\n",
              "\n",
              "  .colab-df-spinner {\n",
              "    border: 2px solid var(--fill-color);\n",
              "    border-color: transparent;\n",
              "    border-bottom-color: var(--fill-color);\n",
              "    animation:\n",
              "      spin 1s steps(1) infinite;\n",
              "  }\n",
              "\n",
              "  @keyframes spin {\n",
              "    0% {\n",
              "      border-color: transparent;\n",
              "      border-bottom-color: var(--fill-color);\n",
              "      border-left-color: var(--fill-color);\n",
              "    }\n",
              "    20% {\n",
              "      border-color: transparent;\n",
              "      border-left-color: var(--fill-color);\n",
              "      border-top-color: var(--fill-color);\n",
              "    }\n",
              "    30% {\n",
              "      border-color: transparent;\n",
              "      border-left-color: var(--fill-color);\n",
              "      border-top-color: var(--fill-color);\n",
              "      border-right-color: var(--fill-color);\n",
              "    }\n",
              "    40% {\n",
              "      border-color: transparent;\n",
              "      border-right-color: var(--fill-color);\n",
              "      border-top-color: var(--fill-color);\n",
              "    }\n",
              "    60% {\n",
              "      border-color: transparent;\n",
              "      border-right-color: var(--fill-color);\n",
              "    }\n",
              "    80% {\n",
              "      border-color: transparent;\n",
              "      border-right-color: var(--fill-color);\n",
              "      border-bottom-color: var(--fill-color);\n",
              "    }\n",
              "    90% {\n",
              "      border-color: transparent;\n",
              "      border-bottom-color: var(--fill-color);\n",
              "    }\n",
              "  }\n",
              "</style>\n",
              "\n",
              "      <script>\n",
              "        async function quickchart(key) {\n",
              "          const quickchartButtonEl =\n",
              "            document.querySelector('#' + key + ' button');\n",
              "          quickchartButtonEl.disabled = true;  // To prevent multiple clicks.\n",
              "          quickchartButtonEl.classList.add('colab-df-spinner');\n",
              "          try {\n",
              "            const charts = await google.colab.kernel.invokeFunction(\n",
              "                'suggestCharts', [key], {});\n",
              "          } catch (error) {\n",
              "            console.error('Error during call to suggestCharts:', error);\n",
              "          }\n",
              "          quickchartButtonEl.classList.remove('colab-df-spinner');\n",
              "          quickchartButtonEl.classList.add('colab-df-quickchart-complete');\n",
              "        }\n",
              "        (() => {\n",
              "          let quickchartButtonEl =\n",
              "            document.querySelector('#df-76b38e22-3d22-44f8-b85b-75ec02180b2e button');\n",
              "          quickchartButtonEl.style.display =\n",
              "            google.colab.kernel.accessAllowed ? 'block' : 'none';\n",
              "        })();\n",
              "      </script>\n",
              "    </div>\n",
              "\n",
              "    </div>\n",
              "  </div>\n"
            ],
            "text/plain": [
              "                                           statement   status  Label  \\\n",
              "0                                         oh my gosh  Anxiety      3   \n",
              "1  trouble sleeping, confused mind, restless hear...  Anxiety      3   \n",
              "2  All wrong, back off dear, forward doubt. Stay ...  Anxiety      3   \n",
              "\n",
              "                                        Text_Cleaned  \n",
              "0                                         [oh, gosh]  \n",
              "1  [trouble, sleeping, confused, mind, restless, ...  \n",
              "2  [wrong, back, dear, forward, doubt, stay, rest...  "
            ]
          },
          "execution_count": 24,
          "metadata": {},
          "output_type": "execute_result"
        }
      ],
      "source": [
        "# Use the map to apply the clean_text on the df.statement column and store the result in a new column called text_cleaned\n",
        "df['Text_Cleaned'] = list(map(clean_text, df.statement))\n",
        "df.head(3)"
      ]
    },
    {
      "cell_type": "code",
      "execution_count": 25,
      "id": "458e5002",
      "metadata": {
        "colab": {
          "base_uri": "https://localhost:8080/",
          "height": 213
        },
        "id": "458e5002",
        "outputId": "00901a14-bb33-4939-e842-a19786248a3d"
      },
      "outputs": [
        {
          "data": {
            "application/vnd.google.colaboratory.intrinsic+json": {
              "summary": "{\n  \"name\": \"df\",\n  \"rows\": 51073,\n  \"fields\": [\n    {\n      \"column\": \"statement\",\n      \"properties\": {\n        \"dtype\": \"string\",\n        \"num_unique_values\": 51073,\n        \"samples\": [\n          \"he's been a chain smoker for 30 years.\",\n          \"Dependence on therapist I attend IOP groups and individual therapy sessions at the same place, my therapist who I have worked with on and off for a year and a couple months just told me today that she is leaving soon and I am heartbroken. I love my therapist and I don't know how I am going to keep progressing without her. There will be a replacement for her but idk what to do, I don't want a different therapist. :(\",\n          \"These feelings constantly come back. Someone from my past that hurt me came back a month ago and once again disrespected me and i just feel like shit. Idk why these feelings keep resurfacing but it just hurts. I do not want to be over dramatic but Its hurts when you were nothing but loving/kind to someone and they disrespect you. I just hate feeling like this, feeling like i cannot trust anyone or that no one would ever truly love me unless i have something to offer. I am always worried about my looks and its just making me depressed. I really do not feel like i fit in with the world I am just here. Idk what my next step should be to get help but I am really going through it. (Yes I am in therapy) but how do i help myself ? I have been depressed/anxious for years and most day i do not even leave my house. But nobody around me seems to care and honestly I am tired of feeling this way. But at the same time i do not want to give up on myself bc i feel like I am here to be somebody great. I am just trying to find my way right now. It keeps coming back\"\n        ],\n        \"semantic_type\": \"\",\n        \"description\": \"\"\n      }\n    },\n    {\n      \"column\": \"status\",\n      \"properties\": {\n        \"dtype\": \"category\",\n        \"num_unique_values\": 7,\n        \"samples\": [\n          \"Anxiety\",\n          \"Normal\",\n          \"Bipolar\"\n        ],\n        \"semantic_type\": \"\",\n        \"description\": \"\"\n      }\n    },\n    {\n      \"column\": \"Label\",\n      \"properties\": {\n        \"dtype\": \"number\",\n        \"std\": 1,\n        \"min\": 0,\n        \"max\": 3,\n        \"num_unique_values\": 4,\n        \"samples\": [\n          0,\n          2,\n          3\n        ],\n        \"semantic_type\": \"\",\n        \"description\": \"\"\n      }\n    },\n    {\n      \"column\": \"Text_Cleaned\",\n      \"properties\": {\n        \"dtype\": \"object\",\n        \"semantic_type\": \"\",\n        \"description\": \"\"\n      }\n    },\n    {\n      \"column\": \"lemmatized_text\",\n      \"properties\": {\n        \"dtype\": \"object\",\n        \"semantic_type\": \"\",\n        \"description\": \"\"\n      }\n    }\n  ]\n}",
              "type": "dataframe",
              "variable_name": "df"
            },
            "text/html": [
              "\n",
              "  <div id=\"df-b5dc8360-23f6-4c59-8cb6-febbc5d38bd3\" class=\"colab-df-container\">\n",
              "    <div>\n",
              "<style scoped>\n",
              "    .dataframe tbody tr th:only-of-type {\n",
              "        vertical-align: middle;\n",
              "    }\n",
              "\n",
              "    .dataframe tbody tr th {\n",
              "        vertical-align: top;\n",
              "    }\n",
              "\n",
              "    .dataframe thead th {\n",
              "        text-align: right;\n",
              "    }\n",
              "</style>\n",
              "<table border=\"1\" class=\"dataframe\">\n",
              "  <thead>\n",
              "    <tr style=\"text-align: right;\">\n",
              "      <th></th>\n",
              "      <th>statement</th>\n",
              "      <th>status</th>\n",
              "      <th>Label</th>\n",
              "      <th>Text_Cleaned</th>\n",
              "      <th>lemmatized_text</th>\n",
              "    </tr>\n",
              "  </thead>\n",
              "  <tbody>\n",
              "    <tr>\n",
              "      <th>0</th>\n",
              "      <td>oh my gosh</td>\n",
              "      <td>Anxiety</td>\n",
              "      <td>3</td>\n",
              "      <td>[oh, gosh]</td>\n",
              "      <td>[oh, gosh]</td>\n",
              "    </tr>\n",
              "    <tr>\n",
              "      <th>1</th>\n",
              "      <td>trouble sleeping, confused mind, restless hear...</td>\n",
              "      <td>Anxiety</td>\n",
              "      <td>3</td>\n",
              "      <td>[trouble, sleeping, confused, mind, restless, ...</td>\n",
              "      <td>[trouble, sleeping, confused, mind, restless, ...</td>\n",
              "    </tr>\n",
              "    <tr>\n",
              "      <th>2</th>\n",
              "      <td>All wrong, back off dear, forward doubt. Stay ...</td>\n",
              "      <td>Anxiety</td>\n",
              "      <td>3</td>\n",
              "      <td>[wrong, back, dear, forward, doubt, stay, rest...</td>\n",
              "      <td>[wrong, back, dear, forward, doubt, stay, rest...</td>\n",
              "    </tr>\n",
              "  </tbody>\n",
              "</table>\n",
              "</div>\n",
              "    <div class=\"colab-df-buttons\">\n",
              "\n",
              "  <div class=\"colab-df-container\">\n",
              "    <button class=\"colab-df-convert\" onclick=\"convertToInteractive('df-b5dc8360-23f6-4c59-8cb6-febbc5d38bd3')\"\n",
              "            title=\"Convert this dataframe to an interactive table.\"\n",
              "            style=\"display:none;\">\n",
              "\n",
              "  <svg xmlns=\"http://www.w3.org/2000/svg\" height=\"24px\" viewBox=\"0 -960 960 960\">\n",
              "    <path d=\"M120-120v-720h720v720H120Zm60-500h600v-160H180v160Zm220 220h160v-160H400v160Zm0 220h160v-160H400v160ZM180-400h160v-160H180v160Zm440 0h160v-160H620v160ZM180-180h160v-160H180v160Zm440 0h160v-160H620v160Z\"/>\n",
              "  </svg>\n",
              "    </button>\n",
              "\n",
              "  <style>\n",
              "    .colab-df-container {\n",
              "      display:flex;\n",
              "      gap: 12px;\n",
              "    }\n",
              "\n",
              "    .colab-df-convert {\n",
              "      background-color: #E8F0FE;\n",
              "      border: none;\n",
              "      border-radius: 50%;\n",
              "      cursor: pointer;\n",
              "      display: none;\n",
              "      fill: #1967D2;\n",
              "      height: 32px;\n",
              "      padding: 0 0 0 0;\n",
              "      width: 32px;\n",
              "    }\n",
              "\n",
              "    .colab-df-convert:hover {\n",
              "      background-color: #E2EBFA;\n",
              "      box-shadow: 0px 1px 2px rgba(60, 64, 67, 0.3), 0px 1px 3px 1px rgba(60, 64, 67, 0.15);\n",
              "      fill: #174EA6;\n",
              "    }\n",
              "\n",
              "    .colab-df-buttons div {\n",
              "      margin-bottom: 4px;\n",
              "    }\n",
              "\n",
              "    [theme=dark] .colab-df-convert {\n",
              "      background-color: #3B4455;\n",
              "      fill: #D2E3FC;\n",
              "    }\n",
              "\n",
              "    [theme=dark] .colab-df-convert:hover {\n",
              "      background-color: #434B5C;\n",
              "      box-shadow: 0px 1px 3px 1px rgba(0, 0, 0, 0.15);\n",
              "      filter: drop-shadow(0px 1px 2px rgba(0, 0, 0, 0.3));\n",
              "      fill: #FFFFFF;\n",
              "    }\n",
              "  </style>\n",
              "\n",
              "    <script>\n",
              "      const buttonEl =\n",
              "        document.querySelector('#df-b5dc8360-23f6-4c59-8cb6-febbc5d38bd3 button.colab-df-convert');\n",
              "      buttonEl.style.display =\n",
              "        google.colab.kernel.accessAllowed ? 'block' : 'none';\n",
              "\n",
              "      async function convertToInteractive(key) {\n",
              "        const element = document.querySelector('#df-b5dc8360-23f6-4c59-8cb6-febbc5d38bd3');\n",
              "        const dataTable =\n",
              "          await google.colab.kernel.invokeFunction('convertToInteractive',\n",
              "                                                    [key], {});\n",
              "        if (!dataTable) return;\n",
              "\n",
              "        const docLinkHtml = 'Like what you see? Visit the ' +\n",
              "          '<a target=\"_blank\" href=https://colab.research.google.com/notebooks/data_table.ipynb>data table notebook</a>'\n",
              "          + ' to learn more about interactive tables.';\n",
              "        element.innerHTML = '';\n",
              "        dataTable['output_type'] = 'display_data';\n",
              "        await google.colab.output.renderOutput(dataTable, element);\n",
              "        const docLink = document.createElement('div');\n",
              "        docLink.innerHTML = docLinkHtml;\n",
              "        element.appendChild(docLink);\n",
              "      }\n",
              "    </script>\n",
              "  </div>\n",
              "\n",
              "\n",
              "    <div id=\"df-c4ac2cee-8054-4ab1-b1e2-c98cbf723a9b\">\n",
              "      <button class=\"colab-df-quickchart\" onclick=\"quickchart('df-c4ac2cee-8054-4ab1-b1e2-c98cbf723a9b')\"\n",
              "                title=\"Suggest charts\"\n",
              "                style=\"display:none;\">\n",
              "\n",
              "<svg xmlns=\"http://www.w3.org/2000/svg\" height=\"24px\"viewBox=\"0 0 24 24\"\n",
              "     width=\"24px\">\n",
              "    <g>\n",
              "        <path d=\"M19 3H5c-1.1 0-2 .9-2 2v14c0 1.1.9 2 2 2h14c1.1 0 2-.9 2-2V5c0-1.1-.9-2-2-2zM9 17H7v-7h2v7zm4 0h-2V7h2v10zm4 0h-2v-4h2v4z\"/>\n",
              "    </g>\n",
              "</svg>\n",
              "      </button>\n",
              "\n",
              "<style>\n",
              "  .colab-df-quickchart {\n",
              "      --bg-color: #E8F0FE;\n",
              "      --fill-color: #1967D2;\n",
              "      --hover-bg-color: #E2EBFA;\n",
              "      --hover-fill-color: #174EA6;\n",
              "      --disabled-fill-color: #AAA;\n",
              "      --disabled-bg-color: #DDD;\n",
              "  }\n",
              "\n",
              "  [theme=dark] .colab-df-quickchart {\n",
              "      --bg-color: #3B4455;\n",
              "      --fill-color: #D2E3FC;\n",
              "      --hover-bg-color: #434B5C;\n",
              "      --hover-fill-color: #FFFFFF;\n",
              "      --disabled-bg-color: #3B4455;\n",
              "      --disabled-fill-color: #666;\n",
              "  }\n",
              "\n",
              "  .colab-df-quickchart {\n",
              "    background-color: var(--bg-color);\n",
              "    border: none;\n",
              "    border-radius: 50%;\n",
              "    cursor: pointer;\n",
              "    display: none;\n",
              "    fill: var(--fill-color);\n",
              "    height: 32px;\n",
              "    padding: 0;\n",
              "    width: 32px;\n",
              "  }\n",
              "\n",
              "  .colab-df-quickchart:hover {\n",
              "    background-color: var(--hover-bg-color);\n",
              "    box-shadow: 0 1px 2px rgba(60, 64, 67, 0.3), 0 1px 3px 1px rgba(60, 64, 67, 0.15);\n",
              "    fill: var(--button-hover-fill-color);\n",
              "  }\n",
              "\n",
              "  .colab-df-quickchart-complete:disabled,\n",
              "  .colab-df-quickchart-complete:disabled:hover {\n",
              "    background-color: var(--disabled-bg-color);\n",
              "    fill: var(--disabled-fill-color);\n",
              "    box-shadow: none;\n",
              "  }\n",
              "\n",
              "  .colab-df-spinner {\n",
              "    border: 2px solid var(--fill-color);\n",
              "    border-color: transparent;\n",
              "    border-bottom-color: var(--fill-color);\n",
              "    animation:\n",
              "      spin 1s steps(1) infinite;\n",
              "  }\n",
              "\n",
              "  @keyframes spin {\n",
              "    0% {\n",
              "      border-color: transparent;\n",
              "      border-bottom-color: var(--fill-color);\n",
              "      border-left-color: var(--fill-color);\n",
              "    }\n",
              "    20% {\n",
              "      border-color: transparent;\n",
              "      border-left-color: var(--fill-color);\n",
              "      border-top-color: var(--fill-color);\n",
              "    }\n",
              "    30% {\n",
              "      border-color: transparent;\n",
              "      border-left-color: var(--fill-color);\n",
              "      border-top-color: var(--fill-color);\n",
              "      border-right-color: var(--fill-color);\n",
              "    }\n",
              "    40% {\n",
              "      border-color: transparent;\n",
              "      border-right-color: var(--fill-color);\n",
              "      border-top-color: var(--fill-color);\n",
              "    }\n",
              "    60% {\n",
              "      border-color: transparent;\n",
              "      border-right-color: var(--fill-color);\n",
              "    }\n",
              "    80% {\n",
              "      border-color: transparent;\n",
              "      border-right-color: var(--fill-color);\n",
              "      border-bottom-color: var(--fill-color);\n",
              "    }\n",
              "    90% {\n",
              "      border-color: transparent;\n",
              "      border-bottom-color: var(--fill-color);\n",
              "    }\n",
              "  }\n",
              "</style>\n",
              "\n",
              "      <script>\n",
              "        async function quickchart(key) {\n",
              "          const quickchartButtonEl =\n",
              "            document.querySelector('#' + key + ' button');\n",
              "          quickchartButtonEl.disabled = true;  // To prevent multiple clicks.\n",
              "          quickchartButtonEl.classList.add('colab-df-spinner');\n",
              "          try {\n",
              "            const charts = await google.colab.kernel.invokeFunction(\n",
              "                'suggestCharts', [key], {});\n",
              "          } catch (error) {\n",
              "            console.error('Error during call to suggestCharts:', error);\n",
              "          }\n",
              "          quickchartButtonEl.classList.remove('colab-df-spinner');\n",
              "          quickchartButtonEl.classList.add('colab-df-quickchart-complete');\n",
              "        }\n",
              "        (() => {\n",
              "          let quickchartButtonEl =\n",
              "            document.querySelector('#df-c4ac2cee-8054-4ab1-b1e2-c98cbf723a9b button');\n",
              "          quickchartButtonEl.style.display =\n",
              "            google.colab.kernel.accessAllowed ? 'block' : 'none';\n",
              "        })();\n",
              "      </script>\n",
              "    </div>\n",
              "\n",
              "    </div>\n",
              "  </div>\n"
            ],
            "text/plain": [
              "                                           statement   status  Label  \\\n",
              "0                                         oh my gosh  Anxiety      3   \n",
              "1  trouble sleeping, confused mind, restless hear...  Anxiety      3   \n",
              "2  All wrong, back off dear, forward doubt. Stay ...  Anxiety      3   \n",
              "\n",
              "                                        Text_Cleaned  \\\n",
              "0                                         [oh, gosh]   \n",
              "1  [trouble, sleeping, confused, mind, restless, ...   \n",
              "2  [wrong, back, dear, forward, doubt, stay, rest...   \n",
              "\n",
              "                                     lemmatized_text  \n",
              "0                                         [oh, gosh]  \n",
              "1  [trouble, sleeping, confused, mind, restless, ...  \n",
              "2  [wrong, back, dear, forward, doubt, stay, rest...  "
            ]
          },
          "execution_count": 25,
          "metadata": {},
          "output_type": "execute_result"
        }
      ],
      "source": [
        "# function to lemmatize words in text cleaned and create a new column lemmatized text and store them there\n",
        "def lemmatized_words(text):\n",
        "    lemm = nltk.stem.WordNetLemmatizer()\n",
        "    df['lemmatized_text'] = list(map(lambda word:\n",
        "                                     list(map(lemm.lemmatize, word)),\n",
        "                                     df.Text_Cleaned))\n",
        "\n",
        "\n",
        "lemmatized_words(df.Text_Cleaned)\n",
        "df.head(3)"
      ]
    },
    {
      "cell_type": "code",
      "execution_count": 26,
      "id": "97c0a5f9",
      "metadata": {
        "colab": {
          "base_uri": "https://localhost:8080/",
          "height": 857
        },
        "id": "97c0a5f9",
        "outputId": "d31a73b8-b8c5-4bc9-dc67-2a663b2edc9d"
      },
      "outputs": [
        {
          "data": {
            "application/vnd.google.colaboratory.intrinsic+json": {
              "summary": "{\n  \"name\": \"df[[ 'statement', 'Text_Cleaned', 'lemmatized_text','status']]\",\n  \"rows\": 600,\n  \"fields\": [\n    {\n      \"column\": \"statement\",\n      \"properties\": {\n        \"dtype\": \"string\",\n        \"num_unique_values\": 600,\n        \"samples\": [\n          \"Why does it seem like tonight I'm restless, sad like I want to cry but I don't know what to be sad about\",\n          \"Help! Lately, whenever I meet a lot of people I don't know, I always feel really dizzy, my stomach suddenly feels nauseous, anxious, panicked. How do you solve it? And why is that?\",\n          \"every night overthinking, anxious, nervous..every time I do activities that I don't like, I always feel nauseous and have stomachaches. sometimes if you think too much it gives you a headache :(\"\n        ],\n        \"semantic_type\": \"\",\n        \"description\": \"\"\n      }\n    },\n    {\n      \"column\": \"Text_Cleaned\",\n      \"properties\": {\n        \"dtype\": \"object\",\n        \"semantic_type\": \"\",\n        \"description\": \"\"\n      }\n    },\n    {\n      \"column\": \"lemmatized_text\",\n      \"properties\": {\n        \"dtype\": \"object\",\n        \"semantic_type\": \"\",\n        \"description\": \"\"\n      }\n    },\n    {\n      \"column\": \"status\",\n      \"properties\": {\n        \"dtype\": \"category\",\n        \"num_unique_values\": 1,\n        \"samples\": [\n          \"Anxiety\"\n        ],\n        \"semantic_type\": \"\",\n        \"description\": \"\"\n      }\n    }\n  ]\n}",
              "type": "dataframe"
            },
            "text/html": [
              "\n",
              "  <div id=\"df-e204c8e4-a74d-41ba-b4ba-ca6fc8c04edc\" class=\"colab-df-container\">\n",
              "    <div>\n",
              "<style scoped>\n",
              "    .dataframe tbody tr th:only-of-type {\n",
              "        vertical-align: middle;\n",
              "    }\n",
              "\n",
              "    .dataframe tbody tr th {\n",
              "        vertical-align: top;\n",
              "    }\n",
              "\n",
              "    .dataframe thead th {\n",
              "        text-align: right;\n",
              "    }\n",
              "</style>\n",
              "<table border=\"1\" class=\"dataframe\">\n",
              "  <thead>\n",
              "    <tr style=\"text-align: right;\">\n",
              "      <th></th>\n",
              "      <th>statement</th>\n",
              "      <th>Text_Cleaned</th>\n",
              "      <th>lemmatized_text</th>\n",
              "      <th>status</th>\n",
              "    </tr>\n",
              "  </thead>\n",
              "  <tbody>\n",
              "    <tr>\n",
              "      <th>0</th>\n",
              "      <td>oh my gosh</td>\n",
              "      <td>[oh, gosh]</td>\n",
              "      <td>[oh, gosh]</td>\n",
              "      <td>Anxiety</td>\n",
              "    </tr>\n",
              "    <tr>\n",
              "      <th>1</th>\n",
              "      <td>trouble sleeping, confused mind, restless heart. All out of tune</td>\n",
              "      <td>[trouble, sleeping, confused, mind, restless, heart, tune]</td>\n",
              "      <td>[trouble, sleeping, confused, mind, restless, heart, tune]</td>\n",
              "      <td>Anxiety</td>\n",
              "    </tr>\n",
              "    <tr>\n",
              "      <th>2</th>\n",
              "      <td>All wrong, back off dear, forward doubt. Stay in a restless and restless place</td>\n",
              "      <td>[wrong, back, dear, forward, doubt, stay, restless, restless, place]</td>\n",
              "      <td>[wrong, back, dear, forward, doubt, stay, restless, restless, place]</td>\n",
              "      <td>Anxiety</td>\n",
              "    </tr>\n",
              "    <tr>\n",
              "      <th>3</th>\n",
              "      <td>I've shifted my focus to something else but I'm still worried</td>\n",
              "      <td>[shifted, focus, something, else, still, worried]</td>\n",
              "      <td>[shifted, focus, something, else, still, worried]</td>\n",
              "      <td>Anxiety</td>\n",
              "    </tr>\n",
              "    <tr>\n",
              "      <th>4</th>\n",
              "      <td>I'm restless and restless, it's been a month now, boy. What do you mean?</td>\n",
              "      <td>[restless, restless, month, boy, mean]</td>\n",
              "      <td>[restless, restless, month, boy, mean]</td>\n",
              "      <td>Anxiety</td>\n",
              "    </tr>\n",
              "    <tr>\n",
              "      <th>...</th>\n",
              "      <td>...</td>\n",
              "      <td>...</td>\n",
              "      <td>...</td>\n",
              "      <td>...</td>\n",
              "    </tr>\n",
              "    <tr>\n",
              "      <th>612</th>\n",
              "      <td>Yes, the point is that I feel tired, sad, annoyed, restless. It's like the feeling is mixed in my heart and mind, in my brain I'm traveling various things from problems to happiness that I've felt until this moment.</td>\n",
              "      <td>[yes, point, feel, tired, sad, annoyed, restless, like, feeling, mixed, heart, mind, brain, traveling, various, things, problems, happiness, felt, moment]</td>\n",
              "      <td>[yes, point, feel, tired, sad, annoyed, restless, like, feeling, mixed, heart, mind, brain, traveling, various, thing, problem, happiness, felt, moment]</td>\n",
              "      <td>Anxiety</td>\n",
              "    </tr>\n",
              "    <tr>\n",
              "      <th>613</th>\n",
              "      <td>Hmm why are you so nervous</td>\n",
              "      <td>[hmm, nervous]</td>\n",
              "      <td>[hmm, nervous]</td>\n",
              "      <td>Anxiety</td>\n",
              "    </tr>\n",
              "    <tr>\n",
              "      <th>614</th>\n",
              "      <td>restless and worrying too much</td>\n",
              "      <td>[restless, worrying, much]</td>\n",
              "      <td>[restless, worrying, much]</td>\n",
              "      <td>Anxiety</td>\n",
              "    </tr>\n",
              "    <tr>\n",
              "      <th>615</th>\n",
              "      <td>When the effects of the depressant have started to wear off and the depression phase has started, it's really tiring</td>\n",
              "      <td>[effects, depressant, started, wear, depression, phase, started, really, tiring]</td>\n",
              "      <td>[effect, depressant, started, wear, depression, phase, started, really, tiring]</td>\n",
              "      <td>Anxiety</td>\n",
              "    </tr>\n",
              "    <tr>\n",
              "      <th>616</th>\n",
              "      <td>Going through a phase where anxiety continues to haunt</td>\n",
              "      <td>[going, phase, anxiety, continues, haunt]</td>\n",
              "      <td>[going, phase, anxiety, continues, haunt]</td>\n",
              "      <td>Anxiety</td>\n",
              "    </tr>\n",
              "  </tbody>\n",
              "</table>\n",
              "<p>600 rows × 4 columns</p>\n",
              "</div>\n",
              "    <div class=\"colab-df-buttons\">\n",
              "\n",
              "  <div class=\"colab-df-container\">\n",
              "    <button class=\"colab-df-convert\" onclick=\"convertToInteractive('df-e204c8e4-a74d-41ba-b4ba-ca6fc8c04edc')\"\n",
              "            title=\"Convert this dataframe to an interactive table.\"\n",
              "            style=\"display:none;\">\n",
              "\n",
              "  <svg xmlns=\"http://www.w3.org/2000/svg\" height=\"24px\" viewBox=\"0 -960 960 960\">\n",
              "    <path d=\"M120-120v-720h720v720H120Zm60-500h600v-160H180v160Zm220 220h160v-160H400v160Zm0 220h160v-160H400v160ZM180-400h160v-160H180v160Zm440 0h160v-160H620v160ZM180-180h160v-160H180v160Zm440 0h160v-160H620v160Z\"/>\n",
              "  </svg>\n",
              "    </button>\n",
              "\n",
              "  <style>\n",
              "    .colab-df-container {\n",
              "      display:flex;\n",
              "      gap: 12px;\n",
              "    }\n",
              "\n",
              "    .colab-df-convert {\n",
              "      background-color: #E8F0FE;\n",
              "      border: none;\n",
              "      border-radius: 50%;\n",
              "      cursor: pointer;\n",
              "      display: none;\n",
              "      fill: #1967D2;\n",
              "      height: 32px;\n",
              "      padding: 0 0 0 0;\n",
              "      width: 32px;\n",
              "    }\n",
              "\n",
              "    .colab-df-convert:hover {\n",
              "      background-color: #E2EBFA;\n",
              "      box-shadow: 0px 1px 2px rgba(60, 64, 67, 0.3), 0px 1px 3px 1px rgba(60, 64, 67, 0.15);\n",
              "      fill: #174EA6;\n",
              "    }\n",
              "\n",
              "    .colab-df-buttons div {\n",
              "      margin-bottom: 4px;\n",
              "    }\n",
              "\n",
              "    [theme=dark] .colab-df-convert {\n",
              "      background-color: #3B4455;\n",
              "      fill: #D2E3FC;\n",
              "    }\n",
              "\n",
              "    [theme=dark] .colab-df-convert:hover {\n",
              "      background-color: #434B5C;\n",
              "      box-shadow: 0px 1px 3px 1px rgba(0, 0, 0, 0.15);\n",
              "      filter: drop-shadow(0px 1px 2px rgba(0, 0, 0, 0.3));\n",
              "      fill: #FFFFFF;\n",
              "    }\n",
              "  </style>\n",
              "\n",
              "    <script>\n",
              "      const buttonEl =\n",
              "        document.querySelector('#df-e204c8e4-a74d-41ba-b4ba-ca6fc8c04edc button.colab-df-convert');\n",
              "      buttonEl.style.display =\n",
              "        google.colab.kernel.accessAllowed ? 'block' : 'none';\n",
              "\n",
              "      async function convertToInteractive(key) {\n",
              "        const element = document.querySelector('#df-e204c8e4-a74d-41ba-b4ba-ca6fc8c04edc');\n",
              "        const dataTable =\n",
              "          await google.colab.kernel.invokeFunction('convertToInteractive',\n",
              "                                                    [key], {});\n",
              "        if (!dataTable) return;\n",
              "\n",
              "        const docLinkHtml = 'Like what you see? Visit the ' +\n",
              "          '<a target=\"_blank\" href=https://colab.research.google.com/notebooks/data_table.ipynb>data table notebook</a>'\n",
              "          + ' to learn more about interactive tables.';\n",
              "        element.innerHTML = '';\n",
              "        dataTable['output_type'] = 'display_data';\n",
              "        await google.colab.output.renderOutput(dataTable, element);\n",
              "        const docLink = document.createElement('div');\n",
              "        docLink.innerHTML = docLinkHtml;\n",
              "        element.appendChild(docLink);\n",
              "      }\n",
              "    </script>\n",
              "  </div>\n",
              "\n",
              "\n",
              "    <div id=\"df-5ef08fdc-cab9-48d2-a56e-3e4852700b0c\">\n",
              "      <button class=\"colab-df-quickchart\" onclick=\"quickchart('df-5ef08fdc-cab9-48d2-a56e-3e4852700b0c')\"\n",
              "                title=\"Suggest charts\"\n",
              "                style=\"display:none;\">\n",
              "\n",
              "<svg xmlns=\"http://www.w3.org/2000/svg\" height=\"24px\"viewBox=\"0 0 24 24\"\n",
              "     width=\"24px\">\n",
              "    <g>\n",
              "        <path d=\"M19 3H5c-1.1 0-2 .9-2 2v14c0 1.1.9 2 2 2h14c1.1 0 2-.9 2-2V5c0-1.1-.9-2-2-2zM9 17H7v-7h2v7zm4 0h-2V7h2v10zm4 0h-2v-4h2v4z\"/>\n",
              "    </g>\n",
              "</svg>\n",
              "      </button>\n",
              "\n",
              "<style>\n",
              "  .colab-df-quickchart {\n",
              "      --bg-color: #E8F0FE;\n",
              "      --fill-color: #1967D2;\n",
              "      --hover-bg-color: #E2EBFA;\n",
              "      --hover-fill-color: #174EA6;\n",
              "      --disabled-fill-color: #AAA;\n",
              "      --disabled-bg-color: #DDD;\n",
              "  }\n",
              "\n",
              "  [theme=dark] .colab-df-quickchart {\n",
              "      --bg-color: #3B4455;\n",
              "      --fill-color: #D2E3FC;\n",
              "      --hover-bg-color: #434B5C;\n",
              "      --hover-fill-color: #FFFFFF;\n",
              "      --disabled-bg-color: #3B4455;\n",
              "      --disabled-fill-color: #666;\n",
              "  }\n",
              "\n",
              "  .colab-df-quickchart {\n",
              "    background-color: var(--bg-color);\n",
              "    border: none;\n",
              "    border-radius: 50%;\n",
              "    cursor: pointer;\n",
              "    display: none;\n",
              "    fill: var(--fill-color);\n",
              "    height: 32px;\n",
              "    padding: 0;\n",
              "    width: 32px;\n",
              "  }\n",
              "\n",
              "  .colab-df-quickchart:hover {\n",
              "    background-color: var(--hover-bg-color);\n",
              "    box-shadow: 0 1px 2px rgba(60, 64, 67, 0.3), 0 1px 3px 1px rgba(60, 64, 67, 0.15);\n",
              "    fill: var(--button-hover-fill-color);\n",
              "  }\n",
              "\n",
              "  .colab-df-quickchart-complete:disabled,\n",
              "  .colab-df-quickchart-complete:disabled:hover {\n",
              "    background-color: var(--disabled-bg-color);\n",
              "    fill: var(--disabled-fill-color);\n",
              "    box-shadow: none;\n",
              "  }\n",
              "\n",
              "  .colab-df-spinner {\n",
              "    border: 2px solid var(--fill-color);\n",
              "    border-color: transparent;\n",
              "    border-bottom-color: var(--fill-color);\n",
              "    animation:\n",
              "      spin 1s steps(1) infinite;\n",
              "  }\n",
              "\n",
              "  @keyframes spin {\n",
              "    0% {\n",
              "      border-color: transparent;\n",
              "      border-bottom-color: var(--fill-color);\n",
              "      border-left-color: var(--fill-color);\n",
              "    }\n",
              "    20% {\n",
              "      border-color: transparent;\n",
              "      border-left-color: var(--fill-color);\n",
              "      border-top-color: var(--fill-color);\n",
              "    }\n",
              "    30% {\n",
              "      border-color: transparent;\n",
              "      border-left-color: var(--fill-color);\n",
              "      border-top-color: var(--fill-color);\n",
              "      border-right-color: var(--fill-color);\n",
              "    }\n",
              "    40% {\n",
              "      border-color: transparent;\n",
              "      border-right-color: var(--fill-color);\n",
              "      border-top-color: var(--fill-color);\n",
              "    }\n",
              "    60% {\n",
              "      border-color: transparent;\n",
              "      border-right-color: var(--fill-color);\n",
              "    }\n",
              "    80% {\n",
              "      border-color: transparent;\n",
              "      border-right-color: var(--fill-color);\n",
              "      border-bottom-color: var(--fill-color);\n",
              "    }\n",
              "    90% {\n",
              "      border-color: transparent;\n",
              "      border-bottom-color: var(--fill-color);\n",
              "    }\n",
              "  }\n",
              "</style>\n",
              "\n",
              "      <script>\n",
              "        async function quickchart(key) {\n",
              "          const quickchartButtonEl =\n",
              "            document.querySelector('#' + key + ' button');\n",
              "          quickchartButtonEl.disabled = true;  // To prevent multiple clicks.\n",
              "          quickchartButtonEl.classList.add('colab-df-spinner');\n",
              "          try {\n",
              "            const charts = await google.colab.kernel.invokeFunction(\n",
              "                'suggestCharts', [key], {});\n",
              "          } catch (error) {\n",
              "            console.error('Error during call to suggestCharts:', error);\n",
              "          }\n",
              "          quickchartButtonEl.classList.remove('colab-df-spinner');\n",
              "          quickchartButtonEl.classList.add('colab-df-quickchart-complete');\n",
              "        }\n",
              "        (() => {\n",
              "          let quickchartButtonEl =\n",
              "            document.querySelector('#df-5ef08fdc-cab9-48d2-a56e-3e4852700b0c button');\n",
              "          quickchartButtonEl.style.display =\n",
              "            google.colab.kernel.accessAllowed ? 'block' : 'none';\n",
              "        })();\n",
              "      </script>\n",
              "    </div>\n",
              "\n",
              "    </div>\n",
              "  </div>\n"
            ],
            "text/plain": [
              "                                                                                                                                                                                                                   statement  \\\n",
              "0                                                                                                                                                                                                                 oh my gosh   \n",
              "1                                                                                                                                                           trouble sleeping, confused mind, restless heart. All out of tune   \n",
              "2                                                                                                                                             All wrong, back off dear, forward doubt. Stay in a restless and restless place   \n",
              "3                                                                                                                                                              I've shifted my focus to something else but I'm still worried   \n",
              "4                                                                                                                                                   I'm restless and restless, it's been a month now, boy. What do you mean?   \n",
              "..                                                                                                                                                                                                                       ...   \n",
              "612  Yes, the point is that I feel tired, sad, annoyed, restless. It's like the feeling is mixed in my heart and mind, in my brain I'm traveling various things from problems to happiness that I've felt until this moment.   \n",
              "613                                                                                                                                                                                               Hmm why are you so nervous   \n",
              "614                                                                                                                                                                                           restless and worrying too much   \n",
              "615                                                                                                     When the effects of the depressant have started to wear off and the depression phase has started, it's really tiring   \n",
              "616                                                                                                                                                                   Going through a phase where anxiety continues to haunt   \n",
              "\n",
              "                                                                                                                                                   Text_Cleaned  \\\n",
              "0                                                                                                                                                    [oh, gosh]   \n",
              "1                                                                                                    [trouble, sleeping, confused, mind, restless, heart, tune]   \n",
              "2                                                                                          [wrong, back, dear, forward, doubt, stay, restless, restless, place]   \n",
              "3                                                                                                             [shifted, focus, something, else, still, worried]   \n",
              "4                                                                                                                        [restless, restless, month, boy, mean]   \n",
              "..                                                                                                                                                          ...   \n",
              "612  [yes, point, feel, tired, sad, annoyed, restless, like, feeling, mixed, heart, mind, brain, traveling, various, things, problems, happiness, felt, moment]   \n",
              "613                                                                                                                                              [hmm, nervous]   \n",
              "614                                                                                                                                  [restless, worrying, much]   \n",
              "615                                                                            [effects, depressant, started, wear, depression, phase, started, really, tiring]   \n",
              "616                                                                                                                   [going, phase, anxiety, continues, haunt]   \n",
              "\n",
              "                                                                                                                                              lemmatized_text  \\\n",
              "0                                                                                                                                                  [oh, gosh]   \n",
              "1                                                                                                  [trouble, sleeping, confused, mind, restless, heart, tune]   \n",
              "2                                                                                        [wrong, back, dear, forward, doubt, stay, restless, restless, place]   \n",
              "3                                                                                                           [shifted, focus, something, else, still, worried]   \n",
              "4                                                                                                                      [restless, restless, month, boy, mean]   \n",
              "..                                                                                                                                                        ...   \n",
              "612  [yes, point, feel, tired, sad, annoyed, restless, like, feeling, mixed, heart, mind, brain, traveling, various, thing, problem, happiness, felt, moment]   \n",
              "613                                                                                                                                            [hmm, nervous]   \n",
              "614                                                                                                                                [restless, worrying, much]   \n",
              "615                                                                           [effect, depressant, started, wear, depression, phase, started, really, tiring]   \n",
              "616                                                                                                                 [going, phase, anxiety, continues, haunt]   \n",
              "\n",
              "      status  \n",
              "0    Anxiety  \n",
              "1    Anxiety  \n",
              "2    Anxiety  \n",
              "3    Anxiety  \n",
              "4    Anxiety  \n",
              "..       ...  \n",
              "612  Anxiety  \n",
              "613  Anxiety  \n",
              "614  Anxiety  \n",
              "615  Anxiety  \n",
              "616  Anxiety  \n",
              "\n",
              "[600 rows x 4 columns]"
            ]
          },
          "execution_count": 26,
          "metadata": {},
          "output_type": "execute_result"
        }
      ],
      "source": [
        "# optional line to adjust table width\n",
        "pd.set_option('max_colwidth', 500)\n",
        "\n",
        "# sample the data after preprocessing\n",
        "df[[ 'statement', 'Text_Cleaned', 'lemmatized_text','status']].head(600)"
      ]
    },
    {
      "cell_type": "markdown",
      "id": "92e284cb",
      "metadata": {
        "id": "92e284cb"
      },
      "source": [
        "### Vizualizing the Length Distribution for our Lemmatized Text"
      ]
    },
    {
      "cell_type": "code",
      "execution_count": 27,
      "id": "9808c578",
      "metadata": {
        "colab": {
          "base_uri": "https://localhost:8080/",
          "height": 487
        },
        "id": "9808c578",
        "outputId": "017e02c9-5b9d-48b2-996f-1d42d6bbdcd1"
      },
      "outputs": [
        {
          "data": {
            "image/png": "[encoded data removed]",
            "text/plain": [
              "<Figure size 500x500 with 1 Axes>"
            ]
          },
          "metadata": {},
          "output_type": "display_data"
        }
      ],
      "source": [
        "lengths = df['lemmatized_text'].apply(len)\n",
        "\n",
        "fig,ax=plt.subplots(figsize=(5,5))\n",
        "ax.hist(lengths,bins=1000,edgecolor='black')\n",
        "ax.set_title('Lemmatized Text Lengths Distribution')\n",
        "ax.set_xlabel('Number of Tokens')\n",
        "ax.set_ylabel('Frequency')\n",
        "ax.set_xlim(0,250)\n",
        "plt.show()\n"
      ]
    },
    {
      "cell_type": "code",
      "execution_count": 28,
      "id": "98619c6e",
      "metadata": {
        "colab": {
          "base_uri": "https://localhost:8080/",
          "height": 178
        },
        "id": "98619c6e",
        "outputId": "3d82ed74-1999-42be-ddff-aa46e69ba924"
      },
      "outputs": [
        {
          "data": {
            "text/html": [
              "<div>\n",
              "<style scoped>\n",
              "    .dataframe tbody tr th:only-of-type {\n",
              "        vertical-align: middle;\n",
              "    }\n",
              "\n",
              "    .dataframe tbody tr th {\n",
              "        vertical-align: top;\n",
              "    }\n",
              "\n",
              "    .dataframe thead th {\n",
              "        text-align: right;\n",
              "    }\n",
              "</style>\n",
              "<table border=\"1\" class=\"dataframe\">\n",
              "  <thead>\n",
              "    <tr style=\"text-align: right;\">\n",
              "      <th></th>\n",
              "      <th>count</th>\n",
              "    </tr>\n",
              "    <tr>\n",
              "      <th>lemmatized_text</th>\n",
              "      <th></th>\n",
              "    </tr>\n",
              "  </thead>\n",
              "  <tbody>\n",
              "    <tr>\n",
              "      <th>False</th>\n",
              "      <td>43350</td>\n",
              "    </tr>\n",
              "    <tr>\n",
              "      <th>True</th>\n",
              "      <td>7723</td>\n",
              "    </tr>\n",
              "  </tbody>\n",
              "</table>\n",
              "</div><br><label><b>dtype:</b> int64</label>"
            ],
            "text/plain": [
              "lemmatized_text\n",
              "False    43350\n",
              "True      7723\n",
              "Name: count, dtype: int64"
            ]
          },
          "execution_count": 28,
          "metadata": {},
          "output_type": "execute_result"
        }
      ],
      "source": [
        "(df['lemmatized_text'].apply(len) > 100).value_counts()"
      ]
    },
    {
      "cell_type": "code",
      "execution_count": 29,
      "id": "ab8c3eea",
      "metadata": {
        "colab": {
          "base_uri": "https://localhost:8080/",
          "height": 178
        },
        "id": "ab8c3eea",
        "outputId": "fb29c913-afed-4edb-e361-17138940b2cf"
      },
      "outputs": [
        {
          "data": {
            "text/html": [
              "<div>\n",
              "<style scoped>\n",
              "    .dataframe tbody tr th:only-of-type {\n",
              "        vertical-align: middle;\n",
              "    }\n",
              "\n",
              "    .dataframe tbody tr th {\n",
              "        vertical-align: top;\n",
              "    }\n",
              "\n",
              "    .dataframe thead th {\n",
              "        text-align: right;\n",
              "    }\n",
              "</style>\n",
              "<table border=\"1\" class=\"dataframe\">\n",
              "  <thead>\n",
              "    <tr style=\"text-align: right;\">\n",
              "      <th></th>\n",
              "      <th>count</th>\n",
              "    </tr>\n",
              "    <tr>\n",
              "      <th>lemmatized_text</th>\n",
              "      <th></th>\n",
              "    </tr>\n",
              "  </thead>\n",
              "  <tbody>\n",
              "    <tr>\n",
              "      <th>False</th>\n",
              "      <td>45758</td>\n",
              "    </tr>\n",
              "    <tr>\n",
              "      <th>True</th>\n",
              "      <td>5315</td>\n",
              "    </tr>\n",
              "  </tbody>\n",
              "</table>\n",
              "</div><br><label><b>dtype:</b> int64</label>"
            ],
            "text/plain": [
              "lemmatized_text\n",
              "False    45758\n",
              "True      5315\n",
              "Name: count, dtype: int64"
            ]
          },
          "execution_count": 29,
          "metadata": {},
          "output_type": "execute_result"
        }
      ],
      "source": [
        "(df['lemmatized_text'].apply(len) > 125).value_counts()"
      ]
    },
    {
      "cell_type": "code",
      "execution_count": 30,
      "id": "72676dbc",
      "metadata": {
        "colab": {
          "base_uri": "https://localhost:8080/",
          "height": 178
        },
        "id": "72676dbc",
        "outputId": "ce0a9bcc-fc34-41dc-ad98-10d7e99c94c3"
      },
      "outputs": [
        {
          "data": {
            "text/html": [
              "<div>\n",
              "<style scoped>\n",
              "    .dataframe tbody tr th:only-of-type {\n",
              "        vertical-align: middle;\n",
              "    }\n",
              "\n",
              "    .dataframe tbody tr th {\n",
              "        vertical-align: top;\n",
              "    }\n",
              "\n",
              "    .dataframe thead th {\n",
              "        text-align: right;\n",
              "    }\n",
              "</style>\n",
              "<table border=\"1\" class=\"dataframe\">\n",
              "  <thead>\n",
              "    <tr style=\"text-align: right;\">\n",
              "      <th></th>\n",
              "      <th>count</th>\n",
              "    </tr>\n",
              "    <tr>\n",
              "      <th>lemmatized_text</th>\n",
              "      <th></th>\n",
              "    </tr>\n",
              "  </thead>\n",
              "  <tbody>\n",
              "    <tr>\n",
              "      <th>False</th>\n",
              "      <td>47233</td>\n",
              "    </tr>\n",
              "    <tr>\n",
              "      <th>True</th>\n",
              "      <td>3840</td>\n",
              "    </tr>\n",
              "  </tbody>\n",
              "</table>\n",
              "</div><br><label><b>dtype:</b> int64</label>"
            ],
            "text/plain": [
              "lemmatized_text\n",
              "False    47233\n",
              "True      3840\n",
              "Name: count, dtype: int64"
            ]
          },
          "execution_count": 30,
          "metadata": {},
          "output_type": "execute_result"
        }
      ],
      "source": [
        "(df['lemmatized_text'].apply(len) > 150).value_counts()"
      ]
    },
    {
      "cell_type": "markdown",
      "id": "b3415b6e",
      "metadata": {
        "id": "b3415b6e"
      },
      "source": [
        "Based on the above figure, we found it logical to set the sequence length to 125 as a middle way between short and long sequences."
      ]
    },
    {
      "cell_type": "code",
      "execution_count": 31,
      "id": "c18991b9",
      "metadata": {
        "id": "c18991b9"
      },
      "outputs": [],
      "source": [
        "sequence_length=125"
      ]
    },
    {
      "cell_type": "markdown",
      "id": "d70a2589",
      "metadata": {
        "id": "d70a2589"
      },
      "source": [
        "## W2Vector embedding"
      ]
    },
    {
      "cell_type": "code",
      "execution_count": 32,
      "id": "7b6dc965",
      "metadata": {
        "id": "7b6dc965"
      },
      "outputs": [],
      "source": [
        "## getting the data ready\n",
        "data=df['lemmatized_text'].to_list()"
      ]
    },
    {
      "cell_type": "code",
      "execution_count": 33,
      "id": "7b291792",
      "metadata": {
        "colab": {
          "base_uri": "https://localhost:8080/"
        },
        "id": "7b291792",
        "outputId": "83c84a2f-2d21-4d1a-d2d1-9dfc0216d7fd"
      },
      "outputs": [
        {
          "data": {
            "text/plain": [
              "[['oh', 'gosh'],\n",
              " ['trouble', 'sleeping', 'confused', 'mind', 'restless', 'heart', 'tune'],\n",
              " ['wrong',\n",
              "  'back',\n",
              "  'dear',\n",
              "  'forward',\n",
              "  'doubt',\n",
              "  'stay',\n",
              "  'restless',\n",
              "  'restless',\n",
              "  'place'],\n",
              " ['shifted', 'focus', 'something', 'else', 'still', 'worried'],\n",
              " ['restless', 'restless', 'month', 'boy', 'mean'],\n",
              " ['every', 'break', 'must', 'nervous', 'like', 'something', 'wrong', 'heck'],\n",
              " ['feel', 'scared', 'anxious', 'may', 'family', 'u', 'protected'],\n",
              " ['ever', 'felt', 'nervous', 'know'],\n",
              " ['slept', 'well', '2', 'day', 'like', 'restless', 'huh'],\n",
              " ['really', 'worried', 'want', 'cry']]"
            ]
          },
          "execution_count": 33,
          "metadata": {},
          "output_type": "execute_result"
        }
      ],
      "source": [
        "data[:10]"
      ]
    },
    {
      "cell_type": "code",
      "execution_count": 34,
      "id": "bf0d95e0",
      "metadata": {
        "id": "bf0d95e0"
      },
      "outputs": [],
      "source": [
        "import gensim\n",
        "from gensim.models import Word2Vec\n",
        "import warnings\n",
        "\n",
        "warnings.filterwarnings(action='ignore')"
      ]
    },
    {
      "cell_type": "code",
      "execution_count": 35,
      "id": "fe128dc4",
      "metadata": {
        "id": "fe128dc4"
      },
      "outputs": [],
      "source": [
        "embedding_size=300\n",
        "# Create CBOW model\n",
        "model_cbow = gensim.models.Word2Vec(data, min_count=1,\n",
        "                                vector_size=embedding_size, window=10)"
      ]
    },
    {
      "cell_type": "code",
      "execution_count": 36,
      "id": "e5969fb5",
      "metadata": {
        "colab": {
          "base_uri": "https://localhost:8080/"
        },
        "id": "e5969fb5",
        "outputId": "aa9288dc-bdd5-4063-8c92-57262b5d3375"
      },
      "outputs": [
        {
          "data": {
            "text/plain": [
              "array([ 0.00878975, -0.01023117, -0.05999797,  0.12608849,  0.16910453,\n",
              "       -0.03233052,  0.02926807,  0.07676207,  0.0739871 , -0.0837993 ,\n",
              "        0.0180738 , -0.11628714,  0.06831345, -0.0086078 , -0.08064554,\n",
              "        0.02345169, -0.01102237, -0.04727242,  0.0596103 ,  0.1216834 ,\n",
              "       -0.12616757,  0.07789709,  0.01629597,  0.02264495,  0.08901156,\n",
              "        0.08475657,  0.02350325, -0.0393285 , -0.03513982, -0.0591691 ,\n",
              "       -0.21624455,  0.08256544,  0.01781911, -0.15591872,  0.06545634,\n",
              "        0.2988336 ,  0.02124329, -0.17501028, -0.16622123,  0.01729871,\n",
              "       -0.17566164,  0.06853662,  0.27462968, -0.06723837, -0.12884578,\n",
              "       -0.01583683, -0.173758  ,  0.16634092, -0.01682585,  0.11784674,\n",
              "        0.12350617,  0.03294566, -0.08796453, -0.06996462, -0.02605063,\n",
              "       -0.0331637 ,  0.04666992, -0.03582903,  0.04679418, -0.15442662,\n",
              "       -0.17527209, -0.0732862 , -0.1267984 ,  0.14700222, -0.02914515,\n",
              "       -0.02622194,  0.08477233, -0.11976615, -0.01996195,  0.16221975,\n",
              "        0.0096135 ,  0.31354904,  0.03677008,  0.04160938, -0.01783015,\n",
              "       -0.06869867, -0.18114346,  0.18461749, -0.05276092,  0.09978765,\n",
              "       -0.0483623 , -0.2945217 ,  0.11998843, -0.06775248, -0.00942189,\n",
              "       -0.11263987, -0.04563543,  0.08693819,  0.09077426,  0.13101767,\n",
              "       -0.01600307, -0.08859662, -0.09348053,  0.18070684,  0.15694639,\n",
              "       -0.03484444,  0.01032258, -0.14822298, -0.05209324, -0.06749861,\n",
              "        0.19849406,  0.09727377,  0.1175536 , -0.06117622, -0.10629149,\n",
              "       -0.07719506, -0.266685  , -0.08021808,  0.180719  ,  0.00815102,\n",
              "        0.00967958, -0.17964627,  0.12797068,  0.1281757 ,  0.09346588,\n",
              "       -0.0682468 ,  0.18033105, -0.15892415,  0.1751056 ,  0.0744321 ,\n",
              "        0.07766772,  0.09919808,  0.05132906,  0.01451815, -0.07384341,\n",
              "       -0.13774411, -0.00560649, -0.15391317, -0.01131572,  0.11520474,\n",
              "        0.2550244 ,  0.09502438, -0.16330487,  0.06003226,  0.01055944,\n",
              "        0.15142405,  0.13146457, -0.25825775, -0.20858353,  0.06067707,\n",
              "       -0.01619343, -0.1217979 , -0.07173444, -0.13984714,  0.19430038,\n",
              "       -0.23806165,  0.07164419, -0.06357434,  0.14508563,  0.05598941,\n",
              "       -0.04624222, -0.03148401, -0.2708576 , -0.16629004, -0.02439733,\n",
              "       -0.10435729,  0.07646702,  0.04574162,  0.07181917,  0.089306  ,\n",
              "       -0.03802798,  0.09586892, -0.07254035,  0.01214902, -0.1717168 ,\n",
              "        0.02085738, -0.03911108, -0.00895899, -0.04008931,  0.13865606,\n",
              "        0.03719346,  0.11945883,  0.1420554 , -0.13572767, -0.1056365 ,\n",
              "        0.00912784, -0.05608998, -0.06305463, -0.08081964, -0.15561438,\n",
              "        0.03735629,  0.19889477, -0.22567078, -0.09928375,  0.02807834,\n",
              "        0.01252261,  0.1567806 ,  0.06979452,  0.01807269, -0.00558002,\n",
              "       -0.09549665,  0.14130187, -0.13659963, -0.09962026,  0.09159061,\n",
              "        0.21895118, -0.06518445, -0.12752064,  0.02375554, -0.09786975,\n",
              "       -0.11766616,  0.09187231,  0.0549568 , -0.0777279 , -0.24064496,\n",
              "       -0.01553642,  0.01025353, -0.01321702,  0.00572098, -0.06679545,\n",
              "       -0.0186842 ,  0.1550735 ,  0.08195563,  0.06157633,  0.03842571,\n",
              "       -0.01382841,  0.11236699,  0.01772459, -0.05544212, -0.09172788,\n",
              "        0.12926133,  0.01813228,  0.04963012, -0.17694107, -0.04984789,\n",
              "       -0.0868056 ,  0.09795745,  0.02495938, -0.02959341,  0.16637181,\n",
              "       -0.03142437, -0.04844716,  0.09233779,  0.11119046,  0.00832118,\n",
              "       -0.1126007 ,  0.02010728,  0.03762989, -0.26431924, -0.09170859,\n",
              "        0.07457964,  0.11773603, -0.01053937, -0.14919636,  0.00106102,\n",
              "       -0.20912234, -0.22878483,  0.01675634,  0.00978636,  0.03166952,\n",
              "        0.07677676,  0.04422414,  0.0028779 , -0.07549895, -0.12318947,\n",
              "       -0.02164292,  0.09642796, -0.01850503, -0.10880314, -0.07304884,\n",
              "        0.0776286 , -0.05095898, -0.03408723, -0.0764377 , -0.13741887,\n",
              "       -0.08867639,  0.01397037, -0.05635495, -0.07735875, -0.01525501,\n",
              "        0.01648523,  0.00649169, -0.06314375, -0.09720119,  0.16446728,\n",
              "        0.00838094,  0.14804101, -0.18553844, -0.116144  , -0.17433591,\n",
              "       -0.01718061,  0.00454088, -0.09665701,  0.02983702, -0.20354299,\n",
              "       -0.06562927, -0.13028637,  0.10168378, -0.08140083,  0.10038068,\n",
              "        0.06656654, -0.09275918, -0.03153896, -0.05042892, -0.17040935,\n",
              "        0.06435465,  0.08450129,  0.0586226 ,  0.10693431,  0.09285497],\n",
              "      dtype=float32)"
            ]
          },
          "execution_count": 36,
          "metadata": {},
          "output_type": "execute_result"
        }
      ],
      "source": [
        "model_cbow.wv['gosh']"
      ]
    },
    {
      "cell_type": "markdown",
      "id": "5c07c05f",
      "metadata": {
        "id": "5c07c05f"
      },
      "source": [
        "### Splitting the data"
      ]
    },
    {
      "cell_type": "code",
      "execution_count": 37,
      "id": "c38fb6dc",
      "metadata": {
        "colab": {
          "base_uri": "https://localhost:8080/",
          "height": 397
        },
        "id": "c38fb6dc",
        "outputId": "c0892dd8-1847-4f11-fa4d-7474e0df0acc"
      },
      "outputs": [
        {
          "data": {
            "application/vnd.google.colaboratory.intrinsic+json": {
              "summary": "{\n  \"name\": \"df\",\n  \"rows\": 51073,\n  \"fields\": [\n    {\n      \"column\": \"statement\",\n      \"properties\": {\n        \"dtype\": \"string\",\n        \"num_unique_values\": 51073,\n        \"samples\": [\n          \"he's been a chain smoker for 30 years.\",\n          \"Dependence on therapist I attend IOP groups and individual therapy sessions at the same place, my therapist who I have worked with on and off for a year and a couple months just told me today that she is leaving soon and I am heartbroken. I love my therapist and I don't know how I am going to keep progressing without her. There will be a replacement for her but idk what to do, I don't want a different therapist. :(\",\n          \"These feelings constantly come back. Someone from my past that hurt me came back a month ago and once again disrespected me and i just feel like shit. Idk why these feelings keep resurfacing but it just hurts. I do not want to be over dramatic but Its hurts when you were nothing but loving/kind to someone and they disrespect you. I just hate feeling like this, feeling like i cannot trust anyone or that no one would ever truly love me unless i have something to offer. I am always worried about my looks and its just making me depressed. I really do not feel like i fit in with the world I am just here. Idk what my next step should be to get help but I am really going through it. (Yes I am in therapy) but how do i help myself ? I have been depressed/anxious for years and most day i do not even leave my house. But nobody around me seems to care and honestly I am tired of feeling this way. But at the same time i do not want to give up on myself bc i feel like I am here to be somebody great. I am just trying to find my way right now. It keeps coming back\"\n        ],\n        \"semantic_type\": \"\",\n        \"description\": \"\"\n      }\n    },\n    {\n      \"column\": \"status\",\n      \"properties\": {\n        \"dtype\": \"category\",\n        \"num_unique_values\": 7,\n        \"samples\": [\n          \"Anxiety\",\n          \"Normal\",\n          \"Bipolar\"\n        ],\n        \"semantic_type\": \"\",\n        \"description\": \"\"\n      }\n    },\n    {\n      \"column\": \"Label\",\n      \"properties\": {\n        \"dtype\": \"number\",\n        \"std\": 1,\n        \"min\": 0,\n        \"max\": 3,\n        \"num_unique_values\": 4,\n        \"samples\": [\n          0,\n          2,\n          3\n        ],\n        \"semantic_type\": \"\",\n        \"description\": \"\"\n      }\n    },\n    {\n      \"column\": \"Text_Cleaned\",\n      \"properties\": {\n        \"dtype\": \"object\",\n        \"semantic_type\": \"\",\n        \"description\": \"\"\n      }\n    },\n    {\n      \"column\": \"lemmatized_text\",\n      \"properties\": {\n        \"dtype\": \"object\",\n        \"semantic_type\": \"\",\n        \"description\": \"\"\n      }\n    }\n  ]\n}",
              "type": "dataframe",
              "variable_name": "df"
            },
            "text/html": [
              "\n",
              "  <div id=\"df-1633823f-fa9e-4704-9b0c-9ecc8c0a68f9\" class=\"colab-df-container\">\n",
              "    <div>\n",
              "<style scoped>\n",
              "    .dataframe tbody tr th:only-of-type {\n",
              "        vertical-align: middle;\n",
              "    }\n",
              "\n",
              "    .dataframe tbody tr th {\n",
              "        vertical-align: top;\n",
              "    }\n",
              "\n",
              "    .dataframe thead th {\n",
              "        text-align: right;\n",
              "    }\n",
              "</style>\n",
              "<table border=\"1\" class=\"dataframe\">\n",
              "  <thead>\n",
              "    <tr style=\"text-align: right;\">\n",
              "      <th></th>\n",
              "      <th>statement</th>\n",
              "      <th>status</th>\n",
              "      <th>Label</th>\n",
              "      <th>Text_Cleaned</th>\n",
              "      <th>lemmatized_text</th>\n",
              "    </tr>\n",
              "  </thead>\n",
              "  <tbody>\n",
              "    <tr>\n",
              "      <th>0</th>\n",
              "      <td>oh my gosh</td>\n",
              "      <td>Anxiety</td>\n",
              "      <td>3</td>\n",
              "      <td>[oh, gosh]</td>\n",
              "      <td>[oh, gosh]</td>\n",
              "    </tr>\n",
              "    <tr>\n",
              "      <th>1</th>\n",
              "      <td>trouble sleeping, confused mind, restless heart. All out of tune</td>\n",
              "      <td>Anxiety</td>\n",
              "      <td>3</td>\n",
              "      <td>[trouble, sleeping, confused, mind, restless, heart, tune]</td>\n",
              "      <td>[trouble, sleeping, confused, mind, restless, heart, tune]</td>\n",
              "    </tr>\n",
              "    <tr>\n",
              "      <th>2</th>\n",
              "      <td>All wrong, back off dear, forward doubt. Stay in a restless and restless place</td>\n",
              "      <td>Anxiety</td>\n",
              "      <td>3</td>\n",
              "      <td>[wrong, back, dear, forward, doubt, stay, restless, restless, place]</td>\n",
              "      <td>[wrong, back, dear, forward, doubt, stay, restless, restless, place]</td>\n",
              "    </tr>\n",
              "    <tr>\n",
              "      <th>3</th>\n",
              "      <td>I've shifted my focus to something else but I'm still worried</td>\n",
              "      <td>Anxiety</td>\n",
              "      <td>3</td>\n",
              "      <td>[shifted, focus, something, else, still, worried]</td>\n",
              "      <td>[shifted, focus, something, else, still, worried]</td>\n",
              "    </tr>\n",
              "    <tr>\n",
              "      <th>4</th>\n",
              "      <td>I'm restless and restless, it's been a month now, boy. What do you mean?</td>\n",
              "      <td>Anxiety</td>\n",
              "      <td>3</td>\n",
              "      <td>[restless, restless, month, boy, mean]</td>\n",
              "      <td>[restless, restless, month, boy, mean]</td>\n",
              "    </tr>\n",
              "  </tbody>\n",
              "</table>\n",
              "</div>\n",
              "    <div class=\"colab-df-buttons\">\n",
              "\n",
              "  <div class=\"colab-df-container\">\n",
              "    <button class=\"colab-df-convert\" onclick=\"convertToInteractive('df-1633823f-fa9e-4704-9b0c-9ecc8c0a68f9')\"\n",
              "            title=\"Convert this dataframe to an interactive table.\"\n",
              "            style=\"display:none;\">\n",
              "\n",
              "  <svg xmlns=\"http://www.w3.org/2000/svg\" height=\"24px\" viewBox=\"0 -960 960 960\">\n",
              "    <path d=\"M120-120v-720h720v720H120Zm60-500h600v-160H180v160Zm220 220h160v-160H400v160Zm0 220h160v-160H400v160ZM180-400h160v-160H180v160Zm440 0h160v-160H620v160ZM180-180h160v-160H180v160Zm440 0h160v-160H620v160Z\"/>\n",
              "  </svg>\n",
              "    </button>\n",
              "\n",
              "  <style>\n",
              "    .colab-df-container {\n",
              "      display:flex;\n",
              "      gap: 12px;\n",
              "    }\n",
              "\n",
              "    .colab-df-convert {\n",
              "      background-color: #E8F0FE;\n",
              "      border: none;\n",
              "      border-radius: 50%;\n",
              "      cursor: pointer;\n",
              "      display: none;\n",
              "      fill: #1967D2;\n",
              "      height: 32px;\n",
              "      padding: 0 0 0 0;\n",
              "      width: 32px;\n",
              "    }\n",
              "\n",
              "    .colab-df-convert:hover {\n",
              "      background-color: #E2EBFA;\n",
              "      box-shadow: 0px 1px 2px rgba(60, 64, 67, 0.3), 0px 1px 3px 1px rgba(60, 64, 67, 0.15);\n",
              "      fill: #174EA6;\n",
              "    }\n",
              "\n",
              "    .colab-df-buttons div {\n",
              "      margin-bottom: 4px;\n",
              "    }\n",
              "\n",
              "    [theme=dark] .colab-df-convert {\n",
              "      background-color: #3B4455;\n",
              "      fill: #D2E3FC;\n",
              "    }\n",
              "\n",
              "    [theme=dark] .colab-df-convert:hover {\n",
              "      background-color: #434B5C;\n",
              "      box-shadow: 0px 1px 3px 1px rgba(0, 0, 0, 0.15);\n",
              "      filter: drop-shadow(0px 1px 2px rgba(0, 0, 0, 0.3));\n",
              "      fill: #FFFFFF;\n",
              "    }\n",
              "  </style>\n",
              "\n",
              "    <script>\n",
              "      const buttonEl =\n",
              "        document.querySelector('#df-1633823f-fa9e-4704-9b0c-9ecc8c0a68f9 button.colab-df-convert');\n",
              "      buttonEl.style.display =\n",
              "        google.colab.kernel.accessAllowed ? 'block' : 'none';\n",
              "\n",
              "      async function convertToInteractive(key) {\n",
              "        const element = document.querySelector('#df-1633823f-fa9e-4704-9b0c-9ecc8c0a68f9');\n",
              "        const dataTable =\n",
              "          await google.colab.kernel.invokeFunction('convertToInteractive',\n",
              "                                                    [key], {});\n",
              "        if (!dataTable) return;\n",
              "\n",
              "        const docLinkHtml = 'Like what you see? Visit the ' +\n",
              "          '<a target=\"_blank\" href=https://colab.research.google.com/notebooks/data_table.ipynb>data table notebook</a>'\n",
              "          + ' to learn more about interactive tables.';\n",
              "        element.innerHTML = '';\n",
              "        dataTable['output_type'] = 'display_data';\n",
              "        await google.colab.output.renderOutput(dataTable, element);\n",
              "        const docLink = document.createElement('div');\n",
              "        docLink.innerHTML = docLinkHtml;\n",
              "        element.appendChild(docLink);\n",
              "      }\n",
              "    </script>\n",
              "  </div>\n",
              "\n",
              "\n",
              "    <div id=\"df-ab2b04bc-c939-4110-90ab-900758e50eb8\">\n",
              "      <button class=\"colab-df-quickchart\" onclick=\"quickchart('df-ab2b04bc-c939-4110-90ab-900758e50eb8')\"\n",
              "                title=\"Suggest charts\"\n",
              "                style=\"display:none;\">\n",
              "\n",
              "<svg xmlns=\"http://www.w3.org/2000/svg\" height=\"24px\"viewBox=\"0 0 24 24\"\n",
              "     width=\"24px\">\n",
              "    <g>\n",
              "        <path d=\"M19 3H5c-1.1 0-2 .9-2 2v14c0 1.1.9 2 2 2h14c1.1 0 2-.9 2-2V5c0-1.1-.9-2-2-2zM9 17H7v-7h2v7zm4 0h-2V7h2v10zm4 0h-2v-4h2v4z\"/>\n",
              "    </g>\n",
              "</svg>\n",
              "      </button>\n",
              "\n",
              "<style>\n",
              "  .colab-df-quickchart {\n",
              "      --bg-color: #E8F0FE;\n",
              "      --fill-color: #1967D2;\n",
              "      --hover-bg-color: #E2EBFA;\n",
              "      --hover-fill-color: #174EA6;\n",
              "      --disabled-fill-color: #AAA;\n",
              "      --disabled-bg-color: #DDD;\n",
              "  }\n",
              "\n",
              "  [theme=dark] .colab-df-quickchart {\n",
              "      --bg-color: #3B4455;\n",
              "      --fill-color: #D2E3FC;\n",
              "      --hover-bg-color: #434B5C;\n",
              "      --hover-fill-color: #FFFFFF;\n",
              "      --disabled-bg-color: #3B4455;\n",
              "      --disabled-fill-color: #666;\n",
              "  }\n",
              "\n",
              "  .colab-df-quickchart {\n",
              "    background-color: var(--bg-color);\n",
              "    border: none;\n",
              "    border-radius: 50%;\n",
              "    cursor: pointer;\n",
              "    display: none;\n",
              "    fill: var(--fill-color);\n",
              "    height: 32px;\n",
              "    padding: 0;\n",
              "    width: 32px;\n",
              "  }\n",
              "\n",
              "  .colab-df-quickchart:hover {\n",
              "    background-color: var(--hover-bg-color);\n",
              "    box-shadow: 0 1px 2px rgba(60, 64, 67, 0.3), 0 1px 3px 1px rgba(60, 64, 67, 0.15);\n",
              "    fill: var(--button-hover-fill-color);\n",
              "  }\n",
              "\n",
              "  .colab-df-quickchart-complete:disabled,\n",
              "  .colab-df-quickchart-complete:disabled:hover {\n",
              "    background-color: var(--disabled-bg-color);\n",
              "    fill: var(--disabled-fill-color);\n",
              "    box-shadow: none;\n",
              "  }\n",
              "\n",
              "  .colab-df-spinner {\n",
              "    border: 2px solid var(--fill-color);\n",
              "    border-color: transparent;\n",
              "    border-bottom-color: var(--fill-color);\n",
              "    animation:\n",
              "      spin 1s steps(1) infinite;\n",
              "  }\n",
              "\n",
              "  @keyframes spin {\n",
              "    0% {\n",
              "      border-color: transparent;\n",
              "      border-bottom-color: var(--fill-color);\n",
              "      border-left-color: var(--fill-color);\n",
              "    }\n",
              "    20% {\n",
              "      border-color: transparent;\n",
              "      border-left-color: var(--fill-color);\n",
              "      border-top-color: var(--fill-color);\n",
              "    }\n",
              "    30% {\n",
              "      border-color: transparent;\n",
              "      border-left-color: var(--fill-color);\n",
              "      border-top-color: var(--fill-color);\n",
              "      border-right-color: var(--fill-color);\n",
              "    }\n",
              "    40% {\n",
              "      border-color: transparent;\n",
              "      border-right-color: var(--fill-color);\n",
              "      border-top-color: var(--fill-color);\n",
              "    }\n",
              "    60% {\n",
              "      border-color: transparent;\n",
              "      border-right-color: var(--fill-color);\n",
              "    }\n",
              "    80% {\n",
              "      border-color: transparent;\n",
              "      border-right-color: var(--fill-color);\n",
              "      border-bottom-color: var(--fill-color);\n",
              "    }\n",
              "    90% {\n",
              "      border-color: transparent;\n",
              "      border-bottom-color: var(--fill-color);\n",
              "    }\n",
              "  }\n",
              "</style>\n",
              "\n",
              "      <script>\n",
              "        async function quickchart(key) {\n",
              "          const quickchartButtonEl =\n",
              "            document.querySelector('#' + key + ' button');\n",
              "          quickchartButtonEl.disabled = true;  // To prevent multiple clicks.\n",
              "          quickchartButtonEl.classList.add('colab-df-spinner');\n",
              "          try {\n",
              "            const charts = await google.colab.kernel.invokeFunction(\n",
              "                'suggestCharts', [key], {});\n",
              "          } catch (error) {\n",
              "            console.error('Error during call to suggestCharts:', error);\n",
              "          }\n",
              "          quickchartButtonEl.classList.remove('colab-df-spinner');\n",
              "          quickchartButtonEl.classList.add('colab-df-quickchart-complete');\n",
              "        }\n",
              "        (() => {\n",
              "          let quickchartButtonEl =\n",
              "            document.querySelector('#df-ab2b04bc-c939-4110-90ab-900758e50eb8 button');\n",
              "          quickchartButtonEl.style.display =\n",
              "            google.colab.kernel.accessAllowed ? 'block' : 'none';\n",
              "        })();\n",
              "      </script>\n",
              "    </div>\n",
              "\n",
              "    </div>\n",
              "  </div>\n"
            ],
            "text/plain": [
              "                                                                        statement  \\\n",
              "0                                                                      oh my gosh   \n",
              "1                trouble sleeping, confused mind, restless heart. All out of tune   \n",
              "2  All wrong, back off dear, forward doubt. Stay in a restless and restless place   \n",
              "3                   I've shifted my focus to something else but I'm still worried   \n",
              "4        I'm restless and restless, it's been a month now, boy. What do you mean?   \n",
              "\n",
              "    status  Label  \\\n",
              "0  Anxiety      3   \n",
              "1  Anxiety      3   \n",
              "2  Anxiety      3   \n",
              "3  Anxiety      3   \n",
              "4  Anxiety      3   \n",
              "\n",
              "                                                           Text_Cleaned  \\\n",
              "0                                                            [oh, gosh]   \n",
              "1            [trouble, sleeping, confused, mind, restless, heart, tune]   \n",
              "2  [wrong, back, dear, forward, doubt, stay, restless, restless, place]   \n",
              "3                     [shifted, focus, something, else, still, worried]   \n",
              "4                                [restless, restless, month, boy, mean]   \n",
              "\n",
              "                                                        lemmatized_text  \n",
              "0                                                            [oh, gosh]  \n",
              "1            [trouble, sleeping, confused, mind, restless, heart, tune]  \n",
              "2  [wrong, back, dear, forward, doubt, stay, restless, restless, place]  \n",
              "3                     [shifted, focus, something, else, still, worried]  \n",
              "4                                [restless, restless, month, boy, mean]  "
            ]
          },
          "execution_count": 37,
          "metadata": {},
          "output_type": "execute_result"
        }
      ],
      "source": [
        "df.head()"
      ]
    },
    {
      "cell_type": "code",
      "execution_count": 38,
      "id": "9c67097c",
      "metadata": {
        "id": "9c67097c"
      },
      "outputs": [],
      "source": [
        "X=df['lemmatized_text']\n",
        "y=df['Label']"
      ]
    },
    {
      "cell_type": "code",
      "execution_count": 39,
      "id": "34628a3d",
      "metadata": {
        "id": "34628a3d"
      },
      "outputs": [],
      "source": [
        "from sklearn.model_selection import train_test_split"
      ]
    },
    {
      "cell_type": "code",
      "execution_count": 40,
      "id": "9e47a74a",
      "metadata": {
        "id": "9e47a74a"
      },
      "outputs": [],
      "source": [
        "X_train,X_test,y_train,y_test= train_test_split(X,y,test_size=0.15,random_state=42)"
      ]
    },
    {
      "cell_type": "markdown",
      "id": "229cd456",
      "metadata": {
        "id": "229cd456"
      },
      "source": [
        "### Converting embeddings to tensors"
      ]
    },
    {
      "cell_type": "code",
      "execution_count": 41,
      "id": "18f70934",
      "metadata": {
        "id": "18f70934"
      },
      "outputs": [],
      "source": [
        "\n",
        "import torch\n",
        "import torch.nn as nn"
      ]
    },
    {
      "cell_type": "code",
      "execution_count": null,
      "id": "d3b62798",
      "metadata": {
        "id": "d3b62798"
      },
      "outputs": [],
      "source": [
        "def convert_sequences_to_tensor(sequences, num_tokens_in_sequence, embedding_size):\n",
        "    '''\n",
        "    We want a torch.FloatTensor() of size (num_sequences, num_tokens_in_sequence, embedding_size)\n",
        "    '''\n",
        "    num_sequences = len(sequences)\n",
        "    print((num_sequences, num_tokens_in_sequence, embedding_size))\n",
        "\n",
        "    data_tensor = torch.zeros((num_sequences, num_tokens_in_sequence, embedding_size))\n",
        "\n",
        "    for index, review in enumerate(list(sequences)):\n",
        "        # Create a word embedding for each word in the review (where a review is a sequence)\n",
        "        truncated_clean_review = review[:num_tokens_in_sequence]  # truncate to sequence length limit\n",
        "\n",
        "        if len(truncated_clean_review) == 0: # accounting for the case where some words might not be recognized by the word2vector model\n",
        "            continue\n",
        "\n",
        "        list_of_word_embeddings = [\n",
        "            model_cbow.wv[word] if word in model_cbow.wv else [0.0] * embedding_size for word in truncated_clean_review\n",
        "        ]\n",
        "\n",
        "        # convert the review to a tensor\n",
        "        sequence_tensor = torch.FloatTensor(list_of_word_embeddings)\n",
        "\n",
        "        # add the review to our tensor of data\n",
        "        review_length = sequence_tensor.shape[0]  # (review_length, embedding_size)\n",
        "        data_tensor[index, :review_length, :] = sequence_tensor\n",
        "\n",
        "    return data_tensor\n"
      ]
    },
    {
      "cell_type": "code",
      "execution_count": null,
      "id": "102c2d05",
      "metadata": {
        "colab": {
          "base_uri": "https://localhost:8080/"
        },
        "id": "102c2d05",
        "outputId": "26aa4b1e-5b2a-4916-da60-90e577175d2d"
      },
      "outputs": [
        {
          "name": "stdout",
          "output_type": "stream",
          "text": [
            "(43412, 125, 300)\n",
            "(7661, 125, 300)\n"
          ]
        }
      ],
      "source": [
        "train_data_X = convert_sequences_to_tensor(X_train.to_numpy(), sequence_length, embedding_size)\n",
        "train_data_y = torch.FloatTensor([int(d) for d in y_train.to_numpy()])\n",
        "\n",
        "test_data_X = convert_sequences_to_tensor(X_test.to_numpy(), sequence_length, embedding_size)\n",
        "test_data_y = torch.FloatTensor([int(d) for d in y_test.to_numpy()])"
      ]
    },
    {
      "cell_type": "markdown",
      "id": "a0100e4f",
      "metadata": {
        "id": "a0100e4f"
      },
      "source": [
        "#### Double checking for consistency"
      ]
    },
    {
      "cell_type": "code",
      "execution_count": null,
      "id": "c96add56",
      "metadata": {
        "colab": {
          "base_uri": "https://localhost:8080/"
        },
        "id": "c96add56",
        "outputId": "f234e7a9-666f-4aca-9ea5-3c5df657e12b"
      },
      "outputs": [
        {
          "data": {
            "text/plain": [
              "(43412, 43412)"
            ]
          },
          "execution_count": 49,
          "metadata": {},
          "output_type": "execute_result"
        }
      ],
      "source": [
        "len(train_data_X),len(train_data_y)"
      ]
    },
    {
      "cell_type": "code",
      "execution_count": null,
      "id": "1d3e341a",
      "metadata": {
        "colab": {
          "base_uri": "https://localhost:8080/"
        },
        "id": "1d3e341a",
        "outputId": "de49eb76-427b-49f8-b1c8-f156c356a4f7"
      },
      "outputs": [
        {
          "data": {
            "text/plain": [
              "(7661, 7661)"
            ]
          },
          "execution_count": 50,
          "metadata": {},
          "output_type": "execute_result"
        }
      ],
      "source": [
        "len(test_data_X),len(test_data_y)"
      ]
    },
    {
      "cell_type": "markdown",
      "id": "7f66a837",
      "metadata": {
        "id": "7f66a837"
      },
      "source": [
        "### Loading the data"
      ]
    },
    {
      "cell_type": "code",
      "execution_count": null,
      "id": "414c4799",
      "metadata": {
        "id": "414c4799"
      },
      "outputs": [],
      "source": [
        "from torch.utils.data import TensorDataset, DataLoader"
      ]
    },
    {
      "cell_type": "code",
      "execution_count": null,
      "id": "a4c34b36",
      "metadata": {
        "id": "a4c34b36"
      },
      "outputs": [],
      "source": [
        "train_data = TensorDataset(train_data_X, train_data_y)\n",
        "test_data = TensorDataset(test_data_X, test_data_y)"
      ]
    },
    {
      "cell_type": "code",
      "execution_count": null,
      "id": "4638d7ac",
      "metadata": {
        "id": "4638d7ac"
      },
      "outputs": [],
      "source": [
        "batch_size=25\n",
        "train_loader = DataLoader(train_data, batch_size=batch_size, shuffle=True)\n",
        "test_loader = DataLoader(test_data, batch_size=batch_size, shuffle=False)"
      ]
    },
    {
      "cell_type": "markdown",
      "id": "e4d538fb",
      "metadata": {},
      "source": [
        "# LSTM Model"
      ]
    },
    {
      "cell_type": "markdown",
      "id": "54b17c49",
      "metadata": {
        "id": "54b17c49"
      },
      "source": [
        "### Training the model"
      ]
    },
    {
      "cell_type": "markdown",
      "id": "fa7723e4",
      "metadata": {
        "id": "fa7723e4"
      },
      "source": [
        "#### Monitoring our Data"
      ]
    },
    {
      "cell_type": "code",
      "execution_count": null,
      "id": "a1983297",
      "metadata": {
        "colab": {
          "base_uri": "https://localhost:8080/"
        },
        "id": "a1983297",
        "outputId": "91a699e0-6cf5-4317-f998-ba2749256695"
      },
      "outputs": [
        {
          "data": {
            "text/plain": [
              "(tensor([[ 0.0232, -0.2021,  0.2335,  ..., -0.0040,  0.1520,  0.0167],\n",
              "         [-1.0337, -0.6775, -1.2836,  ..., -0.8939,  0.6153, -0.2091],\n",
              "         [ 0.5585, -0.8154,  0.3793,  ...,  0.0377,  0.1625, -0.2452],\n",
              "         ...,\n",
              "         [ 0.0000,  0.0000,  0.0000,  ...,  0.0000,  0.0000,  0.0000],\n",
              "         [ 0.0000,  0.0000,  0.0000,  ...,  0.0000,  0.0000,  0.0000],\n",
              "         [ 0.0000,  0.0000,  0.0000,  ...,  0.0000,  0.0000,  0.0000]]),\n",
              " tensor(1.))"
            ]
          },
          "execution_count": 49,
          "metadata": {},
          "output_type": "execute_result"
        }
      ],
      "source": [
        "train_data[0]"
      ]
    },
    {
      "cell_type": "markdown",
      "id": "2c164199",
      "metadata": {
        "id": "2c164199"
      },
      "source": [
        "#### implementing our class"
      ]
    },
    {
      "cell_type": "code",
      "execution_count": 45,
      "id": "6900bb65",
      "metadata": {
        "id": "6900bb65"
      },
      "outputs": [],
      "source": [
        "import torch\n",
        "import torch.nn as nn\n",
        "import torch.nn.functional as F\n",
        "from torch.optim import Adam"
      ]
    },
    {
      "cell_type": "code",
      "execution_count": 46,
      "id": "6874c3dd",
      "metadata": {
        "id": "6874c3dd"
      },
      "outputs": [],
      "source": [
        "device ='cuda' if torch.cuda.is_available() else 'cpu'"
      ]
    },
    {
      "cell_type": "markdown",
      "id": "d8501c9a",
      "metadata": {
        "id": "d8501c9a"
      },
      "source": [
        "The following code adopt a similar structure to the rnn and gru implementations."
      ]
    },
    {
      "cell_type": "code",
      "execution_count": null,
      "id": "575e2add",
      "metadata": {
        "id": "575e2add"
      },
      "outputs": [],
      "source": [
        "class LSTM(nn.Module):\n",
        "    def __init__(self,input_size, hidden_size,num_layers, num_classes):\n",
        "        super(LSTM,self).__init__()\n",
        "        self.num_layers=num_layers\n",
        "        self.hidden_size=hidden_size\n",
        "        self.lstm= nn.LSTM(input_size,hidden_size,num_layers,batch_first=True) # batch must be in first dimension\n",
        "        # if batch first was set to true, input shape: batch size,sequence number, features size\n",
        "        self.fc=nn.Linear(hidden_size, num_classes)\n",
        "\n",
        "    def forward(self, x):\n",
        "        h0=torch.zeros(self.num_layers, x.size(0),self.hidden_size).to(device)\n",
        "        c0=torch.zeros(self.num_layers, x.size(0),self.hidden_size).to(device)\n",
        "        out, _= self.lstm(x,(h0,c0)) # we do not need the second returned output (h_n, c_n) - final states at each layer\n",
        "        out=out[:,-1,:]\n",
        "        out = self.fc(out)\n",
        "        return out"
      ]
    },
    {
      "cell_type": "markdown",
      "id": "3b7f7ea0",
      "metadata": {
        "id": "3b7f7ea0"
      },
      "source": [
        "### Model 1"
      ]
    },
    {
      "cell_type": "code",
      "execution_count": null,
      "id": "295de17c",
      "metadata": {
        "id": "295de17c"
      },
      "outputs": [],
      "source": [
        "hidden_size=256\n",
        "num_layers=3"
      ]
    },
    {
      "cell_type": "code",
      "execution_count": null,
      "id": "095e6a0a",
      "metadata": {
        "id": "095e6a0a"
      },
      "outputs": [],
      "source": [
        "lstm_classifier_1=LSTM(input_size=embedding_size,hidden_size=hidden_size,num_layers=num_layers,num_classes=4)"
      ]
    },
    {
      "cell_type": "code",
      "execution_count": null,
      "id": "7ffbb81a",
      "metadata": {
        "id": "7ffbb81a"
      },
      "outputs": [],
      "source": [
        "learning_rate=0.001 # setting the lea\n",
        "# for the optimizer, we may use either the adam or the sgd optimizers\n",
        "optimizer = Adam(lstm_classifier_1.parameters(), lr=learning_rate)\n",
        "# we are dealing with multi class classification problem, thus will use cross entropy loss\n",
        "loss_criterion=nn.CrossEntropyLoss()"
      ]
    },
    {
      "cell_type": "code",
      "execution_count": null,
      "id": "68e946f6",
      "metadata": {
        "colab": {
          "base_uri": "https://localhost:8080/"
        },
        "id": "68e946f6",
        "outputId": "5070faba-203f-4107-ab27-eebb03c10992"
      },
      "outputs": [
        {
          "data": {
            "text/plain": [
              "1625092"
            ]
          },
          "execution_count": 66,
          "metadata": {},
          "output_type": "execute_result"
        }
      ],
      "source": [
        "# Let's see how many Parameters our Model has!\n",
        "num_model_params = 0\n",
        "for param in lstm_classifier_1.parameters():\n",
        "    num_model_params += param.flatten().shape[0]\n",
        "\n",
        "num_model_params"
      ]
    },
    {
      "cell_type": "markdown",
      "id": "c2d2f3bc",
      "metadata": {
        "id": "c2d2f3bc"
      },
      "source": [
        "#### Training phase"
      ]
    },
    {
      "cell_type": "code",
      "execution_count": null,
      "id": "uaB8aZsAJre1",
      "metadata": {
        "colab": {
          "base_uri": "https://localhost:8080/"
        },
        "id": "uaB8aZsAJre1",
        "outputId": "be6f2aa0-58f1-40f0-ac82-935392e724aa"
      },
      "outputs": [
        {
          "data": {
            "text/plain": [
              "LSTM(\n",
              "  (lstm): LSTM(300, 256, num_layers=3, batch_first=True)\n",
              "  (fc): Linear(in_features=256, out_features=4, bias=True)\n",
              ")"
            ]
          },
          "execution_count": 67,
          "metadata": {},
          "output_type": "execute_result"
        }
      ],
      "source": [
        "lstm_classifier_1.to(device)"
      ]
    },
    {
      "cell_type": "code",
      "execution_count": null,
      "id": "ca78ff84",
      "metadata": {
        "colab": {
          "base_uri": "https://localhost:8080/"
        },
        "id": "ca78ff84",
        "outputId": "f2b561b1-2930-4822-853d-623cd7a61009"
      },
      "outputs": [
        {
          "name": "stdout",
          "output_type": "stream",
          "text": [
            "Epoch [1/10], Loss: 0.869624037936836\n",
            "Epoch [2/10], Loss: 0.6256229815962813\n",
            "Epoch [3/10], Loss: 0.5680555929448595\n",
            "Epoch [4/10], Loss: 0.521328924833939\n",
            "Epoch [5/10], Loss: 0.47743216730015126\n",
            "Epoch [6/10], Loss: 0.43954661914893245\n",
            "Epoch [7/10], Loss: 0.39236406348409775\n",
            "Epoch [8/10], Loss: 0.3482256204353095\n",
            "Epoch [9/10], Loss: 0.3052753558662271\n",
            "Epoch [10/10], Loss: 0.26389656927507366\n"
          ]
        }
      ],
      "source": [
        "epochs=10\n",
        "\n",
        "# Initialize training and test accuracy\n",
        "train_acc = 0\n",
        "test_acc = 0\n",
        "\n",
        "# Loop through each epoch\n",
        "for epoch in range(epochs):\n",
        "    # Update progress bar description with current accuracy\n",
        "\n",
        "    # Set model to training mode\n",
        "    lstm_classifier_1.train()\n",
        "    running_loss=0.0\n",
        "    # Iterate through training data loader\n",
        "    for text,labels in train_loader:\n",
        "        # bs = labels.shape[0]\n",
        "\n",
        "        text=text.to(device)\n",
        "        labels = labels.long().to(device)\n",
        "\n",
        "        # print('text tensor:',text)\n",
        "        # print('text shape:',text.shape)\n",
        "        # print('label tensor:',label)\n",
        "\n",
        "        # Initialize hidden and memory states\n",
        "        # hidden = torch.zeros(num_layers, bs, hidden_size, device=device)\n",
        "        # memory = torch.zeros(num_layers, bs, hidden_size, device=device)\n",
        "\n",
        "        # Forward pass through the model\n",
        "        outputs = lstm_classifier_1(text)\n",
        "\n",
        "        # Calculate the loss\n",
        "        loss = loss_criterion(outputs, labels)\n",
        "        running_loss+=loss.item()\n",
        "\n",
        "        # Backpropagation and optimization\n",
        "        optimizer.zero_grad()\n",
        "        loss.backward()\n",
        "        optimizer.step()\n",
        "\n",
        "    average_loss=running_loss/ len(train_loader)\n",
        "    print(f'Epoch [{epoch+1}/{epochs}], Loss: {average_loss}')\n"
      ]
    },
    {
      "cell_type": "markdown",
      "id": "d8PQFoosO6dw",
      "metadata": {
        "id": "d8PQFoosO6dw"
      },
      "source": [
        "Let us try to increase the number of epochs to 15 to allow our model to train more"
      ]
    },
    {
      "cell_type": "code",
      "execution_count": null,
      "id": "7v5Gw4UGL-zN",
      "metadata": {
        "id": "7v5Gw4UGL-zN"
      },
      "outputs": [],
      "source": [
        "lstm_classifier_2=LSTM(input_size=embedding_size,hidden_size=hidden_size,num_layers=num_layers,num_classes=4)"
      ]
    },
    {
      "cell_type": "code",
      "execution_count": null,
      "id": "aUPygGaSPDph",
      "metadata": {
        "id": "aUPygGaSPDph"
      },
      "outputs": [],
      "source": [
        "learning_rate=0.001\n",
        "optimizer = Adam(lstm_classifier_2.parameters(), lr=learning_rate)\n",
        "loss_criterion=nn.CrossEntropyLoss()"
      ]
    },
    {
      "cell_type": "code",
      "execution_count": null,
      "id": "v7EJYPDCPIFY",
      "metadata": {
        "colab": {
          "base_uri": "https://localhost:8080/"
        },
        "id": "v7EJYPDCPIFY",
        "outputId": "6f7340c1-f640-4878-a339-973e25010ea1"
      },
      "outputs": [
        {
          "data": {
            "text/plain": [
              "LSTM(\n",
              "  (lstm): LSTM(300, 256, num_layers=3, batch_first=True)\n",
              "  (fc): Linear(in_features=256, out_features=4, bias=True)\n",
              ")"
            ]
          },
          "execution_count": 71,
          "metadata": {},
          "output_type": "execute_result"
        }
      ],
      "source": [
        "lstm_classifier_2.to(device)"
      ]
    },
    {
      "cell_type": "code",
      "execution_count": null,
      "id": "GCsi029JPIB1",
      "metadata": {
        "colab": {
          "base_uri": "https://localhost:8080/"
        },
        "id": "GCsi029JPIB1",
        "outputId": "32f77609-f2dc-4051-d66e-500530d7835a"
      },
      "outputs": [
        {
          "name": "stdout",
          "output_type": "stream",
          "text": [
            "Epoch [1/15], Loss: 0.9710846660668369\n",
            "Epoch [2/15], Loss: 0.6601907367258835\n",
            "Epoch [3/15], Loss: 0.5744890228179795\n",
            "Epoch [4/15], Loss: 0.5212915767848526\n",
            "Epoch [5/15], Loss: 0.577023297522558\n",
            "Epoch [6/15], Loss: 0.5067762620125136\n",
            "Epoch [7/15], Loss: 0.4611450318090519\n",
            "Epoch [8/15], Loss: 0.4214520062790153\n",
            "Epoch [9/15], Loss: 0.3780832311366918\n",
            "Epoch [10/15], Loss: 0.33816815543411516\n",
            "Epoch [11/15], Loss: 0.29416516745783644\n",
            "Epoch [12/15], Loss: 0.2549882162583238\n",
            "Epoch [13/15], Loss: 0.21537091436532632\n",
            "Epoch [14/15], Loss: 0.18418409042092546\n",
            "Epoch [15/15], Loss: 0.1616770026102988\n"
          ]
        }
      ],
      "source": [
        "epochs=15\n",
        "\n",
        "# Initialize training and test accuracy\n",
        "train_acc = 0\n",
        "test_acc = 0\n",
        "\n",
        "# Loop through each epoch\n",
        "for epoch in range(epochs):\n",
        "    # Update progress bar description with current accuracy\n",
        "\n",
        "    # Set model to training mode\n",
        "    lstm_classifier_2.train()\n",
        "    running_loss=0.0\n",
        "    # Iterate through training data loader\n",
        "    for text,labels in train_loader:\n",
        "        # bs = labels.shape[0]\n",
        "\n",
        "        text=text.to(device)\n",
        "        labels = labels.long().to(device)\n",
        "\n",
        "        # print('text tensor:',text)\n",
        "        # print('text shape:',text.shape)\n",
        "        # print('label tensor:',label)\n",
        "\n",
        "        # Initialize hidden and memory states\n",
        "        # hidden = torch.zeros(num_layers, bs, hidden_size, device=device)\n",
        "        # memory = torch.zeros(num_layers, bs, hidden_size, device=device)\n",
        "\n",
        "        # Forward pass through the model\n",
        "        outputs = lstm_classifier_2(text)\n",
        "\n",
        "        # Calculate the loss\n",
        "        loss = loss_criterion(outputs, labels)\n",
        "        running_loss+=loss.item()\n",
        "\n",
        "        # Backpropagation and optimization\n",
        "        optimizer.zero_grad()\n",
        "        loss.backward()\n",
        "        optimizer.step()\n",
        "\n",
        "    average_loss=running_loss/ len(train_loader)\n",
        "    print(f'Epoch [{epoch+1}/{epochs}], Loss: {average_loss}')"
      ]
    },
    {
      "cell_type": "markdown",
      "id": "8jg756ttRFGX",
      "metadata": {
        "id": "8jg756ttRFGX"
      },
      "source": [
        "Let us now evaluate the performance of our model"
      ]
    },
    {
      "cell_type": "markdown",
      "id": "WagKVepXTsBa",
      "metadata": {
        "id": "WagKVepXTsBa"
      },
      "source": [
        "#### Creating Our evaluation method"
      ]
    },
    {
      "cell_type": "code",
      "execution_count": 43,
      "id": "FBMtsc3XPSA7",
      "metadata": {
        "id": "FBMtsc3XPSA7"
      },
      "outputs": [],
      "source": [
        "from torch.utils.tensorboard import SummaryWriter"
      ]
    },
    {
      "cell_type": "code",
      "execution_count": 44,
      "id": "KQmSnUycRSDA",
      "metadata": {
        "id": "KQmSnUycRSDA"
      },
      "outputs": [],
      "source": [
        "# i used insights from pattrick lobber github cnn code and tensorboard video to develop the following method, refrence provided in report\n",
        "import torch.nn.functional as F\n",
        "def evaluate_model(model, test_dataloader, loss_criterion, device, writer=None):\n",
        "    model.eval()\n",
        "    total_loss=0.0\n",
        "    total_samples=0\n",
        "    correct_classifications=0\n",
        "    # for the pr curve\n",
        "    all_probs=[]\n",
        "    all_labels=[]\n",
        "    size=len(test_dataloader) # dataset size\n",
        "    with torch.no_grad():\n",
        "        for text,labels in test_dataloader:\n",
        "            text=text.to(device)\n",
        "            labels=labels.long().to(device)\n",
        "\n",
        "            outputs=model(text)\n",
        "            loss=loss_criterion(outputs,labels)\n",
        "            total_loss+=loss.item()\n",
        "\n",
        "            probs = F.softmax(outputs, dim=1)\n",
        "            predicted_classes = torch.argmax(outputs, dim=1)\n",
        "            correct_classifications += (predicted_classes == labels).sum().item()\n",
        "            total_samples += labels.size(0)\n",
        "\n",
        "            all_probs.extend(probs.cpu().tolist())\n",
        "            all_labels.extend(labels.cpu().tolist())\n",
        "\n",
        "    avg_class_loss=total_loss/size\n",
        "    classification_accuracy=100.0*(correct_classifications/total_samples)\n",
        "\n",
        "    print(f\"Average Classification Loss: {avg_class_loss}\")\n",
        "    print(f\"Classification Accuracy: {classification_accuracy}%\")\n",
        "\n",
        "\n",
        "    if writer is not None: # i want to use a writer for every model so that i may see the results and compare them\n",
        "        writer.add_scalar('Loss/Classification', avg_class_loss, 0)\n",
        "        writer.add_scalar('Accuracy/Classification', classification_accuracy, 0)\n",
        "        # log per class the pr curves\n",
        "        for class_index in range(len(all_probs[0])):\n",
        "            writer.add_pr_curve(\n",
        "                f'PR_Curve/Class_{class_index}',\n",
        "                torch.tensor([label == class_index for label in all_labels], dtype=torch.uint8),\n",
        "                torch.tensor([prob[class_index] for prob in all_probs]),\n",
        "                global_step=0\n",
        "            )\n",
        "\n"
      ]
    },
    {
      "cell_type": "markdown",
      "id": "1UHROCXrTwPy",
      "metadata": {
        "id": "1UHROCXrTwPy"
      },
      "source": [
        "#### evaluating our first model"
      ]
    },
    {
      "cell_type": "code",
      "execution_count": null,
      "id": "6sa4YpvOTzh6",
      "metadata": {
        "colab": {
          "base_uri": "https://localhost:8080/"
        },
        "id": "6sa4YpvOTzh6",
        "outputId": "915d17ac-d6cc-4f8b-d87c-616458f5d3a7"
      },
      "outputs": [
        {
          "name": "stdout",
          "output_type": "stream",
          "text": [
            "Average Classification Loss: 0.8348020230714195\n",
            "Classification Accuracy: 76.34773528260018%\n"
          ]
        }
      ],
      "source": [
        "evaluate_model(lstm_classifier_2, test_loader, loss_criterion, device, writer=SummaryWriter('runs/model_1'))"
      ]
    },
    {
      "cell_type": "markdown",
      "id": "hu_lKk-60X_4",
      "metadata": {
        "id": "hu_lKk-60X_4"
      },
      "source": [
        "### Finetuning our Model"
      ]
    },
    {
      "cell_type": "markdown",
      "id": "Uyq8bWXE0ekt",
      "metadata": {
        "id": "Uyq8bWXE0ekt"
      },
      "source": [
        "first, we will start by changing the learning rate to half the past value. Moreover, I will try setting the hidden size to 512 and train the model for 15 epochs."
      ]
    },
    {
      "cell_type": "code",
      "execution_count": null,
      "id": "s3Ybe-7l2bvj",
      "metadata": {
        "id": "s3Ybe-7l2bvj"
      },
      "outputs": [],
      "source": [
        "hidden_size=512"
      ]
    },
    {
      "cell_type": "code",
      "execution_count": null,
      "id": "BOcJMEaK2LZs",
      "metadata": {
        "id": "BOcJMEaK2LZs"
      },
      "outputs": [],
      "source": [
        "lstm_classifier_3=LSTM(input_size=embedding_size,hidden_size=hidden_size,num_layers=num_layers,num_classes=4)"
      ]
    },
    {
      "cell_type": "code",
      "execution_count": null,
      "id": "bVrFI1O_2LZt",
      "metadata": {
        "id": "bVrFI1O_2LZt"
      },
      "outputs": [],
      "source": [
        "learning_rate=learning_rate/2\n",
        "optimizer = Adam(lstm_classifier_3.parameters(), lr=learning_rate)\n",
        "loss_criterion=nn.CrossEntropyLoss()"
      ]
    },
    {
      "cell_type": "code",
      "execution_count": null,
      "id": "rSahfYkU2LZt",
      "metadata": {
        "colab": {
          "base_uri": "https://localhost:8080/"
        },
        "id": "rSahfYkU2LZt",
        "outputId": "5e3c6f76-b29f-45dc-a822-304de1a3f911"
      },
      "outputs": [
        {
          "data": {
            "text/plain": [
              "LSTM(\n",
              "  (lstm): LSTM(300, 512, num_layers=3, batch_first=True)\n",
              "  (fc): Linear(in_features=512, out_features=4, bias=True)\n",
              ")"
            ]
          },
          "execution_count": 63,
          "metadata": {},
          "output_type": "execute_result"
        }
      ],
      "source": [
        "lstm_classifier_3.to(device)"
      ]
    },
    {
      "cell_type": "code",
      "execution_count": null,
      "id": "n5XMWynO2LZt",
      "metadata": {
        "colab": {
          "base_uri": "https://localhost:8080/"
        },
        "id": "n5XMWynO2LZt",
        "outputId": "c32ef895-3d91-4ee0-f771-bf4d875397c6"
      },
      "outputs": [
        {
          "name": "stdout",
          "output_type": "stream",
          "text": [
            "Epoch [1/15], Loss: 1.1543518596499833\n",
            "Epoch [2/15], Loss: 0.8748918678407773\n",
            "Epoch [3/15], Loss: 0.6540343460847265\n",
            "Epoch [4/15], Loss: 0.5758533428370026\n",
            "Epoch [5/15], Loss: 0.5250701154520543\n",
            "Epoch [6/15], Loss: 0.47981499908004055\n",
            "Epoch [7/15], Loss: 0.42529954976162554\n",
            "Epoch [8/15], Loss: 0.37064207368409696\n",
            "Epoch [9/15], Loss: 0.3145915299726926\n",
            "Epoch [10/15], Loss: 0.2588949281417764\n",
            "Epoch [11/15], Loss: 0.21059165045696218\n",
            "Epoch [12/15], Loss: 0.16848075825551598\n",
            "Epoch [13/15], Loss: 0.1360465545203509\n",
            "Epoch [14/15], Loss: 0.11407547248001963\n",
            "Epoch [15/15], Loss: 0.09319619160286532\n"
          ]
        }
      ],
      "source": [
        "epochs=15\n",
        "\n",
        "# Initialize training and test accuracy\n",
        "train_acc = 0\n",
        "test_acc = 0\n",
        "\n",
        "# Loop through each epoch\n",
        "for epoch in range(epochs):\n",
        "    # Update progress bar description with current accuracy\n",
        "\n",
        "    # Set model to training mode\n",
        "    lstm_classifier_3.train()\n",
        "    running_loss=0.0\n",
        "    # Iterate through training data loader\n",
        "    for text,labels in train_loader:\n",
        "        # bs = labels.shape[0]\n",
        "\n",
        "        text=text.to(device)\n",
        "        labels = labels.long().to(device)\n",
        "\n",
        "        # print('text tensor:',text)\n",
        "        # print('text shape:',text.shape)\n",
        "        # print('label tensor:',label)\n",
        "\n",
        "        # Initialize hidden and memory states\n",
        "        # hidden = torch.zeros(num_layers, bs, hidden_size, device=device)\n",
        "        # memory = torch.zeros(num_layers, bs, hidden_size, device=device)\n",
        "\n",
        "        # Forward pass through the model\n",
        "        outputs = lstm_classifier_3(text)\n",
        "\n",
        "        # Calculate the loss\n",
        "        loss = loss_criterion(outputs, labels)\n",
        "        running_loss+=loss.item()\n",
        "\n",
        "        # Backpropagation and optimization\n",
        "        optimizer.zero_grad()\n",
        "        loss.backward()\n",
        "        optimizer.step()\n",
        "\n",
        "    average_loss=running_loss/ len(train_loader)\n",
        "    print(f'Epoch [{epoch+1}/{epochs}], Loss: {average_loss}')"
      ]
    },
    {
      "cell_type": "markdown",
      "id": "gwY2LMe25Ug2",
      "metadata": {
        "id": "gwY2LMe25Ug2"
      },
      "source": [
        "#### evaluating our finetuned model performance"
      ]
    },
    {
      "cell_type": "code",
      "execution_count": null,
      "id": "t41lzEHG5T2k",
      "metadata": {
        "colab": {
          "base_uri": "https://localhost:8080/"
        },
        "id": "t41lzEHG5T2k",
        "outputId": "52fc7204-6313-4e3b-b2fc-a3016bc11dfe"
      },
      "outputs": [
        {
          "name": "stdout",
          "output_type": "stream",
          "text": [
            "Average Classification Loss: 1.0187871278254528\n",
            "Classification Accuracy: 76.0997258843493%\n"
          ]
        }
      ],
      "source": [
        "evaluate_model(lstm_classifier_3, test_loader, loss_criterion, device, writer=SummaryWriter('runs/model_2'))"
      ]
    },
    {
      "cell_type": "markdown",
      "id": "Q7OgfEpd5ily",
      "metadata": {
        "id": "Q7OgfEpd5ily"
      },
      "source": [
        "Athough the model loss in the training phase decreased in comparison with the our first model, a similar (slightly less) accuracy was obtained on the test data. Thus, this means that our model is overfitting, thats why we will keep our hidden layers number as is and introduce dropouts. Note that from now on, we will adopt our new learning rate."
      ]
    },
    {
      "cell_type": "markdown",
      "id": "7dDXjA_E5kTq",
      "metadata": {
        "id": "7dDXjA_E5kTq"
      },
      "source": [
        "### Adding dropouts"
      ]
    },
    {
      "cell_type": "markdown",
      "id": "d0c1ad52",
      "metadata": {},
      "source": [
        "We will add dropouts so that our model becomes prone to overfitting"
      ]
    },
    {
      "cell_type": "code",
      "execution_count": null,
      "id": "dGw22-4d6WdT",
      "metadata": {
        "id": "dGw22-4d6WdT"
      },
      "outputs": [],
      "source": [
        "class LSTM_V1(nn.Module):\n",
        "    def __init__(self,input_size, hidden_size,num_layers, num_classes):\n",
        "        super(LSTM_V1,self).__init__()\n",
        "        self.num_layers=num_layers\n",
        "        self.hidden_size=hidden_size\n",
        "        self.lstm= nn.LSTM(input_size,hidden_size,num_layers,batch_first=True,dropout=0.3)\n",
        "        self.fc=nn.Linear(hidden_size, num_classes)\n",
        "\n",
        "    def forward(self, x):\n",
        "        h0=torch.zeros(self.num_layers, x.size(0),self.hidden_size).to(device)\n",
        "        c0=torch.zeros(self.num_layers, x.size(0),self.hidden_size).to(device)\n",
        "        out, _= self.lstm(x,(h0,c0)) # we do not need the second returned output (h_n)\n",
        "        out=out[:,-1,:]\n",
        "        out = self.fc(out)\n",
        "        return out"
      ]
    },
    {
      "cell_type": "code",
      "execution_count": null,
      "id": "0xF8lig-6oFx",
      "metadata": {
        "id": "0xF8lig-6oFx"
      },
      "outputs": [],
      "source": [
        "lstm_classifier_4=LSTM_V1(input_size=embedding_size,hidden_size=hidden_size,num_layers=num_layers,num_classes=4)"
      ]
    },
    {
      "cell_type": "code",
      "execution_count": null,
      "id": "84_P4U9T6oFx",
      "metadata": {
        "id": "84_P4U9T6oFx"
      },
      "outputs": [],
      "source": [
        "optimizer = Adam(lstm_classifier_4.parameters(), lr=learning_rate)\n",
        "loss_criterion=nn.CrossEntropyLoss()"
      ]
    },
    {
      "cell_type": "code",
      "execution_count": null,
      "id": "y-F9RZ9Q6oFx",
      "metadata": {
        "colab": {
          "base_uri": "https://localhost:8080/"
        },
        "id": "y-F9RZ9Q6oFx",
        "outputId": "3b138346-6bb2-44ba-e4e5-c22966738424"
      },
      "outputs": [
        {
          "data": {
            "text/plain": [
              "LSTM_V1(\n",
              "  (lstm): LSTM(300, 512, num_layers=3, batch_first=True, dropout=0.3)\n",
              "  (fc): Linear(in_features=512, out_features=4, bias=True)\n",
              ")"
            ]
          },
          "execution_count": 71,
          "metadata": {},
          "output_type": "execute_result"
        }
      ],
      "source": [
        "lstm_classifier_4.to(device)"
      ]
    },
    {
      "cell_type": "code",
      "execution_count": null,
      "id": "X2PPP8Ex6oFx",
      "metadata": {
        "colab": {
          "base_uri": "https://localhost:8080/"
        },
        "id": "X2PPP8Ex6oFx",
        "outputId": "9a7fc767-e8ee-4178-ac22-f048e18326d0"
      },
      "outputs": [
        {
          "name": "stdout",
          "output_type": "stream",
          "text": [
            "Epoch [1/15], Loss: 0.9597894063645145\n",
            "Epoch [2/15], Loss: 0.7186096153282612\n",
            "Epoch [3/15], Loss: 0.6458067005659975\n",
            "Epoch [4/15], Loss: 0.6084104004987849\n",
            "Epoch [5/15], Loss: 0.5695538812230632\n",
            "Epoch [6/15], Loss: 0.5348890919279078\n",
            "Epoch [7/15], Loss: 0.5068962416757985\n",
            "Epoch [8/15], Loss: 0.4740452340444272\n",
            "Epoch [9/15], Loss: 0.4441381752722622\n",
            "Epoch [10/15], Loss: 0.41191451802686774\n",
            "Epoch [11/15], Loss: 0.37555808124438605\n",
            "Epoch [12/15], Loss: 0.3385550942471402\n",
            "Epoch [13/15], Loss: 0.2978308242378423\n",
            "Epoch [14/15], Loss: 0.25740316094670856\n",
            "Epoch [15/15], Loss: 0.22228090015867866\n"
          ]
        }
      ],
      "source": [
        "epochs=15\n",
        "\n",
        "# Initialize training and test accuracy\n",
        "train_acc = 0\n",
        "test_acc = 0\n",
        "\n",
        "# Loop through each epoch\n",
        "for epoch in range(epochs):\n",
        "    # Update progress bar description with current accuracy\n",
        "\n",
        "    # Set model to training mode\n",
        "    lstm_classifier_4.train()\n",
        "    running_loss=0.0\n",
        "    # Iterate through training data loader\n",
        "    for text,labels in train_loader:\n",
        "        # bs = labels.shape[0]\n",
        "\n",
        "        text=text.to(device)\n",
        "        labels = labels.long().to(device)\n",
        "\n",
        "        # print('text tensor:',text)\n",
        "        # print('text shape:',text.shape)\n",
        "        # print('label tensor:',label)\n",
        "\n",
        "        # Initialize hidden and memory states\n",
        "        # hidden = torch.zeros(num_layers, bs, hidden_size, device=device)\n",
        "        # memory = torch.zeros(num_layers, bs, hidden_size, device=device)\n",
        "\n",
        "        # Forward pass through the model\n",
        "        outputs = lstm_classifier_4(text)\n",
        "\n",
        "        # Calculate the loss\n",
        "        loss = loss_criterion(outputs, labels)\n",
        "        running_loss+=loss.item()\n",
        "\n",
        "        # Backpropagation and optimization\n",
        "        optimizer.zero_grad()\n",
        "        loss.backward()\n",
        "        optimizer.step()\n",
        "\n",
        "    average_loss=running_loss/ len(train_loader)\n",
        "    print(f'Epoch [{epoch+1}/{epochs}], Loss: {average_loss}')"
      ]
    },
    {
      "cell_type": "markdown",
      "id": "KdQWwPPK6oFy",
      "metadata": {
        "id": "KdQWwPPK6oFy"
      },
      "source": [
        "#### evaluating our finetuned model performance"
      ]
    },
    {
      "cell_type": "code",
      "execution_count": null,
      "id": "Ao0-j9NW6oFy",
      "metadata": {
        "colab": {
          "base_uri": "https://localhost:8080/"
        },
        "id": "Ao0-j9NW6oFy",
        "outputId": "c60f465f-75b9-4ecd-dfd0-ce6b817420c9"
      },
      "outputs": [
        {
          "name": "stdout",
          "output_type": "stream",
          "text": [
            "Average Classification Loss: 0.7751262835939855\n",
            "Classification Accuracy: 77.0395509724579%\n"
          ]
        }
      ],
      "source": [
        "evaluate_model(lstm_classifier_4, test_loader, loss_criterion, device, writer=SummaryWriter('runs/model_3'))"
      ]
    },
    {
      "cell_type": "markdown",
      "id": "okhmpIjL6_aH",
      "metadata": {
        "id": "okhmpIjL6_aH"
      },
      "source": [
        "There is an increase in the accuracy in comparison with the previous models with respect to the test data. Better results will be achieved in the model is trained for 5 more epochs"
      ]
    },
    {
      "cell_type": "markdown",
      "id": "kD4J5Go07AGZ",
      "metadata": {
        "id": "kD4J5Go07AGZ"
      },
      "source": [
        "### Trying the bidirectional LSTM"
      ]
    },
    {
      "cell_type": "code",
      "execution_count": 54,
      "id": "8p-ClRcS7ExJ",
      "metadata": {
        "id": "8p-ClRcS7ExJ"
      },
      "outputs": [],
      "source": [
        "class LSTM_V2(nn.Module):\n",
        "    def __init__(self,input_size, hidden_size,num_layers, num_classes):\n",
        "        super(LSTM_V2,self).__init__()\n",
        "        self.num_layers=num_layers\n",
        "        self.hidden_size=hidden_size\n",
        "        self.lstm= nn.LSTM(input_size,hidden_size,num_layers,batch_first=True,dropout=0.3,bidirectional=True) # batch must be in first dimension\n",
        "        # if batch first was set to true, input shape: batch size,sequence number, features size\n",
        "        self.fc=nn.Linear(hidden_size*2, num_classes)\n",
        "\n",
        "    def forward(self, x):\n",
        "        num_directions = 2  # we need to accomodate the hidden and cell states to both directions\n",
        "        h0=torch.zeros(self.num_layers*num_directions, x.size(0),self.hidden_size).to(device)\n",
        "        c0=torch.zeros(self.num_layers*num_directions, x.size(0),self.hidden_size).to(device)\n",
        "        out, _= self.lstm(x,(h0,c0)) # we do not need the second returned output (h_n)\n",
        "        out=out[:,-1,:]\n",
        "        out = self.fc(out)\n",
        "        return out"
      ]
    },
    {
      "cell_type": "markdown",
      "id": "oJhD1XHEDicO",
      "metadata": {
        "id": "oJhD1XHEDicO"
      },
      "source": [
        "we will be now processing in two directions, one from the start to the end and the other vice versa. For each directional step we need to use one hidden size. Thats why we will need to double the hidden size for the last layer to concatenate the forward and backward outputs. Thus, it will be reasonable to drop the hidden size to 256 ( if it remains 512, we will recieve an input of size 1024 at the last layer, resulting in increasing overfitting risk, extra memory usage, and slower training)"
      ]
    },
    {
      "cell_type": "code",
      "execution_count": null,
      "id": "QAd5TJECBZIo",
      "metadata": {
        "id": "QAd5TJECBZIo"
      },
      "outputs": [],
      "source": [
        "hidden_size=256\n",
        "lstm_classifier_5=LSTM_V2(input_size=embedding_size,hidden_size=hidden_size,num_layers=num_layers,num_classes=4)"
      ]
    },
    {
      "cell_type": "code",
      "execution_count": null,
      "id": "mCKYaBdWBZIp",
      "metadata": {
        "id": "mCKYaBdWBZIp"
      },
      "outputs": [],
      "source": [
        "optimizer = Adam(lstm_classifier_5.parameters(), lr=learning_rate)\n",
        "loss_criterion=nn.CrossEntropyLoss()"
      ]
    },
    {
      "cell_type": "code",
      "execution_count": null,
      "id": "nhm7usKIBZIp",
      "metadata": {
        "colab": {
          "base_uri": "https://localhost:8080/"
        },
        "id": "nhm7usKIBZIp",
        "outputId": "ff3cf630-6116-475d-fe00-f0b9899fe951"
      },
      "outputs": [
        {
          "data": {
            "text/plain": [
              "LSTM_V2(\n",
              "  (lstm): LSTM(300, 256, num_layers=3, batch_first=True, dropout=0.3, bidirectional=True)\n",
              "  (fc): Linear(in_features=512, out_features=4, bias=True)\n",
              ")"
            ]
          },
          "execution_count": 83,
          "metadata": {},
          "output_type": "execute_result"
        }
      ],
      "source": [
        "lstm_classifier_5.to(device)"
      ]
    },
    {
      "cell_type": "code",
      "execution_count": null,
      "id": "3cU2-OGnBZIp",
      "metadata": {
        "colab": {
          "base_uri": "https://localhost:8080/"
        },
        "id": "3cU2-OGnBZIp",
        "outputId": "17554dea-da75-42d4-b7d9-34d4b083e25c"
      },
      "outputs": [
        {
          "name": "stdout",
          "output_type": "stream",
          "text": [
            "Epoch [1/15], Loss: 0.8691808864791708\n",
            "Epoch [2/15], Loss: 0.6515010031874179\n",
            "Epoch [3/15], Loss: 0.5873475208681208\n",
            "Epoch [4/15], Loss: 0.53680898607738\n",
            "Epoch [5/15], Loss: 0.4944985058452456\n",
            "Epoch [6/15], Loss: 0.4554186855830471\n",
            "Epoch [7/15], Loss: 0.4168819786404904\n",
            "Epoch [8/15], Loss: 0.3780861123238203\n",
            "Epoch [9/15], Loss: 0.334465088336699\n",
            "Epoch [10/15], Loss: 0.29048477168364917\n",
            "Epoch [11/15], Loss: 0.2520993145297469\n",
            "Epoch [12/15], Loss: 0.2199809644521398\n",
            "Epoch [13/15], Loss: 0.18602034305938117\n",
            "Epoch [14/15], Loss: 0.16189876927312724\n",
            "Epoch [15/15], Loss: 0.13929175232871124\n"
          ]
        }
      ],
      "source": [
        "epochs=15\n",
        "\n",
        "# Initialize training and test accuracy\n",
        "train_acc = 0\n",
        "test_acc = 0\n",
        "\n",
        "# Loop through each epoch\n",
        "for epoch in range(epochs):\n",
        "    # Update progress bar description with current accuracy\n",
        "\n",
        "    # Set model to training mode\n",
        "    lstm_classifier_5.train()\n",
        "    running_loss=0.0\n",
        "    # Iterate through training data loader\n",
        "    for text,labels in train_loader:\n",
        "        # bs = labels.shape[0]\n",
        "\n",
        "        text=text.to(device)\n",
        "        labels = labels.long().to(device)\n",
        "\n",
        "        # print('text tensor:',text)\n",
        "        # print('text shape:',text.shape)\n",
        "        # print('label tensor:',label)\n",
        "\n",
        "        # Initialize hidden and memory states\n",
        "        # hidden = torch.zeros(num_layers, bs, hidden_size, device=device)\n",
        "        # memory = torch.zeros(num_layers, bs, hidden_size, device=device)\n",
        "\n",
        "        # Forward pass through the model\n",
        "        outputs = lstm_classifier_5(text)\n",
        "\n",
        "        # Calculate the loss\n",
        "        loss = loss_criterion(outputs, labels)\n",
        "        running_loss+=loss.item()\n",
        "\n",
        "        # Backpropagation and optimization\n",
        "        optimizer.zero_grad()\n",
        "        loss.backward()\n",
        "        optimizer.step()\n",
        "\n",
        "    average_loss=running_loss/ len(train_loader)\n",
        "    print(f'Epoch [{epoch+1}/{epochs}], Loss: {average_loss}')"
      ]
    },
    {
      "cell_type": "markdown",
      "id": "okGe010yBZIp",
      "metadata": {
        "id": "okGe010yBZIp"
      },
      "source": [
        "#### evaluating our finetuned model performance"
      ]
    },
    {
      "cell_type": "code",
      "execution_count": null,
      "id": "To08kqE7BZIp",
      "metadata": {
        "colab": {
          "base_uri": "https://localhost:8080/"
        },
        "id": "To08kqE7BZIp",
        "outputId": "b8b2e377-3956-4822-c1e2-23f5d3a2cb97"
      },
      "outputs": [
        {
          "name": "stdout",
          "output_type": "stream",
          "text": [
            "Average Classification Loss: 0.8172653004745513\n",
            "Classification Accuracy: 77.97937606056651%\n"
          ]
        }
      ],
      "source": [
        "evaluate_model(lstm_classifier_5, test_loader, loss_criterion, device, writer=SummaryWriter('runs/model_4'))"
      ]
    },
    {
      "cell_type": "markdown",
      "id": "5h8_-fVIJ9To",
      "metadata": {
        "id": "5h8_-fVIJ9To"
      },
      "source": [
        "There is a slight increase in the classification accuaracy, but this is not enough. This being said, I will try now to increase the number of training epochs to 20, apply L2 regularization to our adam optimizer, and set the learning rate to half its past value."
      ]
    },
    {
      "cell_type": "markdown",
      "id": "3mp-IzDuKe2D",
      "metadata": {
        "id": "3mp-IzDuKe2D"
      },
      "source": [
        "#### Bidirectional LSTM V2"
      ]
    },
    {
      "cell_type": "code",
      "execution_count": null,
      "id": "ToQB3YRyKom1",
      "metadata": {
        "id": "ToQB3YRyKom1"
      },
      "outputs": [],
      "source": [
        "hidden_size=256\n",
        "lstm_classifier_6=LSTM_V2(input_size=embedding_size,hidden_size=hidden_size,num_layers=num_layers,num_classes=4)"
      ]
    },
    {
      "cell_type": "code",
      "execution_count": null,
      "id": "b_NFpEsrKoje",
      "metadata": {
        "id": "b_NFpEsrKoje"
      },
      "outputs": [],
      "source": [
        "learning_rate=learning_rate/2\n",
        "optimizer = Adam(lstm_classifier_6.parameters(), lr=learning_rate,weight_decay=0.00001)\n",
        "loss_criterion=nn.CrossEntropyLoss()"
      ]
    },
    {
      "cell_type": "code",
      "execution_count": null,
      "id": "2ZytpUJoLWNW",
      "metadata": {
        "colab": {
          "base_uri": "https://localhost:8080/"
        },
        "id": "2ZytpUJoLWNW",
        "outputId": "5ea6ff85-2b8b-4052-8d7b-581121a11d36"
      },
      "outputs": [
        {
          "data": {
            "text/plain": [
              "LSTM_V3(\n",
              "  (lstm): LSTM(300, 256, num_layers=3, batch_first=True, dropout=0.3, bidirectional=True)\n",
              "  (fc): Linear(in_features=512, out_features=4, bias=True)\n",
              ")"
            ]
          },
          "execution_count": 106,
          "metadata": {},
          "output_type": "execute_result"
        }
      ],
      "source": [
        "lstm_classifier_6.to(device)"
      ]
    },
    {
      "cell_type": "code",
      "execution_count": null,
      "id": "CxoZMSigK6Ur",
      "metadata": {
        "colab": {
          "base_uri": "https://localhost:8080/"
        },
        "id": "CxoZMSigK6Ur",
        "outputId": "eceb3ff8-8f9d-4041-f410-3a3d0bde572d"
      },
      "outputs": [
        {
          "name": "stdout",
          "output_type": "stream",
          "text": [
            "Epoch [1/20], Loss: 0.9437159943079633\n",
            "Epoch [2/20], Loss: 0.6818764236255425\n",
            "Epoch [3/20], Loss: 0.6097592472875674\n",
            "Epoch [4/20], Loss: 0.5635290157798384\n",
            "Epoch [5/20], Loss: 0.5292897775091518\n",
            "Epoch [6/20], Loss: 0.5006692680687347\n",
            "Epoch [7/20], Loss: 0.47277386296941554\n",
            "Epoch [8/20], Loss: 0.44738339644759706\n",
            "Epoch [9/20], Loss: 0.41762979287454705\n",
            "Epoch [10/20], Loss: 0.38928236217421913\n",
            "Epoch [11/20], Loss: 0.3567889538852559\n",
            "Epoch [12/20], Loss: 0.3261091331911108\n",
            "Epoch [13/20], Loss: 0.2973258737077916\n",
            "Epoch [14/20], Loss: 0.26597250512038145\n",
            "Epoch [15/20], Loss: 0.23799118341070588\n",
            "Epoch [16/20], Loss: 0.20884197608717364\n",
            "Epoch [17/20], Loss: 0.19084492343369064\n",
            "Epoch [18/20], Loss: 0.16921060990379178\n",
            "Epoch [19/20], Loss: 0.15235633333521922\n",
            "Epoch [20/20], Loss: 0.13959115778528172\n"
          ]
        }
      ],
      "source": [
        "epochs=20\n",
        "\n",
        "# Initialize training and test accuracy\n",
        "train_acc = 0\n",
        "test_acc = 0\n",
        "\n",
        "# Loop through each epoch\n",
        "for epoch in range(epochs):\n",
        "    # Update progress bar description with current accuracy\n",
        "\n",
        "    # Set model to training mode\n",
        "    lstm_classifier_6.train()\n",
        "    running_loss=0.0\n",
        "    # Iterate through training data loader\n",
        "    for text,labels in train_loader:\n",
        "        # bs = labels.shape[0]\n",
        "\n",
        "        text=text.to(device)\n",
        "        labels = labels.long().to(device)\n",
        "\n",
        "        # print('text tensor:',text)\n",
        "        # print('text shape:',text.shape)\n",
        "        # print('label tensor:',label)\n",
        "\n",
        "        # Initialize hidden and memory states\n",
        "        # hidden = torch.zeros(num_layers, bs, hidden_size, device=device)\n",
        "        # memory = torch.zeros(num_layers, bs, hidden_size, device=device)\n",
        "\n",
        "        # Forward pass through the model\n",
        "        outputs = lstm_classifier_6(text)\n",
        "\n",
        "        # Calculate the loss\n",
        "        loss = loss_criterion(outputs, labels)\n",
        "        running_loss+=loss.item()\n",
        "\n",
        "        # Backpropagation and optimization\n",
        "        optimizer.zero_grad()\n",
        "        loss.backward()\n",
        "        optimizer.step()\n",
        "\n",
        "    average_loss=running_loss/ len(train_loader)\n",
        "    print(f'Epoch [{epoch+1}/{epochs}], Loss: {average_loss}')"
      ]
    },
    {
      "cell_type": "markdown",
      "id": "gZ7WxgVULZnw",
      "metadata": {
        "id": "gZ7WxgVULZnw"
      },
      "source": [
        "#### evaluating our bi-lstm v2 model"
      ]
    },
    {
      "cell_type": "code",
      "execution_count": null,
      "id": "Q0W2IXAzK6HV",
      "metadata": {
        "colab": {
          "base_uri": "https://localhost:8080/"
        },
        "id": "Q0W2IXAzK6HV",
        "outputId": "c75a9085-5d8b-4b79-ddcc-d1fb09703c32"
      },
      "outputs": [
        {
          "name": "stdout",
          "output_type": "stream",
          "text": [
            "Average Classification Loss: 0.8385523604259428\n",
            "Classification Accuracy: 76.28246965148153%\n"
          ]
        }
      ],
      "source": [
        "evaluate_model(lstm_classifier_6, test_loader, loss_criterion, device, writer=SummaryWriter('runs/model_5'))"
      ]
    },
    {
      "cell_type": "markdown",
      "id": "3dUmDx8oOLgZ",
      "metadata": {
        "id": "3dUmDx8oOLgZ"
      },
      "source": [
        "Based on the current results, there is a need to increase the dropout parameter to 0.5 and decrease the number of layers, it is clear that our model is overfitting."
      ]
    },
    {
      "cell_type": "markdown",
      "id": "EdJTlPVlS09D",
      "metadata": {
        "id": "EdJTlPVlS09D"
      },
      "source": [
        "### Bidirectional LSTM V3"
      ]
    },
    {
      "cell_type": "code",
      "execution_count": 54,
      "id": "coDwdrpbS6n0",
      "metadata": {
        "id": "coDwdrpbS6n0"
      },
      "outputs": [],
      "source": [
        "class LSTM_V3(nn.Module):\n",
        "    def __init__(self,input_size, hidden_size,num_layers, num_classes):\n",
        "        super(LSTM_V3,self).__init__()\n",
        "        self.num_layers=num_layers\n",
        "        self.hidden_size=hidden_size\n",
        "        self.lstm= nn.LSTM(input_size,hidden_size,num_layers,batch_first=True,dropout=0.5,bidirectional=True) # batch must be in first dimension\n",
        "        # if batch first was set to true, input shape: batch size,sequence number, features size\n",
        "        self.fc=nn.Linear(hidden_size*2, num_classes)\n",
        "\n",
        "    def forward(self, x):\n",
        "        num_directions = 2  # we need to accomodate the hidden and cell states to both directions\n",
        "        h0=torch.zeros(self.num_layers*num_directions, x.size(0),self.hidden_size).to(device)\n",
        "        c0=torch.zeros(self.num_layers*num_directions, x.size(0),self.hidden_size).to(device)\n",
        "        out, _= self.lstm(x,(h0,c0)) # we do not need the second returned output (h_n)\n",
        "        out=out[:,-1,:]\n",
        "        out = self.fc(out)\n",
        "        return out"
      ]
    },
    {
      "cell_type": "code",
      "execution_count": null,
      "id": "bPVtnclPTOYZ",
      "metadata": {
        "id": "bPVtnclPTOYZ"
      },
      "outputs": [],
      "source": [
        "hidden_size=256\n",
        "num_layers=2\n",
        "lstm_classifier_7=LSTM_V3(input_size=embedding_size,hidden_size=hidden_size,num_layers=num_layers,num_classes=4)"
      ]
    },
    {
      "cell_type": "code",
      "execution_count": null,
      "id": "a0XCPRV4TJFW",
      "metadata": {
        "id": "a0XCPRV4TJFW"
      },
      "outputs": [],
      "source": [
        "optimizer = Adam(lstm_classifier_7.parameters(), lr=learning_rate,weight_decay=0.00001)\n",
        "loss_criterion=nn.CrossEntropyLoss()"
      ]
    },
    {
      "cell_type": "code",
      "execution_count": null,
      "id": "GQLMDWrFUZM8",
      "metadata": {
        "colab": {
          "base_uri": "https://localhost:8080/"
        },
        "id": "GQLMDWrFUZM8",
        "outputId": "e74c314f-ce80-4a49-c813-cc15dae18820"
      },
      "outputs": [
        {
          "data": {
            "text/plain": [
              "LSTM_V3(\n",
              "  (lstm): LSTM(300, 256, num_layers=2, batch_first=True, dropout=0.5, bidirectional=True)\n",
              "  (fc): Linear(in_features=512, out_features=4, bias=True)\n",
              ")"
            ]
          },
          "execution_count": 114,
          "metadata": {},
          "output_type": "execute_result"
        }
      ],
      "source": [
        "lstm_classifier_7.to(device)"
      ]
    },
    {
      "cell_type": "code",
      "execution_count": null,
      "id": "r4PQbVB-UPVR",
      "metadata": {
        "colab": {
          "base_uri": "https://localhost:8080/"
        },
        "id": "r4PQbVB-UPVR",
        "outputId": "b8d4205c-2cbb-4b02-8f37-f1165cd7207f"
      },
      "outputs": [
        {
          "name": "stdout",
          "output_type": "stream",
          "text": [
            "Epoch [1/20], Loss: 0.9509117581855311\n",
            "Epoch [2/20], Loss: 0.6667493803788\n",
            "Epoch [3/20], Loss: 0.5966118009150817\n",
            "Epoch [4/20], Loss: 0.5521225274878806\n",
            "Epoch [5/20], Loss: 0.5203906426449652\n",
            "Epoch [6/20], Loss: 0.49191367407433934\n",
            "Epoch [7/20], Loss: 0.4632759995256681\n",
            "Epoch [8/20], Loss: 0.43855150174789204\n",
            "Epoch [9/20], Loss: 0.4100617792802634\n",
            "Epoch [10/20], Loss: 0.38300564493951816\n",
            "Epoch [11/20], Loss: 0.34818406005014135\n",
            "Epoch [12/20], Loss: 0.3194196551660731\n",
            "Epoch [13/20], Loss: 0.287973557836411\n",
            "Epoch [14/20], Loss: 0.2640744125589548\n",
            "Epoch [15/20], Loss: 0.2399335364796646\n",
            "Epoch [16/20], Loss: 0.21640545725297006\n",
            "Epoch [17/20], Loss: 0.19677877183210063\n",
            "Epoch [18/20], Loss: 0.18552087058051006\n",
            "Epoch [19/20], Loss: 0.16961714592223442\n",
            "Epoch [20/20], Loss: 0.1561716237426057\n"
          ]
        }
      ],
      "source": [
        "epochs=20\n",
        "\n",
        "# Initialize training and test accuracy\n",
        "train_acc = 0\n",
        "test_acc = 0\n",
        "\n",
        "# Loop through each epoch\n",
        "for epoch in range(epochs):\n",
        "    # Update progress bar description with current accuracy\n",
        "\n",
        "    # Set model to training mode\n",
        "    lstm_classifier_7.train()\n",
        "    running_loss=0.0\n",
        "    # Iterate through training data loader\n",
        "    for text,labels in train_loader:\n",
        "        # bs = labels.shape[0]\n",
        "\n",
        "        text=text.to(device)\n",
        "        labels = labels.long().to(device)\n",
        "\n",
        "        # print('text tensor:',text)\n",
        "        # print('text shape:',text.shape)\n",
        "        # print('label tensor:',label)\n",
        "\n",
        "        # Initialize hidden and memory states\n",
        "        # hidden = torch.zeros(num_layers, bs, hidden_size, device=device)\n",
        "        # memory = torch.zeros(num_layers, bs, hidden_size, device=device)\n",
        "\n",
        "        # Forward pass through the model\n",
        "        outputs = lstm_classifier_7(text)\n",
        "\n",
        "        # Calculate the loss\n",
        "        loss = loss_criterion(outputs, labels)\n",
        "        running_loss+=loss.item()\n",
        "\n",
        "        # Backpropagation and optimization\n",
        "        optimizer.zero_grad()\n",
        "        loss.backward()\n",
        "        optimizer.step()\n",
        "\n",
        "    average_loss=running_loss/ len(train_loader)\n",
        "    print(f'Epoch [{epoch+1}/{epochs}], Loss: {average_loss}')"
      ]
    },
    {
      "cell_type": "markdown",
      "id": "DP2_EvpDUkiy",
      "metadata": {
        "id": "DP2_EvpDUkiy"
      },
      "source": [
        "#### evaluating our bi-lstm v3 model"
      ]
    },
    {
      "cell_type": "code",
      "execution_count": null,
      "id": "taEWBsQiUkiz",
      "metadata": {
        "colab": {
          "base_uri": "https://localhost:8080/"
        },
        "id": "taEWBsQiUkiz",
        "outputId": "df81c963-116e-48f1-a8bb-ae6365decf34"
      },
      "outputs": [
        {
          "name": "stdout",
          "output_type": "stream",
          "text": [
            "Average Classification Loss: 0.9052649723663198\n",
            "Classification Accuracy: 76.54353217595614%\n"
          ]
        }
      ],
      "source": [
        "evaluate_model(lstm_classifier_7, test_loader, loss_criterion, device, writer=SummaryWriter('runs/model_6'))"
      ]
    },
    {
      "cell_type": "markdown",
      "id": "xkRz3k7Oc7QH",
      "metadata": {
        "id": "xkRz3k7Oc7QH"
      },
      "source": [
        "Based on the following results, it is noticed that even though we decreased the number of layers to 2 and increased the dropout to 0.5, our model is still learning well our data, but failing to generalize to our test data. Thus, we need to introduce some changes."
      ]
    },
    {
      "cell_type": "markdown",
      "id": "5qkCucEkeVz_",
      "metadata": {
        "id": "5qkCucEkeVz_"
      },
      "source": [
        "### Trying a the RMSprop optimizer instead of Adam"
      ]
    },
    {
      "cell_type": "code",
      "execution_count": null,
      "id": "7aKaBY40g_hJ",
      "metadata": {
        "id": "7aKaBY40g_hJ"
      },
      "outputs": [],
      "source": [
        "hidden_size=256\n",
        "num_layers=2\n",
        "lstm_classifier_8=LSTM_V3(input_size=embedding_size,hidden_size=hidden_size,num_layers=num_layers,num_classes=4)"
      ]
    },
    {
      "cell_type": "code",
      "execution_count": null,
      "id": "1Apv0WO-hGSH",
      "metadata": {
        "id": "1Apv0WO-hGSH"
      },
      "outputs": [],
      "source": [
        "from torch.optim import RMSprop"
      ]
    },
    {
      "cell_type": "code",
      "execution_count": null,
      "id": "XgASpbOCg_hJ",
      "metadata": {
        "id": "XgASpbOCg_hJ"
      },
      "outputs": [],
      "source": [
        "optimizer = RMSprop(lstm_classifier_8.parameters(), lr=0.01)\n",
        "loss_criterion=nn.CrossEntropyLoss()"
      ]
    },
    {
      "cell_type": "code",
      "execution_count": null,
      "id": "RdnssrDIg_hK",
      "metadata": {
        "colab": {
          "base_uri": "https://localhost:8080/"
        },
        "id": "RdnssrDIg_hK",
        "outputId": "70c0715b-2c1b-4f71-8077-c2c46de87f36"
      },
      "outputs": [
        {
          "data": {
            "text/plain": [
              "LSTM_V3(\n",
              "  (lstm): LSTM(300, 256, num_layers=2, batch_first=True, dropout=0.5, bidirectional=True)\n",
              "  (fc): Linear(in_features=512, out_features=4, bias=True)\n",
              ")"
            ]
          },
          "execution_count": 139,
          "metadata": {},
          "output_type": "execute_result"
        }
      ],
      "source": [
        "lstm_classifier_8.to(device)"
      ]
    },
    {
      "cell_type": "code",
      "execution_count": null,
      "id": "l3f-QqHHg_hK",
      "metadata": {
        "colab": {
          "base_uri": "https://localhost:8080/"
        },
        "id": "l3f-QqHHg_hK",
        "outputId": "18d1b278-dc29-4b49-dce6-138e28e22903"
      },
      "outputs": [
        {
          "name": "stdout",
          "output_type": "stream",
          "text": [
            "Epoch [1/20], Loss: 1.2255146356753117\n",
            "Epoch [2/20], Loss: 0.8042100380396253\n",
            "Epoch [3/20], Loss: 0.7447080633629308\n",
            "Epoch [4/20], Loss: 0.7040958929984955\n",
            "Epoch [5/20], Loss: 0.7012549106527075\n",
            "Epoch [6/20], Loss: 0.6913517235714468\n",
            "Epoch [7/20], Loss: 0.6912292467926725\n",
            "Epoch [8/20], Loss: 0.696408604127481\n",
            "Epoch [9/20], Loss: 0.6887913230993176\n",
            "Epoch [10/20], Loss: 0.6961764930889534\n",
            "Epoch [11/20], Loss: 0.6899187595304155\n",
            "Epoch [12/20], Loss: 0.6867549249545281\n",
            "Epoch [13/20], Loss: 0.6849136420567967\n",
            "Epoch [14/20], Loss: 0.6946567266956444\n",
            "Epoch [15/20], Loss: 0.6959051844043572\n",
            "Epoch [16/20], Loss: 0.6957776357747387\n",
            "Epoch [17/20], Loss: 0.6989444673884924\n",
            "Epoch [18/20], Loss: 0.7226040366743238\n",
            "Epoch [19/20], Loss: 0.7087922535223321\n",
            "Epoch [20/20], Loss: 0.7127663444858484\n"
          ]
        }
      ],
      "source": [
        "epochs=20\n",
        "\n",
        "# Initialize training and test accuracy\n",
        "train_acc = 0\n",
        "test_acc = 0\n",
        "\n",
        "# Loop through each epoch\n",
        "for epoch in range(epochs):\n",
        "    # Update progress bar description with current accuracy\n",
        "\n",
        "    # Set model to training mode\n",
        "    lstm_classifier_8.train()\n",
        "    running_loss=0.0\n",
        "    # Iterate through training data loader\n",
        "    for text,labels in train_loader:\n",
        "        # bs = labels.shape[0]\n",
        "\n",
        "        text=text.to(device)\n",
        "        labels = labels.long().to(device)\n",
        "\n",
        "        # print('text tensor:',text)\n",
        "        # print('text shape:',text.shape)\n",
        "        # print('label tensor:',label)\n",
        "\n",
        "        # Initialize hidden and memory states\n",
        "        # hidden = torch.zeros(num_layers, bs, hidden_size, device=device)\n",
        "        # memory = torch.zeros(num_layers, bs, hidden_size, device=device)\n",
        "\n",
        "        # Forward pass through the model\n",
        "        outputs = lstm_classifier_8(text)\n",
        "\n",
        "        # Calculate the loss\n",
        "        loss = loss_criterion(outputs, labels)\n",
        "        running_loss+=loss.item()\n",
        "\n",
        "        # Backpropagation and optimization\n",
        "        optimizer.zero_grad()\n",
        "        loss.backward()\n",
        "        optimizer.step()\n",
        "\n",
        "    average_loss=running_loss/ len(train_loader)\n",
        "    print(f'Epoch [{epoch+1}/{epochs}], Loss: {average_loss}')"
      ]
    },
    {
      "cell_type": "markdown",
      "id": "wHzOeJ5og_hK",
      "metadata": {
        "id": "wHzOeJ5og_hK"
      },
      "source": [
        "#### evaluating our bi-lstm v4 model with the SGD optimizer\n"
      ]
    },
    {
      "cell_type": "code",
      "execution_count": null,
      "id": "S5_f72Kfg_hK",
      "metadata": {
        "colab": {
          "base_uri": "https://localhost:8080/"
        },
        "id": "S5_f72Kfg_hK",
        "outputId": "def9afd2-3438-4c1f-9482-8b84ca30e8a9"
      },
      "outputs": [
        {
          "name": "stdout",
          "output_type": "stream",
          "text": [
            "Average Classification Loss: 0.7015067949551325\n",
            "Classification Accuracy: 70.53909411304006%\n"
          ]
        }
      ],
      "source": [
        "evaluate_model(lstm_classifier_8, test_loader, loss_criterion, device, writer=SummaryWriter('runs/model_6'))"
      ]
    },
    {
      "cell_type": "markdown",
      "id": "ek1cwaFVtAAi",
      "metadata": {
        "id": "ek1cwaFVtAAi"
      },
      "source": [
        "Although the accuracy is not better than before with respect to the test data, what is notable is that the loss is comparable in both the training and test data unlike in other models. Based on our results, it is clear that the RMSprop that is adopted in rnn training approaches does not fit our case."
      ]
    },
    {
      "cell_type": "markdown",
      "id": "qOTp84HAtzMM",
      "metadata": {
        "id": "qOTp84HAtzMM"
      },
      "source": [
        "### Why Not Decrease the sequence length"
      ]
    },
    {
      "cell_type": "markdown",
      "id": "__pEzcsGt4YP",
      "metadata": {
        "id": "__pEzcsGt4YP"
      },
      "source": [
        "Since the results are not getting better despite the proper learning the model is gaining and the several fine tunings, it would be logical to try and adjust our data format then monitor the results."
      ]
    },
    {
      "cell_type": "markdown",
      "id": "SgUJljvguepF",
      "metadata": {
        "id": "SgUJljvguepF"
      },
      "source": [
        "#### re Handling our data"
      ]
    },
    {
      "cell_type": "code",
      "execution_count": 47,
      "id": "4Fi1ulxQutFr",
      "metadata": {
        "id": "4Fi1ulxQutFr"
      },
      "outputs": [],
      "source": [
        "sequence_length=100"
      ]
    },
    {
      "cell_type": "code",
      "execution_count": 48,
      "id": "ojJRZw_vulhr",
      "metadata": {
        "colab": {
          "base_uri": "https://localhost:8080/"
        },
        "id": "ojJRZw_vulhr",
        "outputId": "6a4b990f-d975-4d70-a863-01c7160c8363"
      },
      "outputs": [
        {
          "name": "stdout",
          "output_type": "stream",
          "text": [
            "(43412, 100, 300)\n",
            "(7661, 100, 300)\n"
          ]
        }
      ],
      "source": [
        "train_data_X_v2 = convert_sequences_to_tensor(X_train.to_numpy(), sequence_length, embedding_size)\n",
        "train_data_y_v2 = torch.FloatTensor([int(d) for d in y_train.to_numpy()])\n",
        "\n",
        "test_data_X_v2 = convert_sequences_to_tensor(X_test.to_numpy(), sequence_length, embedding_size)\n",
        "test_data_y_v2 = torch.FloatTensor([int(d) for d in y_test.to_numpy()])"
      ]
    },
    {
      "cell_type": "code",
      "execution_count": 49,
      "id": "LqSwaLVPulhs",
      "metadata": {
        "colab": {
          "base_uri": "https://localhost:8080/"
        },
        "id": "LqSwaLVPulhs",
        "outputId": "1637c136-7388-4ec6-bf8f-6867acfe8c77"
      },
      "outputs": [
        {
          "data": {
            "text/plain": [
              "(43412, 43412, 7661, 7661)"
            ]
          },
          "execution_count": 49,
          "metadata": {},
          "output_type": "execute_result"
        }
      ],
      "source": [
        "len(train_data_X_v2),len(train_data_y_v2),len(test_data_X_v2),len(test_data_y_v2) # double checking"
      ]
    },
    {
      "cell_type": "code",
      "execution_count": 50,
      "id": "fIkRgVdkxmz7",
      "metadata": {
        "id": "fIkRgVdkxmz7"
      },
      "outputs": [],
      "source": [
        "from torch.utils.data import TensorDataset, DataLoader\n",
        "from torch.optim import Adam"
      ]
    },
    {
      "cell_type": "code",
      "execution_count": 51,
      "id": "OiGlOIWYulhs",
      "metadata": {
        "id": "OiGlOIWYulhs"
      },
      "outputs": [],
      "source": [
        "train_data_v2 = TensorDataset(train_data_X_v2, train_data_y_v2)\n",
        "test_data_v2 = TensorDataset(test_data_X_v2, test_data_y_v2)"
      ]
    },
    {
      "cell_type": "code",
      "execution_count": 52,
      "id": "94ybEZqbulhs",
      "metadata": {
        "id": "94ybEZqbulhs"
      },
      "outputs": [],
      "source": [
        "batch_size=32\n",
        "train_loader = DataLoader(train_data_v2, batch_size=batch_size, shuffle=True)\n",
        "test_loader = DataLoader(test_data_v2, batch_size=batch_size, shuffle=False)"
      ]
    },
    {
      "cell_type": "markdown",
      "id": "_PJgHMoXxL7v",
      "metadata": {
        "id": "_PJgHMoXxL7v"
      },
      "source": [
        "### Bi LSTM latest version"
      ]
    },
    {
      "cell_type": "code",
      "execution_count": 55,
      "id": "w_gOSbORvwlW",
      "metadata": {
        "id": "w_gOSbORvwlW"
      },
      "outputs": [],
      "source": [
        "hidden_size=256\n",
        "num_layers=2\n",
        "lstm_classifier_9=LSTM_V3(input_size=embedding_size,hidden_size=hidden_size,num_layers=num_layers,num_classes=4)"
      ]
    },
    {
      "cell_type": "code",
      "execution_count": 56,
      "id": "_ddV4UgwvwlW",
      "metadata": {
        "id": "_ddV4UgwvwlW"
      },
      "outputs": [],
      "source": [
        "optimizer = Adam(lstm_classifier_9.parameters(), lr=0.0005,weight_decay=0.00001)\n",
        "loss_criterion=nn.CrossEntropyLoss()"
      ]
    },
    {
      "cell_type": "code",
      "execution_count": 60,
      "id": "IQUkySfYyDJe",
      "metadata": {
        "id": "IQUkySfYyDJe"
      },
      "outputs": [],
      "source": [
        "device='cuda' if torch.cuda.is_available() else 'cpu'"
      ]
    },
    {
      "cell_type": "code",
      "execution_count": 58,
      "id": "Eduo5e3NvwlW",
      "metadata": {
        "colab": {
          "base_uri": "https://localhost:8080/"
        },
        "id": "Eduo5e3NvwlW",
        "outputId": "33f989d9-8451-49dc-cf8b-1218204f895a"
      },
      "outputs": [
        {
          "data": {
            "text/plain": [
              "LSTM_V3(\n",
              "  (lstm): LSTM(300, 256, num_layers=2, batch_first=True, dropout=0.5, bidirectional=True)\n",
              "  (fc): Linear(in_features=512, out_features=4, bias=True)\n",
              ")"
            ]
          },
          "execution_count": 58,
          "metadata": {},
          "output_type": "execute_result"
        }
      ],
      "source": [
        "lstm_classifier_9.to(device)"
      ]
    },
    {
      "cell_type": "code",
      "execution_count": 59,
      "id": "gZsk3LSGvwlW",
      "metadata": {
        "colab": {
          "base_uri": "https://localhost:8080/"
        },
        "id": "gZsk3LSGvwlW",
        "outputId": "c9cb60d1-fbea-4d4d-fa74-789998428f11"
      },
      "outputs": [
        {
          "name": "stdout",
          "output_type": "stream",
          "text": [
            "Epoch [1/20], Loss: 0.8011154153589475\n",
            "Epoch [2/20], Loss: 0.6061295878166826\n",
            "Epoch [3/20], Loss: 0.5494741767798615\n",
            "Epoch [4/20], Loss: 0.5137851131515813\n",
            "Epoch [5/20], Loss: 0.48253668231962354\n",
            "Epoch [6/20], Loss: 0.4510374052742429\n",
            "Epoch [7/20], Loss: 0.4182763477525205\n",
            "Epoch [8/20], Loss: 0.38299799443125815\n",
            "Epoch [9/20], Loss: 0.3506036444883533\n",
            "Epoch [10/20], Loss: 0.3189748882583027\n",
            "Epoch [11/20], Loss: 0.29196173685630983\n",
            "Epoch [12/20], Loss: 0.2663956230688859\n",
            "Epoch [13/20], Loss: 0.23877682189567614\n",
            "Epoch [14/20], Loss: 0.2170374895114515\n",
            "Epoch [15/20], Loss: 0.19661009789210473\n",
            "Epoch [16/20], Loss: 0.1772907469558887\n",
            "Epoch [17/20], Loss: 0.1610795420367345\n",
            "Epoch [18/20], Loss: 0.1499093102768898\n",
            "Epoch [19/20], Loss: 0.1366480799109106\n",
            "Epoch [20/20], Loss: 0.12662620544529676\n"
          ]
        }
      ],
      "source": [
        "epochs=20\n",
        "\n",
        "# Initialize training and test accuracy\n",
        "train_acc = 0\n",
        "test_acc = 0\n",
        "\n",
        "# Loop through each epoch\n",
        "for epoch in range(epochs):\n",
        "    # Update progress bar description with current accuracy\n",
        "\n",
        "    # Set model to training mode\n",
        "    lstm_classifier_9.train()\n",
        "    running_loss=0.0\n",
        "    # Iterate through training data loader\n",
        "    for text,labels in train_loader:\n",
        "        # bs = labels.shape[0]\n",
        "\n",
        "        text=text.to(device)\n",
        "        labels = labels.long().to(device)\n",
        "\n",
        "        # print('text tensor:',text)\n",
        "        # print('text shape:',text.shape)\n",
        "        # print('label tensor:',label)\n",
        "\n",
        "        # Initialize hidden and memory states\n",
        "        # hidden = torch.zeros(num_layers, bs, hidden_size, device=device)\n",
        "        # memory = torch.zeros(num_layers, bs, hidden_size, device=device)\n",
        "\n",
        "        # Forward pass through the model\n",
        "        outputs = lstm_classifier_9(text)\n",
        "\n",
        "        # Calculate the loss\n",
        "        loss = loss_criterion(outputs, labels)\n",
        "        running_loss+=loss.item()\n",
        "\n",
        "        # Backpropagation and optimization\n",
        "        optimizer.zero_grad()\n",
        "        loss.backward()\n",
        "        optimizer.step()\n",
        "\n",
        "    average_loss=running_loss/ len(train_loader)\n",
        "    print(f'Epoch [{epoch+1}/{epochs}], Loss: {average_loss}')"
      ]
    },
    {
      "cell_type": "markdown",
      "id": "tz_dHZVB0ByK",
      "metadata": {
        "id": "tz_dHZVB0ByK"
      },
      "source": [
        "It is worth noting that the training loss at the 20th epoch is less than that of the corresponfing previous models."
      ]
    },
    {
      "cell_type": "markdown",
      "id": "04FJUzp7vwlW",
      "metadata": {
        "id": "04FJUzp7vwlW"
      },
      "source": [
        "#### evaluating our bi-lstm v5 model"
      ]
    },
    {
      "cell_type": "code",
      "execution_count": 60,
      "id": "dh2Uc2bivwlX",
      "metadata": {
        "colab": {
          "base_uri": "https://localhost:8080/"
        },
        "id": "dh2Uc2bivwlX",
        "outputId": "1b9d6161-fe88-45e0-9a9c-d77e444dd55e"
      },
      "outputs": [
        {
          "name": "stdout",
          "output_type": "stream",
          "text": [
            "Average Classification Loss: 0.900097847605745\n",
            "Classification Accuracy: 76.28246965148153%\n"
          ]
        }
      ],
      "source": [
        "evaluate_model(lstm_classifier_9, test_loader, loss_criterion, device, writer=SummaryWriter('runs/model_8'))"
      ]
    },
    {
      "cell_type": "markdown",
      "id": "yfDqnJ0fMECO",
      "metadata": {
        "id": "yfDqnJ0fMECO"
      },
      "source": [
        "### Trying out our best performining architecture on different sequence lengths"
      ]
    },
    {
      "cell_type": "markdown",
      "id": "ODLetVaUPeWq",
      "metadata": {
        "id": "ODLetVaUPeWq"
      },
      "source": [
        "For curiousity, we will tryout our best architecture while setting out the sequence length to 100"
      ]
    },
    {
      "cell_type": "code",
      "execution_count": 56,
      "id": "ZLmkzIIrL7BB",
      "metadata": {
        "id": "ZLmkzIIrL7BB"
      },
      "outputs": [],
      "source": [
        "hidden_size=256\n",
        "num_layers=3\n",
        "lstm_classifier_11=LSTM_V2(input_size=embedding_size,hidden_size=hidden_size,num_layers=num_layers,num_classes=4)"
      ]
    },
    {
      "cell_type": "code",
      "execution_count": 57,
      "id": "9JCmQ8SxL7BB",
      "metadata": {
        "id": "9JCmQ8SxL7BB"
      },
      "outputs": [],
      "source": [
        "optimizer = Adam(lstm_classifier_11.parameters(), lr=0.0005)\n",
        "loss_criterion=nn.CrossEntropyLoss()"
      ]
    },
    {
      "cell_type": "code",
      "execution_count": 58,
      "id": "cxn8FMSUL7BB",
      "metadata": {
        "colab": {
          "base_uri": "https://localhost:8080/"
        },
        "id": "cxn8FMSUL7BB",
        "outputId": "cfcc5fb7-ce59-469f-cb9f-52fc713c231d"
      },
      "outputs": [
        {
          "data": {
            "text/plain": [
              "LSTM_V2(\n",
              "  (lstm): LSTM(300, 256, num_layers=3, batch_first=True, dropout=0.3, bidirectional=True)\n",
              "  (fc): Linear(in_features=512, out_features=4, bias=True)\n",
              ")"
            ]
          },
          "execution_count": 58,
          "metadata": {},
          "output_type": "execute_result"
        }
      ],
      "source": [
        "lstm_classifier_11.to(device)"
      ]
    },
    {
      "cell_type": "code",
      "execution_count": 59,
      "id": "bXQlUaQLL7BB",
      "metadata": {
        "colab": {
          "base_uri": "https://localhost:8080/"
        },
        "id": "bXQlUaQLL7BB",
        "outputId": "3a67e18f-b54c-4f61-a826-213cdb913e7e"
      },
      "outputs": [
        {
          "name": "stdout",
          "output_type": "stream",
          "text": [
            "Epoch [1/15], Loss: 0.8609684751195422\n",
            "Epoch [2/15], Loss: 0.6660252780095567\n",
            "Epoch [3/15], Loss: 0.6081540994812833\n",
            "Epoch [4/15], Loss: 0.5621677429779716\n",
            "Epoch [5/15], Loss: 0.5215696855753594\n",
            "Epoch [6/15], Loss: 0.48465966439326197\n",
            "Epoch [7/15], Loss: 0.44886574248509453\n",
            "Epoch [8/15], Loss: 0.4090283367077305\n",
            "Epoch [9/15], Loss: 0.3678597759073854\n",
            "Epoch [10/15], Loss: 0.3273166773089962\n",
            "Epoch [11/15], Loss: 0.2802795764078045\n",
            "Epoch [12/15], Loss: 0.23973052365349862\n",
            "Epoch [13/15], Loss: 0.2020409328042198\n",
            "Epoch [14/15], Loss: 0.1756333556731747\n",
            "Epoch [15/15], Loss: 0.148973096087273\n"
          ]
        }
      ],
      "source": [
        "epochs=15\n",
        "\n",
        "# Initialize training and test accuracy\n",
        "train_acc = 0\n",
        "test_acc = 0\n",
        "\n",
        "# Loop through each epoch\n",
        "for epoch in range(epochs):\n",
        "    # Update progress bar description with current accuracy\n",
        "\n",
        "    # Set model to training mode\n",
        "    lstm_classifier_11.train()\n",
        "    running_loss=0.0\n",
        "    # Iterate through training data loader\n",
        "    for text,labels in train_loader:\n",
        "        # bs = labels.shape[0]\n",
        "\n",
        "        text=text.to(device)\n",
        "        labels = labels.long().to(device)\n",
        "\n",
        "        # print('text tensor:',text)\n",
        "        # print('text shape:',text.shape)\n",
        "        # print('label tensor:',label)\n",
        "\n",
        "        # Initialize hidden and memory states\n",
        "        # hidden = torch.zeros(num_layers, bs, hidden_size, device=device)\n",
        "        # memory = torch.zeros(num_layers, bs, hidden_size, device=device)\n",
        "\n",
        "        # Forward pass through the model\n",
        "        outputs = lstm_classifier_11(text)\n",
        "\n",
        "        # Calculate the loss\n",
        "        loss = loss_criterion(outputs, labels)\n",
        "        running_loss+=loss.item()\n",
        "\n",
        "        # Backpropagation and optimization\n",
        "        optimizer.zero_grad()\n",
        "        loss.backward()\n",
        "        optimizer.step()\n",
        "\n",
        "    average_loss=running_loss/ len(train_loader)\n",
        "    print(f'Epoch [{epoch+1}/{epochs}], Loss: {average_loss}')"
      ]
    },
    {
      "cell_type": "markdown",
      "id": "qBNi_GS5L7BC",
      "metadata": {
        "id": "qBNi_GS5L7BC"
      },
      "source": [
        "#### evaluating our finetuned model performance"
      ]
    },
    {
      "cell_type": "code",
      "execution_count": 60,
      "id": "nBjl342aL7BC",
      "metadata": {
        "colab": {
          "base_uri": "https://localhost:8080/"
        },
        "id": "nBjl342aL7BC",
        "outputId": "a7e61d88-3c98-40cd-c1bf-0a4ab2baa147"
      },
      "outputs": [
        {
          "name": "stdout",
          "output_type": "stream",
          "text": [
            "Average Classification Loss: 0.8944278956080477\n",
            "Classification Accuracy: 76.51742592350868%\n"
          ]
        }
      ],
      "source": [
        "evaluate_model(lstm_classifier_11, test_loader, loss_criterion, device, writer=SummaryWriter('runs/model_10'))"
      ]
    },
    {
      "cell_type": "markdown",
      "id": "3qlSwA8zL7BC",
      "metadata": {
        "id": "3qlSwA8zL7BC"
      },
      "source": [
        "Based on the results, we notice that setting the sequence length to 125 is better than to 100"
      ]
    },
    {
      "cell_type": "markdown",
      "id": "6Fvj923L01uj",
      "metadata": {
        "id": "6Fvj923L01uj"
      },
      "source": [
        "### Decreasing more the sequence length !"
      ]
    },
    {
      "cell_type": "markdown",
      "id": "VKtKSVUF54Hd",
      "metadata": {
        "id": "VKtKSVUF54Hd"
      },
      "source": [
        "Note that we will set the batch size to 32 and sequence length to 75, this length works for 77 % of our data"
      ]
    },
    {
      "cell_type": "code",
      "execution_count": 44,
      "id": "D5L8np32w9p8",
      "metadata": {
        "colab": {
          "base_uri": "https://localhost:8080/",
          "height": 178
        },
        "id": "D5L8np32w9p8",
        "outputId": "1574c416-ca19-42f8-8ae1-ce233fa8025b"
      },
      "outputs": [
        {
          "data": {
            "text/html": [
              "<div>\n",
              "<style scoped>\n",
              "    .dataframe tbody tr th:only-of-type {\n",
              "        vertical-align: middle;\n",
              "    }\n",
              "\n",
              "    .dataframe tbody tr th {\n",
              "        vertical-align: top;\n",
              "    }\n",
              "\n",
              "    .dataframe thead th {\n",
              "        text-align: right;\n",
              "    }\n",
              "</style>\n",
              "<table border=\"1\" class=\"dataframe\">\n",
              "  <thead>\n",
              "    <tr style=\"text-align: right;\">\n",
              "      <th></th>\n",
              "      <th>count</th>\n",
              "    </tr>\n",
              "    <tr>\n",
              "      <th>lemmatized_text</th>\n",
              "      <th></th>\n",
              "    </tr>\n",
              "  </thead>\n",
              "  <tbody>\n",
              "    <tr>\n",
              "      <th>True</th>\n",
              "      <td>39528</td>\n",
              "    </tr>\n",
              "    <tr>\n",
              "      <th>False</th>\n",
              "      <td>11545</td>\n",
              "    </tr>\n",
              "  </tbody>\n",
              "</table>\n",
              "</div><br><label><b>dtype:</b> int64</label>"
            ],
            "text/plain": [
              "lemmatized_text\n",
              "True     39528\n",
              "False    11545\n",
              "Name: count, dtype: int64"
            ]
          },
          "execution_count": 44,
          "metadata": {},
          "output_type": "execute_result"
        }
      ],
      "source": [
        "((df['lemmatized_text'].apply(len)< 75).value_counts())"
      ]
    },
    {
      "cell_type": "code",
      "execution_count": 45,
      "id": "XFSs10nj0sI1",
      "metadata": {
        "colab": {
          "base_uri": "https://localhost:8080/"
        },
        "id": "XFSs10nj0sI1",
        "outputId": "04634cb7-4a30-4a29-bbd1-3ddb871d5eb0"
      },
      "outputs": [
        {
          "data": {
            "text/plain": [
              "0.7739510112975545"
            ]
          },
          "execution_count": 45,
          "metadata": {},
          "output_type": "execute_result"
        }
      ],
      "source": [
        "39528 / len(df['lemmatized_text'])"
      ]
    },
    {
      "cell_type": "code",
      "execution_count": 46,
      "id": "eINSq86H29FS",
      "metadata": {
        "id": "eINSq86H29FS"
      },
      "outputs": [],
      "source": [
        "sequence_length=75"
      ]
    },
    {
      "cell_type": "code",
      "execution_count": 47,
      "id": "wC6NboFT29FT",
      "metadata": {
        "colab": {
          "base_uri": "https://localhost:8080/"
        },
        "id": "wC6NboFT29FT",
        "outputId": "e659bc9b-510c-4418-ea4f-abaaa1e05b5f"
      },
      "outputs": [
        {
          "name": "stdout",
          "output_type": "stream",
          "text": [
            "(43412, 75, 300)\n",
            "(7661, 75, 300)\n"
          ]
        }
      ],
      "source": [
        "train_data_X_v3 = convert_sequences_to_tensor(X_train.to_numpy(), sequence_length, embedding_size)\n",
        "train_data_y_v3 = torch.FloatTensor([int(d) for d in y_train.to_numpy()])\n",
        "\n",
        "test_data_X_v3 = convert_sequences_to_tensor(X_test.to_numpy(), sequence_length, embedding_size)\n",
        "test_data_y_v3 = torch.FloatTensor([int(d) for d in y_test.to_numpy()])"
      ]
    },
    {
      "cell_type": "code",
      "execution_count": 48,
      "id": "NrYo65BS29FT",
      "metadata": {
        "colab": {
          "base_uri": "https://localhost:8080/"
        },
        "id": "NrYo65BS29FT",
        "outputId": "3026318f-b093-4767-b124-03ec13fb65f6"
      },
      "outputs": [
        {
          "data": {
            "text/plain": [
              "(43412, 43412, 7661, 7661)"
            ]
          },
          "execution_count": 48,
          "metadata": {},
          "output_type": "execute_result"
        }
      ],
      "source": [
        "len(train_data_X_v3),len(train_data_y_v3),len(test_data_X_v3),len(test_data_y_v3) # double checking"
      ]
    },
    {
      "cell_type": "code",
      "execution_count": 49,
      "id": "LGqmJq-V29FT",
      "metadata": {
        "id": "LGqmJq-V29FT"
      },
      "outputs": [],
      "source": [
        "from torch.utils.data import TensorDataset, DataLoader\n",
        "from torch.optim import Adam"
      ]
    },
    {
      "cell_type": "code",
      "execution_count": 50,
      "id": "MpwYiSCS29FT",
      "metadata": {
        "id": "MpwYiSCS29FT"
      },
      "outputs": [],
      "source": [
        "train_data_v3 = TensorDataset(train_data_X_v3, train_data_y_v3)\n",
        "test_data_v3 = TensorDataset(test_data_X_v3, test_data_y_v3)"
      ]
    },
    {
      "cell_type": "code",
      "execution_count": 51,
      "id": "2HgvF7D029FT",
      "metadata": {
        "id": "2HgvF7D029FT"
      },
      "outputs": [],
      "source": [
        "batch_size=32\n",
        "train_loader = DataLoader(train_data_v3, batch_size=batch_size, shuffle=True)\n",
        "test_loader = DataLoader(test_data_v3, batch_size=batch_size, shuffle=False)"
      ]
    },
    {
      "cell_type": "markdown",
      "id": "zvoZIyrH3N7k",
      "metadata": {
        "id": "zvoZIyrH3N7k"
      },
      "source": [
        "### Training our v6 Bi-LSTM model"
      ]
    },
    {
      "cell_type": "code",
      "execution_count": 57,
      "id": "eAk0Fj3O3jxx",
      "metadata": {
        "id": "eAk0Fj3O3jxx"
      },
      "outputs": [],
      "source": [
        "hidden_size=256\n",
        "num_layers=2\n",
        "lstm_classifier_10=LSTM_V3(input_size=embedding_size,hidden_size=hidden_size,num_layers=num_layers,num_classes=4)"
      ]
    },
    {
      "cell_type": "code",
      "execution_count": 58,
      "id": "WEYYsheV3jxy",
      "metadata": {
        "id": "WEYYsheV3jxy"
      },
      "outputs": [],
      "source": [
        "optimizer = Adam(lstm_classifier_10.parameters(), lr=0.0005,weight_decay=0.00001)\n",
        "loss_criterion=nn.CrossEntropyLoss()"
      ]
    },
    {
      "cell_type": "code",
      "execution_count": 61,
      "id": "vtP8bKMh3jxy",
      "metadata": {
        "colab": {
          "base_uri": "https://localhost:8080/"
        },
        "id": "vtP8bKMh3jxy",
        "outputId": "bb9822cf-411a-413f-a35a-0f34b17e70f9"
      },
      "outputs": [
        {
          "data": {
            "text/plain": [
              "LSTM_V3(\n",
              "  (lstm): LSTM(300, 256, num_layers=2, batch_first=True, dropout=0.5, bidirectional=True)\n",
              "  (fc): Linear(in_features=512, out_features=4, bias=True)\n",
              ")"
            ]
          },
          "execution_count": 61,
          "metadata": {},
          "output_type": "execute_result"
        }
      ],
      "source": [
        "lstm_classifier_10.to(device)"
      ]
    },
    {
      "cell_type": "code",
      "execution_count": 62,
      "id": "VHpFu6AN3jxy",
      "metadata": {
        "colab": {
          "base_uri": "https://localhost:8080/"
        },
        "id": "VHpFu6AN3jxy",
        "outputId": "270fda3c-0857-4673-ac3b-77b6333ac002"
      },
      "outputs": [
        {
          "name": "stdout",
          "output_type": "stream",
          "text": [
            "Epoch [1/20], Loss: 0.8207078656248952\n",
            "Epoch [2/20], Loss: 0.6455993304357164\n",
            "Epoch [3/20], Loss: 0.5985809248997696\n",
            "Epoch [4/20], Loss: 0.5588504993792571\n",
            "Epoch [5/20], Loss: 0.5279641489751565\n",
            "Epoch [6/20], Loss: 0.49932595023400833\n",
            "Epoch [7/20], Loss: 0.475965042652764\n",
            "Epoch [8/20], Loss: 0.44521858257103597\n",
            "Epoch [9/20], Loss: 0.41664814659138333\n",
            "Epoch [10/20], Loss: 0.3832990528086397\n",
            "Epoch [11/20], Loss: 0.34995286050269775\n",
            "Epoch [12/20], Loss: 0.32082729799537074\n",
            "Epoch [13/20], Loss: 0.2832866636192043\n",
            "Epoch [14/20], Loss: 0.25307833374249383\n",
            "Epoch [15/20], Loss: 0.22075535278072803\n",
            "Epoch [16/20], Loss: 0.19960212567512306\n",
            "Epoch [17/20], Loss: 0.1726881849484116\n",
            "Epoch [18/20], Loss: 0.15346458771416346\n",
            "Epoch [19/20], Loss: 0.13725342310988395\n",
            "Epoch [20/20], Loss: 0.12479474925928163\n"
          ]
        }
      ],
      "source": [
        "epochs=20\n",
        "\n",
        "# Initialize training and test accuracy\n",
        "train_acc = 0\n",
        "test_acc = 0\n",
        "\n",
        "# Loop through each epoch\n",
        "for epoch in range(epochs):\n",
        "    # Update progress bar description with current accuracy\n",
        "\n",
        "    # Set model to training mode\n",
        "    lstm_classifier_10.train()\n",
        "    running_loss=0.0\n",
        "    # Iterate through training data loader\n",
        "    for text,labels in train_loader:\n",
        "        # bs = labels.shape[0]\n",
        "\n",
        "        text=text.to(device)\n",
        "        labels = labels.long().to(device)\n",
        "\n",
        "        # print('text tensor:',text)\n",
        "        # print('text shape:',text.shape)\n",
        "        # print('label tensor:',label)\n",
        "\n",
        "        # Initialize hidden and memory states\n",
        "        # hidden = torch.zeros(num_layers, bs, hidden_size, device=device)\n",
        "        # memory = torch.zeros(num_layers, bs, hidden_size, device=device)\n",
        "\n",
        "        # Forward pass through the model\n",
        "        outputs = lstm_classifier_10(text)\n",
        "\n",
        "        # Calculate the loss\n",
        "        loss = loss_criterion(outputs, labels)\n",
        "        running_loss+=loss.item()\n",
        "\n",
        "        # Backpropagation and optimization\n",
        "        optimizer.zero_grad()\n",
        "        loss.backward()\n",
        "        optimizer.step()\n",
        "\n",
        "    average_loss=running_loss/ len(train_loader)\n",
        "    print(f'Epoch [{epoch+1}/{epochs}], Loss: {average_loss}')"
      ]
    },
    {
      "cell_type": "markdown",
      "id": "FMuSRUUZ3jxy",
      "metadata": {
        "id": "FMuSRUUZ3jxy"
      },
      "source": [
        "#### evaluating our bi-lstm v6 model"
      ]
    },
    {
      "cell_type": "code",
      "execution_count": 64,
      "id": "WHGTmC003jxy",
      "metadata": {
        "colab": {
          "base_uri": "https://localhost:8080/"
        },
        "id": "WHGTmC003jxy",
        "outputId": "1aa35472-0092-4b38-dc07-a0543019ad19"
      },
      "outputs": [
        {
          "name": "stdout",
          "output_type": "stream",
          "text": [
            "Average Classification Loss: 1.025893891726931\n",
            "Classification Accuracy: 75.18600704868817%\n"
          ]
        }
      ],
      "source": [
        "evaluate_model(lstm_classifier_10, test_loader, loss_criterion, device, writer=SummaryWriter('runs/model_9'))"
      ]
    },
    {
      "cell_type": "markdown",
      "id": "dd795498",
      "metadata": {},
      "source": [
        "There is no improvement is classification accuaracy, thus because lstm is capable of handling large sequences properly unlike rnns and grus given its complex architecture. It might be actually worth it to try increasing the sequence length!"
      ]
    },
    {
      "cell_type": "markdown",
      "id": "IDJ6uXcTJF8L",
      "metadata": {
        "id": "IDJ6uXcTJF8L"
      },
      "source": [
        "### Trying with our best previous model settings"
      ]
    },
    {
      "cell_type": "markdown",
      "id": "KTYp5BcVJmDv",
      "metadata": {
        "id": "KTYp5BcVJmDv"
      },
      "source": [
        "The following model architectur got the highest accuaracy among all the previous models of approx 78%, so we will try it while adjusting the sequence length to 75"
      ]
    },
    {
      "cell_type": "code",
      "execution_count": 66,
      "id": "MYsYK4uXJMRb",
      "metadata": {
        "id": "MYsYK4uXJMRb"
      },
      "outputs": [],
      "source": [
        "hidden_size=256\n",
        "lstm_classifier_12=LSTM_V2(input_size=embedding_size,hidden_size=hidden_size,num_layers=num_layers,num_classes=4)"
      ]
    },
    {
      "cell_type": "code",
      "execution_count": 69,
      "id": "7QJCUNX-JMRb",
      "metadata": {
        "id": "7QJCUNX-JMRb"
      },
      "outputs": [],
      "source": [
        "optimizer = Adam(lstm_classifier_12.parameters(), lr=0.0005)\n",
        "loss_criterion=nn.CrossEntropyLoss()"
      ]
    },
    {
      "cell_type": "code",
      "execution_count": 70,
      "id": "gJZ9-uSaJMRb",
      "metadata": {
        "colab": {
          "base_uri": "https://localhost:8080/"
        },
        "id": "gJZ9-uSaJMRb",
        "outputId": "1e40f2c3-0464-44ef-a86b-96d8e0f8bac4"
      },
      "outputs": [
        {
          "data": {
            "text/plain": [
              "LSTM_V2(\n",
              "  (lstm): LSTM(300, 256, num_layers=2, batch_first=True, dropout=0.3, bidirectional=True)\n",
              "  (fc): Linear(in_features=512, out_features=4, bias=True)\n",
              ")"
            ]
          },
          "execution_count": 70,
          "metadata": {},
          "output_type": "execute_result"
        }
      ],
      "source": [
        "lstm_classifier_12.to(device)"
      ]
    },
    {
      "cell_type": "code",
      "execution_count": 71,
      "id": "DbwEg8hIJMRc",
      "metadata": {
        "colab": {
          "base_uri": "https://localhost:8080/"
        },
        "id": "DbwEg8hIJMRc",
        "outputId": "2ca16e61-5688-46d6-b2ff-d693f7116367"
      },
      "outputs": [
        {
          "name": "stdout",
          "output_type": "stream",
          "text": [
            "Epoch [1/15], Loss: 0.8370928430741731\n",
            "Epoch [2/15], Loss: 0.6698631128473324\n",
            "Epoch [3/15], Loss: 0.6099777989468332\n",
            "Epoch [4/15], Loss: 0.5627397903534271\n",
            "Epoch [5/15], Loss: 0.5210001140876824\n",
            "Epoch [6/15], Loss: 0.48688282767638796\n",
            "Epoch [7/15], Loss: 0.4484723518021245\n",
            "Epoch [8/15], Loss: 0.4076051027592966\n",
            "Epoch [9/15], Loss: 0.3666841540054618\n",
            "Epoch [10/15], Loss: 0.3203203261788048\n",
            "Epoch [11/15], Loss: 0.27502360695653216\n",
            "Epoch [12/15], Loss: 0.23490454121468782\n",
            "Epoch [13/15], Loss: 0.20308210896760467\n",
            "Epoch [14/15], Loss: 0.16797868764081486\n",
            "Epoch [15/15], Loss: 0.1469889541335717\n"
          ]
        }
      ],
      "source": [
        "epochs=15\n",
        "\n",
        "# Initialize training and test accuracy\n",
        "train_acc = 0\n",
        "test_acc = 0\n",
        "\n",
        "# Loop through each epoch\n",
        "for epoch in range(epochs):\n",
        "    # Update progress bar description with current accuracy\n",
        "\n",
        "    # Set model to training mode\n",
        "    lstm_classifier_12.train()\n",
        "    running_loss=0.0\n",
        "    # Iterate through training data loader\n",
        "    for text,labels in train_loader:\n",
        "        # bs = labels.shape[0]\n",
        "\n",
        "        text=text.to(device)\n",
        "        labels = labels.long().to(device)\n",
        "\n",
        "        # print('text tensor:',text)\n",
        "        # print('text shape:',text.shape)\n",
        "        # print('label tensor:',label)\n",
        "\n",
        "        # Initialize hidden and memory states\n",
        "        # hidden = torch.zeros(num_layers, bs, hidden_size, device=device)\n",
        "        # memory = torch.zeros(num_layers, bs, hidden_size, device=device)\n",
        "\n",
        "        # Forward pass through the model\n",
        "        outputs = lstm_classifier_12(text)\n",
        "\n",
        "        # Calculate the loss\n",
        "        loss = loss_criterion(outputs, labels)\n",
        "        running_loss+=loss.item()\n",
        "\n",
        "        # Backpropagation and optimization\n",
        "        optimizer.zero_grad()\n",
        "        loss.backward()\n",
        "        optimizer.step()\n",
        "\n",
        "    average_loss=running_loss/ len(train_loader)\n",
        "    print(f'Epoch [{epoch+1}/{epochs}], Loss: {average_loss}')"
      ]
    },
    {
      "cell_type": "markdown",
      "id": "wuspfnonJMRc",
      "metadata": {
        "id": "wuspfnonJMRc"
      },
      "source": [
        "#### evaluating our finetuned model performance"
      ]
    },
    {
      "cell_type": "code",
      "execution_count": 72,
      "id": "CvDzI41jJMRc",
      "metadata": {
        "colab": {
          "base_uri": "https://localhost:8080/"
        },
        "id": "CvDzI41jJMRc",
        "outputId": "3d087b5e-eb4d-47df-e6c1-6b7648dcd389"
      },
      "outputs": [
        {
          "name": "stdout",
          "output_type": "stream",
          "text": [
            "Average Classification Loss: 0.9499286583935221\n",
            "Classification Accuracy: 75.68202584518993%\n"
          ]
        }
      ],
      "source": [
        "evaluate_model(lstm_classifier_12, test_loader, loss_criterion, device, writer=SummaryWriter('runs/model_11'))"
      ]
    },
    {
      "cell_type": "markdown",
      "id": "B5zhpoYUK3mt",
      "metadata": {
        "id": "B5zhpoYUK3mt"
      },
      "source": [
        "Based on the results, it seemed that it is not optimal to set the sequence length to 75"
      ]
    },
    {
      "cell_type": "markdown",
      "id": "99945115",
      "metadata": {},
      "source": [
        "# RNN Model"
      ]
    },
    {
      "cell_type": "code",
      "execution_count": null,
      "id": "6db70168",
      "metadata": {},
      "outputs": [],
      "source": [
        "import torch\n",
        "device = torch.device('cuda' if torch.cuda.is_available() else 'cpu')"
      ]
    },
    {
      "cell_type": "code",
      "execution_count": null,
      "id": "b06a00ff",
      "metadata": {},
      "outputs": [],
      "source": [
        "import torch.nn as nn\n",
        "\n",
        "\n",
        "class RNN(nn.Module):\n",
        "    def __init__(self, embedding_size, hidden_size, num_layers, num_classes):\n",
        "        super(RNN, self).__init__()\n",
        "        self.hidden_size = hidden_size\n",
        "        self.num_layers = num_layers\n",
        "        self.rnn = nn.RNN(\n",
        "            input_size=embedding_size,\n",
        "            hidden_size=hidden_size,\n",
        "            num_layers=num_layers,\n",
        "            batch_first=True      #(batch_size,sequence length,embedding size)\n",
        "        )\n",
        "\n",
        "        #self.dropout = nn.Dropout(0.5)  #trying dropout but did not make any improvement\n",
        "        self.fc = nn.Linear(hidden_size , num_classes)  #takes the final hidden state and maps it 4 output values\n",
        "\n",
        "    def forward(self, x):\n",
        "        h0 = torch.zeros(self.num_layers , x.size(0), self.hidden_size).to(device)  # we initialize the hidden state to zeros\n",
        "        # (num layers, batch size,hidden size)\n",
        "        # x shape:  (batch size, sequence length, embedding size)\n",
        "        \n",
        "        out, _ = self.rnn(x, h0)\n",
        "        # out has shape: (batch size,sequence length,hidden size)\n",
        "        out = out[:, -1, :]   #(batch size,hidden size)\n",
        "\n",
        "    \n",
        "        #out = self.dropout(out) # did not improve\n",
        "        out = self.fc(out)\n",
        "        return out\n",
        "    \n",
        "    # the rnn model performed better without dropout, and biderectional did not enhance it\n",
        "    # adjusting the learning rate to 0.0001, hidden size=128,sequence length=70,  gave the better result for rnn\n",
        "    \n"
      ]
    },
    {
      "cell_type": "markdown",
      "id": "4a4c6ac5",
      "metadata": {},
      "source": [
        "### Training and Evaluation"
      ]
    },
    {
      "cell_type": "code",
      "execution_count": null,
      "id": "7a9fbd91",
      "metadata": {},
      "outputs": [],
      "source": [
        "import torch.optim as optim\n",
        "num_layers=2\n",
        "hidden_size=128"
      ]
    },
    {
      "cell_type": "code",
      "execution_count": null,
      "id": "3dc4ef85",
      "metadata": {},
      "outputs": [],
      "source": [
        "model = RNN(embedding_size, hidden_size, num_layers, num_classes=4).to(device)\n",
        "criterion = nn.CrossEntropyLoss()\n",
        "optimizer = optim.Adam(model.parameters(), lr=0.0001)"
      ]
    },
    {
      "cell_type": "code",
      "execution_count": null,
      "id": "f7dc93db",
      "metadata": {},
      "outputs": [],
      "source": [
        "def training_epoch(model, dataloader, criterion, optimizer, device):\n",
        "    model.train()\n",
        "    running_loss = 0\n",
        "    correct = 0\n",
        "    total = 0\n",
        "\n",
        "    for inputs, labels in dataloader:\n",
        "        inputs, labels = inputs.to(device), labels.to(device)\n",
        "        \n",
        "        outputs = model(inputs)\n",
        "        loss = criterion(outputs, labels)\n",
        "\n",
        "        optimizer.zero_grad()\n",
        "        loss.backward()\n",
        "        optimizer.step()\n",
        "\n",
        "        running_loss += loss.item()\n",
        "        _, predicted = torch.max(outputs.data, 1)\n",
        "        total += labels.size(0)\n",
        "        correct += (predicted == labels).sum().item()\n",
        "\n",
        "    average = running_loss / len(dataloader)\n",
        "    accuracy = 100 * correct / total\n",
        "    return average, accuracy\n"
      ]
    },
    {
      "cell_type": "code",
      "execution_count": null,
      "id": "4ccf8f34",
      "metadata": {},
      "outputs": [],
      "source": [
        "def evaluate(model, dataloader, criterion, device):\n",
        "    model.eval()\n",
        "    test_loss = 0\n",
        "    correct = 0\n",
        "    total = 0\n",
        "\n",
        "    with torch.no_grad():\n",
        "        for inputs, labels in dataloader:\n",
        "            inputs, labels = inputs.to(device), labels.to(device)\n",
        "\n",
        "            outputs = model(inputs)\n",
        "            loss = criterion(outputs, labels)\n",
        "\n",
        "            test_loss += loss.item()\n",
        "            _, predicted = torch.max(outputs.data, 1)\n",
        "            total += labels.size(0)\n",
        "            correct += (predicted == labels).sum().item()\n",
        "\n",
        "    average = test_loss / len(dataloader)\n",
        "    accuracy = 100 * correct / total\n",
        "    return average, accuracy\n"
      ]
    },
    {
      "cell_type": "code",
      "execution_count": null,
      "id": "8a0072b6",
      "metadata": {},
      "outputs": [
        {
          "name": "stdout",
          "output_type": "stream",
          "text": [
            "Epoch [1/10] Train Loss: 1.0145, Train Acc: 54.93% | Test Loss: 0.8455, Test Acc: 64.72%\n",
            "Epoch [2/10] Train Loss: 0.8239, Train Acc: 64.02% | Test Loss: 0.7835, Test Acc: 67.98%\n",
            "Epoch [3/10] Train Loss: 0.7977, Train Acc: 65.47% | Test Loss: 0.8089, Test Acc: 65.36%\n",
            "Epoch [4/10] Train Loss: 0.7820, Train Acc: 66.12% | Test Loss: 0.8164, Test Acc: 67.68%\n",
            "Epoch [5/10] Train Loss: 0.7751, Train Acc: 66.07% | Test Loss: 0.7678, Test Acc: 67.71%\n",
            "Epoch [6/10] Train Loss: 0.7698, Train Acc: 66.50% | Test Loss: 0.7551, Test Acc: 67.89%\n",
            "Epoch [7/10] Train Loss: 0.7665, Train Acc: 66.99% | Test Loss: 0.7497, Test Acc: 68.71%\n",
            "Epoch [8/10] Train Loss: 0.7555, Train Acc: 67.29% | Test Loss: 0.7472, Test Acc: 68.61%\n",
            "Epoch [9/10] Train Loss: 0.7637, Train Acc: 67.07% | Test Loss: 0.7697, Test Acc: 67.28%\n",
            "Epoch [10/10] Train Loss: 0.7590, Train Acc: 67.32% | Test Loss: 0.7637, Test Acc: 68.06%\n"
          ]
        }
      ],
      "source": [
        "num_epochs =10\n",
        "train_losses, train_accuracies = [], []\n",
        "test_losses, test_accuracies = [], []\n",
        "\n",
        "for epoch in range(num_epochs):\n",
        "    train_loss, train_acc = training_epoch(model, train_loader, criterion, optimizer, device)\n",
        "    test_loss, test_acc = evaluate(model, test_loader, criterion, device)\n",
        "\n",
        "    train_losses.append(train_loss)\n",
        "    train_accuracies.append(train_acc)\n",
        "    test_losses.append(test_loss)\n",
        "    test_accuracies.append(test_acc)\n",
        "\n",
        "    print(f\"Epoch [{epoch+1}/{num_epochs}] \"\n",
        "          f\"Train Loss: {train_loss:.4f}, Train Acc: {train_acc:.2f}% | \"\n",
        "          f\"Test Loss: {test_loss:.4f}, Test Acc: {test_acc:.2f}%\")\n",
        "\n",
        "\n",
        "# For rnn this is an expected result because in our dataset we have 4 classes (normal,depression,suicidal,other)\n",
        "# the 'other' label contains other disorders that might have meanings similar to normal,depression,suicidal\n",
        "# also it is hard to classify which mental disorder because you might find word in classifes normal and depression and rnn is bad with memory"
      ]
    },
    {
      "cell_type": "markdown",
      "id": "4fabbb43",
      "metadata": {},
      "source": [
        "# GRU Model"
      ]
    },
    {
      "cell_type": "markdown",
      "id": "7faef173",
      "metadata": {},
      "source": [
        "## Training the model GRU"
      ]
    },
    {
      "cell_type": "code",
      "execution_count": null,
      "id": "f7933d1e",
      "metadata": {},
      "outputs": [],
      "source": [
        "num_classes=4\n",
        "class RNNClassifier(nn.Module):\n",
        "    def __init__(self, embedding_size, hidden_size, num_layers, num_classes):\n",
        "        super(RNNClassifier, self).__init__()\n",
        "        \n",
        "        self.bidirectional = True  # enable bidirectionality\n",
        "        self.rnn = nn.GRU(\n",
        "            input_size=embedding_size,   # size of each word vector\n",
        "            hidden_size=hidden_size,     # size of hidden layer\n",
        "            num_layers=num_layers,       # how many GRU layers\n",
        "            batch_first=True,            # input shape = (batch, sequence, features)\n",
        "            bidirectional=self.bidirectional  # read both directions\n",
        "        )\n",
        "\n",
        "        # Output size becomes hidden_size * 2 if bidirectional\n",
        "        self.fc = nn.Linear(hidden_size * 2 if self.bidirectional else hidden_size, num_classes)\n",
        "\n",
        "    def forward(self, x):\n",
        "        out, _ = self.rnn(x)  # shape: (batch, seq_len, hidden*2 if bidirectional)\n",
        "        out = out[:, -1, :]   # get the last time step output\n",
        "        out = self.fc(out)    # final prediction layer\n",
        "        return out"
      ]
    },
    {
      "cell_type": "code",
      "execution_count": null,
      "id": "43337258",
      "metadata": {},
      "outputs": [
        {
          "name": "stdout",
          "output_type": "stream",
          "text": [
            "Training new model\n",
            "Epoch [1/10], Step [10], Loss: 1.3643\n",
            "Epoch [1/10], Step [20], Loss: 1.2867\n",
            "Epoch [1/10], Step [30], Loss: 1.3048\n",
            "Epoch [1/10], Step [40], Loss: 1.1600\n",
            "Epoch [1/10], Step [50], Loss: 1.3497\n",
            "Epoch [1/10], Step [60], Loss: 1.2505\n",
            "Epoch [1/10], Step [70], Loss: 1.2591\n",
            "Epoch [1/10], Step [80], Loss: 1.2565\n",
            "Epoch [1/10], Step [90], Loss: 2.3818\n",
            "Epoch [1/10], Step [100], Loss: 1.1836\n",
            "Epoch [1/10], Step [110], Loss: 1.2924\n",
            "Epoch [1/10], Step [120], Loss: 1.3345\n",
            "Epoch [1/10], Step [130], Loss: 1.3397\n",
            "Epoch [1/10], Step [140], Loss: 1.3982\n",
            "Epoch [1/10], Step [150], Loss: 1.1700\n",
            "Epoch [1/10], Step [160], Loss: 1.3374\n",
            "Epoch [1/10], Step [170], Loss: 1.2750\n",
            "Epoch [1/10], Step [180], Loss: 1.1672\n",
            "Epoch [1/10], Step [190], Loss: 1.0863\n",
            "Epoch [1/10], Step [200], Loss: 1.0322\n",
            "Epoch [1/10], Step [210], Loss: 1.2142\n",
            "Epoch [1/10], Step [220], Loss: 1.0548\n",
            "Epoch [1/10], Step [230], Loss: 0.9242\n",
            "Epoch [1/10], Step [240], Loss: 0.9191\n",
            "Epoch [1/10], Step [250], Loss: 0.6904\n",
            "Epoch [1/10], Step [260], Loss: 0.8462\n",
            "Epoch [1/10], Step [270], Loss: 0.8640\n",
            "Epoch [1/10], Step [280], Loss: 0.7571\n",
            "Epoch [1/10], Step [290], Loss: 0.6222\n",
            "Epoch [1/10], Step [300], Loss: 0.8411\n",
            "Epoch [1/10], Step [310], Loss: 0.7643\n",
            "Epoch [1/10], Step [320], Loss: 0.9236\n",
            "Epoch [1/10], Step [330], Loss: 0.7844\n",
            "Epoch [1/10], Step [340], Loss: 0.5995\n",
            "Epoch [1/10], Step [350], Loss: 0.6468\n",
            "Epoch [1/10], Step [360], Loss: 1.2075\n",
            "Epoch [1/10], Step [370], Loss: 0.4970\n",
            "Epoch [1/10], Step [380], Loss: 0.9706\n",
            "Epoch [1/10], Step [390], Loss: 0.6223\n",
            "Epoch [1/10], Step [400], Loss: 0.6261\n",
            "Epoch [1/10], Step [410], Loss: 0.7427\n",
            "Epoch [1/10], Step [420], Loss: 0.5372\n",
            "Epoch [1/10], Step [430], Loss: 0.5099\n",
            "Epoch [1/10], Step [440], Loss: 0.6013\n",
            "Epoch [1/10], Step [450], Loss: 0.8129\n",
            "Epoch [1/10], Step [460], Loss: 0.6456\n",
            "Epoch [1/10], Step [470], Loss: 0.8470\n",
            "Epoch [1/10], Step [480], Loss: 0.8586\n",
            "Epoch [1/10], Step [490], Loss: 0.7112\n",
            "Epoch [1/10], Step [500], Loss: 0.7152\n",
            "Epoch [1/10], Step [510], Loss: 0.5680\n",
            "Epoch [1/10], Step [520], Loss: 0.4291\n",
            "Epoch [1/10], Step [530], Loss: 0.7258\n",
            "Epoch [1/10], Step [540], Loss: 0.6574\n",
            "Epoch [1/10], Step [550], Loss: 0.7800\n",
            "Epoch [1/10], Step [560], Loss: 0.6294\n",
            "Epoch [1/10], Step [570], Loss: 0.8184\n",
            "Epoch [1/10], Step [580], Loss: 0.8453\n",
            "Epoch [1/10], Step [590], Loss: 0.5897\n",
            "Epoch [1/10], Step [600], Loss: 0.5257\n",
            "Epoch [1/10], Step [610], Loss: 0.6327\n",
            "Epoch [1/10], Step [620], Loss: 0.3939\n",
            "Epoch [1/10], Step [630], Loss: 0.7333\n",
            "Epoch [1/10], Step [640], Loss: 0.6824\n",
            "Epoch [1/10], Step [650], Loss: 0.5487\n",
            "Epoch [1/10], Step [660], Loss: 0.6140\n",
            "Epoch [1/10], Step [670], Loss: 0.5524\n",
            "Epoch [1/10], Step [680], Loss: 0.4070\n",
            "Epoch [1/10], Step [690], Loss: 0.4036\n",
            "Epoch [1/10], Step [700], Loss: 0.3790\n",
            "Epoch [1/10], Step [710], Loss: 0.8086\n",
            "Epoch [1/10], Step [720], Loss: 0.6880\n",
            "Epoch [1/10], Step [730], Loss: 0.6011\n",
            "Epoch [1/10], Step [740], Loss: 0.4458\n",
            "Epoch [1/10], Step [750], Loss: 0.6346\n",
            "Epoch [1/10], Step [760], Loss: 0.2832\n",
            "Epoch [1/10], Step [770], Loss: 0.7268\n",
            "Epoch [1/10], Step [780], Loss: 0.7796\n",
            "Epoch [1/10], Step [790], Loss: 0.6107\n",
            "Epoch [1/10], Step [800], Loss: 0.7162\n",
            "Epoch [1/10], Step [810], Loss: 0.6682\n",
            "Epoch [1/10], Step [820], Loss: 0.5830\n",
            "Epoch [1/10], Step [830], Loss: 0.6402\n",
            "Epoch [1/10], Step [840], Loss: 0.4549\n",
            "Epoch [1/10], Step [850], Loss: 0.5099\n",
            "Epoch [1/10], Step [860], Loss: 0.4644\n",
            "Epoch [1/10], Step [870], Loss: 0.8070\n",
            "Epoch [1/10], Step [880], Loss: 0.6169\n",
            "Epoch [1/10], Step [890], Loss: 0.5687\n",
            "Epoch [1/10], Step [900], Loss: 0.4452\n",
            "Epoch [1/10], Step [910], Loss: 0.4488\n",
            "Epoch [1/10], Step [920], Loss: 0.4838\n",
            "Epoch [1/10], Step [930], Loss: 0.6909\n",
            "Epoch [1/10], Step [940], Loss: 0.5810\n",
            "Epoch [1/10], Step [950], Loss: 0.8367\n",
            "Epoch [1/10], Step [960], Loss: 0.4924\n",
            "Epoch [1/10], Step [970], Loss: 0.8012\n",
            "Epoch [1/10], Step [980], Loss: 0.5209\n",
            "Epoch [1/10], Step [990], Loss: 0.8141\n",
            "Epoch [1/10], Step [1000], Loss: 0.7236\n",
            "Epoch [1/10], Step [1010], Loss: 0.7462\n",
            "Epoch [1/10], Step [1020], Loss: 0.8345\n",
            "Epoch [1/10], Step [1030], Loss: 0.7073\n",
            "Epoch [1/10], Step [1040], Loss: 0.5880\n",
            "Epoch [1/10], Step [1050], Loss: 0.4671\n",
            "Epoch [1/10], Step [1060], Loss: 0.6626\n",
            "Epoch [1/10], Step [1070], Loss: 0.5299\n",
            "Epoch [1/10], Step [1080], Loss: 0.6737\n",
            "Epoch [1/10], Step [1090], Loss: 1.0326\n",
            "Epoch [1/10], Step [1100], Loss: 0.5523\n",
            "Epoch [1/10], Step [1110], Loss: 0.7634\n",
            "Epoch [1/10], Step [1120], Loss: 0.8020\n",
            "Epoch [1/10], Step [1130], Loss: 0.5477\n",
            "Epoch [1/10], Step [1140], Loss: 0.6714\n",
            "Epoch [1/10], Step [1150], Loss: 0.5877\n",
            "Epoch [1/10], Step [1160], Loss: 0.6059\n",
            "Epoch [1/10], Step [1170], Loss: 0.7003\n",
            "Epoch [1/10], Step [1180], Loss: 0.6345\n",
            "Epoch [1/10], Step [1190], Loss: 0.5369\n",
            "Epoch [1/10], Step [1200], Loss: 0.5472\n",
            "Epoch [1/10], Step [1210], Loss: 0.4405\n",
            "Epoch [1/10], Step [1220], Loss: 0.5892\n",
            "Epoch [1/10], Step [1230], Loss: 0.7666\n",
            "Epoch [1/10], Step [1240], Loss: 0.5211\n",
            "Epoch [1/10], Step [1250], Loss: 0.7707\n",
            "Epoch [1/10], Step [1260], Loss: 0.6728\n",
            "Epoch [1/10], Step [1270], Loss: 0.8221\n",
            "Epoch [1/10], Step [1280], Loss: 0.5114\n",
            "Epoch [1/10], Step [1290], Loss: 0.6891\n",
            "Epoch [1/10], Step [1300], Loss: 0.8660\n",
            "Epoch [1/10], Step [1310], Loss: 0.5021\n",
            "Epoch [1/10], Step [1320], Loss: 0.3915\n",
            "Epoch [1/10], Step [1330], Loss: 0.3566\n",
            "Epoch [1/10], Step [1340], Loss: 0.5700\n",
            "Epoch [1/10], Step [1350], Loss: 0.5435\n",
            "Epoch [1/10], Step [1360], Loss: 0.5034\n",
            "Epoch [1/10], Step [1370], Loss: 0.5539\n",
            "Epoch [1/10], Step [1380], Loss: 0.8118\n",
            "Epoch [1/10], Step [1390], Loss: 0.6664\n",
            "Epoch [1/10], Step [1400], Loss: 0.5053\n",
            "Epoch [1/10], Step [1410], Loss: 0.4468\n",
            "Epoch [1/10], Step [1420], Loss: 0.6648\n",
            "Epoch [1/10], Step [1430], Loss: 0.6579\n",
            "Epoch [1/10], Step [1440], Loss: 0.5847\n",
            "Epoch [1/10], Step [1450], Loss: 0.4818\n",
            "Epoch [1/10], Step [1460], Loss: 0.4164\n",
            "Epoch [1/10], Step [1470], Loss: 0.7173\n",
            "Epoch [1/10], Step [1480], Loss: 0.4103\n",
            "Epoch [1/10], Step [1490], Loss: 0.5506\n",
            "Epoch [1/10], Step [1500], Loss: 0.6146\n",
            "Epoch [1/10], Step [1510], Loss: 0.6311\n",
            "Epoch [1/10], Step [1520], Loss: 0.5566\n",
            "Epoch [1/10], Step [1530], Loss: 0.7120\n",
            "Epoch [1/10], Step [1540], Loss: 0.6597\n",
            "Epoch [1/10], Step [1550], Loss: 0.7026\n",
            "Epoch [1/10], Step [1560], Loss: 0.5344\n",
            "Epoch [1/10], Step [1570], Loss: 0.5067\n",
            "Epoch [1/10], Step [1580], Loss: 0.8090\n",
            "Epoch [1/10], Step [1590], Loss: 1.0807\n",
            "Epoch [1/10], Step [1600], Loss: 0.5153\n",
            "Epoch [1/10], Step [1610], Loss: 0.4033\n",
            "Epoch [1/10], Step [1620], Loss: 0.8130\n",
            "Epoch [1/10], Step [1630], Loss: 0.8730\n",
            "Epoch [1/10], Step [1640], Loss: 0.4263\n",
            "Epoch [1/10], Step [1650], Loss: 0.5529\n",
            "Epoch [1/10], Step [1660], Loss: 0.9255\n",
            "Epoch [1/10], Step [1670], Loss: 0.7862\n",
            "Epoch [1/10], Step [1680], Loss: 0.4082\n",
            "Epoch [1/10], Step [1690], Loss: 0.6221\n",
            "Epoch [1/10], Step [1700], Loss: 0.5832\n",
            "Epoch [1/10], Step [1710], Loss: 0.7611\n",
            "Epoch [1/10], Step [1720], Loss: 0.5162\n",
            "Epoch [1/10], Step [1730], Loss: 0.2891\n",
            "Epoch [2/10], Step [10], Loss: 0.5463\n",
            "Epoch [2/10], Step [20], Loss: 0.6903\n",
            "Epoch [2/10], Step [30], Loss: 0.7791\n",
            "Epoch [2/10], Step [40], Loss: 0.4297\n",
            "Epoch [2/10], Step [50], Loss: 0.6000\n",
            "Epoch [2/10], Step [60], Loss: 0.3768\n",
            "Epoch [2/10], Step [70], Loss: 0.6140\n",
            "Epoch [2/10], Step [80], Loss: 0.4010\n",
            "Epoch [2/10], Step [90], Loss: 0.6801\n",
            "Epoch [2/10], Step [100], Loss: 0.5744\n",
            "Epoch [2/10], Step [110], Loss: 0.4510\n",
            "Epoch [2/10], Step [120], Loss: 0.6719\n",
            "Epoch [2/10], Step [130], Loss: 0.6308\n",
            "Epoch [2/10], Step [140], Loss: 0.4834\n",
            "Epoch [2/10], Step [150], Loss: 0.5929\n",
            "Epoch [2/10], Step [160], Loss: 0.3357\n",
            "Epoch [2/10], Step [170], Loss: 0.4145\n",
            "Epoch [2/10], Step [180], Loss: 0.5226\n",
            "Epoch [2/10], Step [190], Loss: 0.9104\n",
            "Epoch [2/10], Step [200], Loss: 0.6739\n",
            "Epoch [2/10], Step [210], Loss: 0.3344\n",
            "Epoch [2/10], Step [220], Loss: 0.5114\n",
            "Epoch [2/10], Step [230], Loss: 0.3439\n",
            "Epoch [2/10], Step [240], Loss: 0.5800\n",
            "Epoch [2/10], Step [250], Loss: 0.2951\n",
            "Epoch [2/10], Step [260], Loss: 0.4857\n",
            "Epoch [2/10], Step [270], Loss: 0.4141\n",
            "Epoch [2/10], Step [280], Loss: 0.5839\n",
            "Epoch [2/10], Step [290], Loss: 0.5303\n",
            "Epoch [2/10], Step [300], Loss: 0.4481\n",
            "Epoch [2/10], Step [310], Loss: 0.6162\n",
            "Epoch [2/10], Step [320], Loss: 0.6567\n",
            "Epoch [2/10], Step [330], Loss: 0.3804\n",
            "Epoch [2/10], Step [340], Loss: 0.4446\n",
            "Epoch [2/10], Step [350], Loss: 0.5399\n",
            "Epoch [2/10], Step [360], Loss: 0.6105\n",
            "Epoch [2/10], Step [370], Loss: 0.6108\n",
            "Epoch [2/10], Step [380], Loss: 0.4864\n",
            "Epoch [2/10], Step [390], Loss: 0.4277\n",
            "Epoch [2/10], Step [400], Loss: 0.3595\n",
            "Epoch [2/10], Step [410], Loss: 0.5203\n",
            "Epoch [2/10], Step [420], Loss: 0.5962\n",
            "Epoch [2/10], Step [430], Loss: 0.6227\n",
            "Epoch [2/10], Step [440], Loss: 0.5324\n",
            "Epoch [2/10], Step [450], Loss: 0.4573\n",
            "Epoch [2/10], Step [460], Loss: 0.4305\n",
            "Epoch [2/10], Step [470], Loss: 0.7085\n",
            "Epoch [2/10], Step [480], Loss: 0.5956\n",
            "Epoch [2/10], Step [490], Loss: 0.6093\n",
            "Epoch [2/10], Step [500], Loss: 0.4093\n",
            "Epoch [2/10], Step [510], Loss: 0.4951\n",
            "Epoch [2/10], Step [520], Loss: 0.7144\n",
            "Epoch [2/10], Step [530], Loss: 0.3995\n",
            "Epoch [2/10], Step [540], Loss: 0.5877\n",
            "Epoch [2/10], Step [550], Loss: 0.4273\n",
            "Epoch [2/10], Step [560], Loss: 0.4484\n",
            "Epoch [2/10], Step [570], Loss: 0.5301\n",
            "Epoch [2/10], Step [580], Loss: 0.6275\n",
            "Epoch [2/10], Step [590], Loss: 0.4523\n",
            "Epoch [2/10], Step [600], Loss: 0.4759\n",
            "Epoch [2/10], Step [610], Loss: 0.2734\n",
            "Epoch [2/10], Step [620], Loss: 0.4083\n",
            "Epoch [2/10], Step [630], Loss: 0.3079\n",
            "Epoch [2/10], Step [640], Loss: 0.6753\n",
            "Epoch [2/10], Step [650], Loss: 0.5336\n",
            "Epoch [2/10], Step [660], Loss: 0.9241\n",
            "Epoch [2/10], Step [670], Loss: 0.5195\n",
            "Epoch [2/10], Step [680], Loss: 0.5814\n",
            "Epoch [2/10], Step [690], Loss: 0.4396\n",
            "Epoch [2/10], Step [700], Loss: 0.4761\n",
            "Epoch [2/10], Step [710], Loss: 0.4889\n",
            "Epoch [2/10], Step [720], Loss: 0.4761\n",
            "Epoch [2/10], Step [730], Loss: 0.4271\n",
            "Epoch [2/10], Step [740], Loss: 0.7031\n",
            "Epoch [2/10], Step [750], Loss: 0.4347\n",
            "Epoch [2/10], Step [760], Loss: 0.6205\n",
            "Epoch [2/10], Step [770], Loss: 0.4745\n",
            "Epoch [2/10], Step [780], Loss: 0.7362\n",
            "Epoch [2/10], Step [790], Loss: 0.5237\n",
            "Epoch [2/10], Step [800], Loss: 0.2423\n",
            "Epoch [2/10], Step [810], Loss: 0.5594\n",
            "Epoch [2/10], Step [820], Loss: 0.9714\n",
            "Epoch [2/10], Step [830], Loss: 0.6587\n",
            "Epoch [2/10], Step [840], Loss: 0.4011\n",
            "Epoch [2/10], Step [850], Loss: 0.4403\n",
            "Epoch [2/10], Step [860], Loss: 0.4035\n",
            "Epoch [2/10], Step [870], Loss: 0.5507\n",
            "Epoch [2/10], Step [880], Loss: 0.5556\n",
            "Epoch [2/10], Step [890], Loss: 0.6986\n",
            "Epoch [2/10], Step [900], Loss: 0.8395\n",
            "Epoch [2/10], Step [910], Loss: 0.5420\n",
            "Epoch [2/10], Step [920], Loss: 0.5443\n",
            "Epoch [2/10], Step [930], Loss: 0.9288\n",
            "Epoch [2/10], Step [940], Loss: 0.2914\n",
            "Epoch [2/10], Step [950], Loss: 0.6284\n",
            "Epoch [2/10], Step [960], Loss: 0.8907\n",
            "Epoch [2/10], Step [970], Loss: 0.5200\n",
            "Epoch [2/10], Step [980], Loss: 0.5824\n",
            "Epoch [2/10], Step [990], Loss: 0.5867\n",
            "Epoch [2/10], Step [1000], Loss: 0.6518\n",
            "Epoch [2/10], Step [1010], Loss: 0.5436\n",
            "Epoch [2/10], Step [1020], Loss: 0.3862\n",
            "Epoch [2/10], Step [1030], Loss: 0.4530\n",
            "Epoch [2/10], Step [1040], Loss: 0.7550\n",
            "Epoch [2/10], Step [1050], Loss: 0.7893\n",
            "Epoch [2/10], Step [1060], Loss: 0.3555\n",
            "Epoch [2/10], Step [1070], Loss: 0.7869\n",
            "Epoch [2/10], Step [1080], Loss: 0.3179\n",
            "Epoch [2/10], Step [1090], Loss: 0.4504\n",
            "Epoch [2/10], Step [1100], Loss: 0.4151\n",
            "Epoch [2/10], Step [1110], Loss: 0.8148\n",
            "Epoch [2/10], Step [1120], Loss: 0.5191\n",
            "Epoch [2/10], Step [1130], Loss: 0.3632\n",
            "Epoch [2/10], Step [1140], Loss: 0.8440\n",
            "Epoch [2/10], Step [1150], Loss: 0.3596\n",
            "Epoch [2/10], Step [1160], Loss: 0.5846\n",
            "Epoch [2/10], Step [1170], Loss: 0.5780\n",
            "Epoch [2/10], Step [1180], Loss: 0.4062\n",
            "Epoch [2/10], Step [1190], Loss: 0.5655\n",
            "Epoch [2/10], Step [1200], Loss: 1.0324\n",
            "Epoch [2/10], Step [1210], Loss: 0.4774\n",
            "Epoch [2/10], Step [1220], Loss: 0.2992\n",
            "Epoch [2/10], Step [1230], Loss: 0.5746\n",
            "Epoch [2/10], Step [1240], Loss: 0.6855\n",
            "Epoch [2/10], Step [1250], Loss: 0.3967\n",
            "Epoch [2/10], Step [1260], Loss: 0.6803\n",
            "Epoch [2/10], Step [1270], Loss: 0.8315\n",
            "Epoch [2/10], Step [1280], Loss: 1.0403\n",
            "Epoch [2/10], Step [1290], Loss: 0.5800\n",
            "Epoch [2/10], Step [1300], Loss: 0.4082\n",
            "Epoch [2/10], Step [1310], Loss: 0.4852\n",
            "Epoch [2/10], Step [1320], Loss: 0.5392\n",
            "Epoch [2/10], Step [1330], Loss: 0.2096\n",
            "Epoch [2/10], Step [1340], Loss: 0.4009\n",
            "Epoch [2/10], Step [1350], Loss: 0.7019\n",
            "Epoch [2/10], Step [1360], Loss: 0.3846\n",
            "Epoch [2/10], Step [1370], Loss: 0.5707\n",
            "Epoch [2/10], Step [1380], Loss: 0.6753\n",
            "Epoch [2/10], Step [1390], Loss: 0.6010\n",
            "Epoch [2/10], Step [1400], Loss: 0.6119\n",
            "Epoch [2/10], Step [1410], Loss: 0.4998\n",
            "Epoch [2/10], Step [1420], Loss: 0.6970\n",
            "Epoch [2/10], Step [1430], Loss: 0.6598\n",
            "Epoch [2/10], Step [1440], Loss: 0.4748\n",
            "Epoch [2/10], Step [1450], Loss: 0.5747\n",
            "Epoch [2/10], Step [1460], Loss: 0.6263\n",
            "Epoch [2/10], Step [1470], Loss: 0.4898\n",
            "Epoch [2/10], Step [1480], Loss: 0.4135\n",
            "Epoch [2/10], Step [1490], Loss: 0.6637\n",
            "Epoch [2/10], Step [1500], Loss: 0.4007\n",
            "Epoch [2/10], Step [1510], Loss: 0.5424\n",
            "Epoch [2/10], Step [1520], Loss: 0.7549\n",
            "Epoch [2/10], Step [1530], Loss: 0.8324\n",
            "Epoch [2/10], Step [1540], Loss: 0.3860\n",
            "Epoch [2/10], Step [1550], Loss: 0.3862\n",
            "Epoch [2/10], Step [1560], Loss: 0.7664\n",
            "Epoch [2/10], Step [1570], Loss: 0.6278\n",
            "Epoch [2/10], Step [1580], Loss: 0.5764\n",
            "Epoch [2/10], Step [1590], Loss: 0.6146\n",
            "Epoch [2/10], Step [1600], Loss: 0.4991\n",
            "Epoch [2/10], Step [1610], Loss: 0.5356\n",
            "Epoch [2/10], Step [1620], Loss: 0.7927\n",
            "Epoch [2/10], Step [1630], Loss: 0.9512\n",
            "Epoch [2/10], Step [1640], Loss: 0.4793\n",
            "Epoch [2/10], Step [1650], Loss: 0.4231\n",
            "Epoch [2/10], Step [1660], Loss: 0.5484\n",
            "Epoch [2/10], Step [1670], Loss: 0.4291\n",
            "Epoch [2/10], Step [1680], Loss: 0.4734\n",
            "Epoch [2/10], Step [1690], Loss: 0.6224\n",
            "Epoch [2/10], Step [1700], Loss: 0.7108\n",
            "Epoch [2/10], Step [1710], Loss: 0.5234\n",
            "Epoch [2/10], Step [1720], Loss: 0.6632\n",
            "Epoch [2/10], Step [1730], Loss: 0.4098\n",
            "Epoch [3/10], Step [10], Loss: 0.4779\n",
            "Epoch [3/10], Step [20], Loss: 0.4492\n",
            "Epoch [3/10], Step [30], Loss: 0.4276\n",
            "Epoch [3/10], Step [40], Loss: 0.6439\n",
            "Epoch [3/10], Step [50], Loss: 0.6926\n",
            "Epoch [3/10], Step [60], Loss: 0.3972\n",
            "Epoch [3/10], Step [70], Loss: 0.5977\n",
            "Epoch [3/10], Step [80], Loss: 0.5943\n",
            "Epoch [3/10], Step [90], Loss: 0.5098\n",
            "Epoch [3/10], Step [100], Loss: 0.3479\n",
            "Epoch [3/10], Step [110], Loss: 0.4199\n",
            "Epoch [3/10], Step [120], Loss: 0.3966\n",
            "Epoch [3/10], Step [130], Loss: 0.4303\n",
            "Epoch [3/10], Step [140], Loss: 0.2430\n",
            "Epoch [3/10], Step [150], Loss: 0.5660\n",
            "Epoch [3/10], Step [160], Loss: 0.2014\n",
            "Epoch [3/10], Step [170], Loss: 0.3473\n",
            "Epoch [3/10], Step [180], Loss: 0.3646\n",
            "Epoch [3/10], Step [190], Loss: 0.3845\n",
            "Epoch [3/10], Step [200], Loss: 0.6277\n",
            "Epoch [3/10], Step [210], Loss: 0.3918\n",
            "Epoch [3/10], Step [220], Loss: 0.5085\n",
            "Epoch [3/10], Step [230], Loss: 0.3939\n",
            "Epoch [3/10], Step [240], Loss: 0.2861\n",
            "Epoch [3/10], Step [250], Loss: 0.2984\n",
            "Epoch [3/10], Step [260], Loss: 0.6752\n",
            "Epoch [3/10], Step [270], Loss: 0.4158\n",
            "Epoch [3/10], Step [280], Loss: 0.3456\n",
            "Epoch [3/10], Step [290], Loss: 0.2848\n",
            "Epoch [3/10], Step [300], Loss: 0.2906\n",
            "Epoch [3/10], Step [310], Loss: 0.3981\n",
            "Epoch [3/10], Step [320], Loss: 0.5213\n",
            "Epoch [3/10], Step [330], Loss: 0.2909\n",
            "Epoch [3/10], Step [340], Loss: 0.4277\n",
            "Epoch [3/10], Step [350], Loss: 0.4762\n",
            "Epoch [3/10], Step [360], Loss: 0.6462\n",
            "Epoch [3/10], Step [370], Loss: 0.4129\n",
            "Epoch [3/10], Step [380], Loss: 0.5883\n",
            "Epoch [3/10], Step [390], Loss: 0.4997\n",
            "Epoch [3/10], Step [400], Loss: 0.6487\n",
            "Epoch [3/10], Step [410], Loss: 0.3608\n",
            "Epoch [3/10], Step [420], Loss: 0.4035\n",
            "Epoch [3/10], Step [430], Loss: 0.3681\n",
            "Epoch [3/10], Step [440], Loss: 0.4330\n",
            "Epoch [3/10], Step [450], Loss: 0.3621\n",
            "Epoch [3/10], Step [460], Loss: 0.2471\n",
            "Epoch [3/10], Step [470], Loss: 0.2827\n",
            "Epoch [3/10], Step [480], Loss: 0.7337\n",
            "Epoch [3/10], Step [490], Loss: 0.5493\n",
            "Epoch [3/10], Step [500], Loss: 0.2233\n",
            "Epoch [3/10], Step [510], Loss: 0.6276\n",
            "Epoch [3/10], Step [520], Loss: 0.3950\n",
            "Epoch [3/10], Step [530], Loss: 0.5381\n",
            "Epoch [3/10], Step [540], Loss: 0.5118\n",
            "Epoch [3/10], Step [550], Loss: 0.3446\n",
            "Epoch [3/10], Step [560], Loss: 0.5515\n",
            "Epoch [3/10], Step [570], Loss: 0.3039\n",
            "Epoch [3/10], Step [580], Loss: 0.6556\n",
            "Epoch [3/10], Step [590], Loss: 0.5869\n",
            "Epoch [3/10], Step [600], Loss: 0.4949\n",
            "Epoch [3/10], Step [610], Loss: 0.4702\n",
            "Epoch [3/10], Step [620], Loss: 0.8333\n",
            "Epoch [3/10], Step [630], Loss: 0.8401\n",
            "Epoch [3/10], Step [640], Loss: 0.5221\n",
            "Epoch [3/10], Step [650], Loss: 0.4527\n",
            "Epoch [3/10], Step [660], Loss: 0.2592\n",
            "Epoch [3/10], Step [670], Loss: 0.5511\n",
            "Epoch [3/10], Step [680], Loss: 0.8037\n",
            "Epoch [3/10], Step [690], Loss: 0.4781\n",
            "Epoch [3/10], Step [700], Loss: 0.3988\n",
            "Epoch [3/10], Step [710], Loss: 0.4463\n",
            "Epoch [3/10], Step [720], Loss: 0.5455\n",
            "Epoch [3/10], Step [730], Loss: 0.5998\n",
            "Epoch [3/10], Step [740], Loss: 0.3397\n",
            "Epoch [3/10], Step [750], Loss: 0.7435\n",
            "Epoch [3/10], Step [760], Loss: 0.8992\n",
            "Epoch [3/10], Step [770], Loss: 0.3440\n",
            "Epoch [3/10], Step [780], Loss: 0.4836\n",
            "Epoch [3/10], Step [790], Loss: 0.5212\n",
            "Epoch [3/10], Step [800], Loss: 0.4323\n",
            "Epoch [3/10], Step [810], Loss: 0.5485\n",
            "Epoch [3/10], Step [820], Loss: 0.2941\n",
            "Epoch [3/10], Step [830], Loss: 0.4259\n",
            "Epoch [3/10], Step [840], Loss: 0.5477\n",
            "Epoch [3/10], Step [850], Loss: 0.7011\n",
            "Epoch [3/10], Step [860], Loss: 0.4476\n",
            "Epoch [3/10], Step [870], Loss: 0.4312\n",
            "Epoch [3/10], Step [880], Loss: 0.4983\n",
            "Epoch [3/10], Step [890], Loss: 0.3767\n",
            "Epoch [3/10], Step [900], Loss: 0.6074\n",
            "Epoch [3/10], Step [910], Loss: 0.9199\n",
            "Epoch [3/10], Step [920], Loss: 0.9142\n",
            "Epoch [3/10], Step [930], Loss: 0.6099\n",
            "Epoch [3/10], Step [940], Loss: 0.8160\n",
            "Epoch [3/10], Step [950], Loss: 0.5979\n",
            "Epoch [3/10], Step [960], Loss: 0.4424\n",
            "Epoch [3/10], Step [970], Loss: 0.3966\n",
            "Epoch [3/10], Step [980], Loss: 0.5451\n",
            "Epoch [3/10], Step [990], Loss: 0.5561\n",
            "Epoch [3/10], Step [1000], Loss: 0.8738\n",
            "Epoch [3/10], Step [1010], Loss: 0.7382\n",
            "Epoch [3/10], Step [1020], Loss: 0.2521\n",
            "Epoch [3/10], Step [1030], Loss: 0.7235\n",
            "Epoch [3/10], Step [1040], Loss: 0.4028\n",
            "Epoch [3/10], Step [1050], Loss: 0.5829\n",
            "Epoch [3/10], Step [1060], Loss: 0.6235\n",
            "Epoch [3/10], Step [1070], Loss: 0.6685\n",
            "Epoch [3/10], Step [1080], Loss: 0.4150\n",
            "Epoch [3/10], Step [1090], Loss: 0.5694\n",
            "Epoch [3/10], Step [1100], Loss: 0.3218\n",
            "Epoch [3/10], Step [1110], Loss: 0.4053\n",
            "Epoch [3/10], Step [1120], Loss: 0.3986\n",
            "Epoch [3/10], Step [1130], Loss: 0.5280\n",
            "Epoch [3/10], Step [1140], Loss: 0.6416\n",
            "Epoch [3/10], Step [1150], Loss: 0.5228\n",
            "Epoch [3/10], Step [1160], Loss: 0.5455\n",
            "Epoch [3/10], Step [1170], Loss: 0.3851\n",
            "Epoch [3/10], Step [1180], Loss: 0.4798\n",
            "Epoch [3/10], Step [1190], Loss: 0.5670\n",
            "Epoch [3/10], Step [1200], Loss: 1.1716\n",
            "Epoch [3/10], Step [1210], Loss: 0.4554\n",
            "Epoch [3/10], Step [1220], Loss: 0.7309\n",
            "Epoch [3/10], Step [1230], Loss: 0.4980\n",
            "Epoch [3/10], Step [1240], Loss: 0.5275\n",
            "Epoch [3/10], Step [1250], Loss: 0.6381\n",
            "Epoch [3/10], Step [1260], Loss: 0.5933\n",
            "Epoch [3/10], Step [1270], Loss: 0.7674\n",
            "Epoch [3/10], Step [1280], Loss: 0.3001\n",
            "Epoch [3/10], Step [1290], Loss: 0.4593\n",
            "Epoch [3/10], Step [1300], Loss: 0.4649\n",
            "Epoch [3/10], Step [1310], Loss: 0.3353\n",
            "Epoch [3/10], Step [1320], Loss: 0.9445\n",
            "Epoch [3/10], Step [1330], Loss: 0.5568\n",
            "Epoch [3/10], Step [1340], Loss: 0.4490\n",
            "Epoch [3/10], Step [1350], Loss: 0.5656\n",
            "Epoch [3/10], Step [1360], Loss: 0.3637\n",
            "Epoch [3/10], Step [1370], Loss: 0.3298\n",
            "Epoch [3/10], Step [1380], Loss: 0.6094\n",
            "Epoch [3/10], Step [1390], Loss: 0.4759\n",
            "Epoch [3/10], Step [1400], Loss: 0.6537\n",
            "Epoch [3/10], Step [1410], Loss: 0.4847\n",
            "Epoch [3/10], Step [1420], Loss: 0.3225\n",
            "Epoch [3/10], Step [1430], Loss: 0.4807\n",
            "Epoch [3/10], Step [1440], Loss: 0.5133\n",
            "Epoch [3/10], Step [1450], Loss: 0.5723\n",
            "Epoch [3/10], Step [1460], Loss: 0.4393\n",
            "Epoch [3/10], Step [1470], Loss: 0.5584\n",
            "Epoch [3/10], Step [1480], Loss: 0.4947\n",
            "Epoch [3/10], Step [1490], Loss: 0.3177\n",
            "Epoch [3/10], Step [1500], Loss: 0.4602\n",
            "Epoch [3/10], Step [1510], Loss: 0.4401\n",
            "Epoch [3/10], Step [1520], Loss: 0.3846\n",
            "Epoch [3/10], Step [1530], Loss: 0.4590\n",
            "Epoch [3/10], Step [1540], Loss: 0.9819\n",
            "Epoch [3/10], Step [1550], Loss: 0.5197\n",
            "Epoch [3/10], Step [1560], Loss: 0.4801\n",
            "Epoch [3/10], Step [1570], Loss: 0.3150\n",
            "Epoch [3/10], Step [1580], Loss: 0.3730\n",
            "Epoch [3/10], Step [1590], Loss: 0.7240\n",
            "Epoch [3/10], Step [1600], Loss: 0.4051\n",
            "Epoch [3/10], Step [1610], Loss: 0.6472\n",
            "Epoch [3/10], Step [1620], Loss: 0.5179\n",
            "Epoch [3/10], Step [1630], Loss: 0.4668\n",
            "Epoch [3/10], Step [1640], Loss: 0.5810\n",
            "Epoch [3/10], Step [1650], Loss: 0.6936\n",
            "Epoch [3/10], Step [1660], Loss: 0.3734\n",
            "Epoch [3/10], Step [1670], Loss: 0.3524\n",
            "Epoch [3/10], Step [1680], Loss: 0.4987\n",
            "Epoch [3/10], Step [1690], Loss: 0.4334\n",
            "Epoch [3/10], Step [1700], Loss: 0.5590\n",
            "Epoch [3/10], Step [1710], Loss: 0.3190\n",
            "Epoch [3/10], Step [1720], Loss: 0.4361\n",
            "Epoch [3/10], Step [1730], Loss: 0.6137\n",
            "Epoch [4/10], Step [10], Loss: 0.4823\n",
            "Epoch [4/10], Step [20], Loss: 0.3451\n",
            "Epoch [4/10], Step [30], Loss: 0.2801\n",
            "Epoch [4/10], Step [40], Loss: 0.5430\n",
            "Epoch [4/10], Step [50], Loss: 0.6949\n",
            "Epoch [4/10], Step [60], Loss: 0.6217\n",
            "Epoch [4/10], Step [70], Loss: 0.7320\n",
            "Epoch [4/10], Step [80], Loss: 0.3101\n",
            "Epoch [4/10], Step [90], Loss: 0.2201\n",
            "Epoch [4/10], Step [100], Loss: 0.4803\n",
            "Epoch [4/10], Step [110], Loss: 0.3547\n",
            "Epoch [4/10], Step [120], Loss: 0.3625\n",
            "Epoch [4/10], Step [130], Loss: 0.3856\n",
            "Epoch [4/10], Step [140], Loss: 0.2926\n",
            "Epoch [4/10], Step [150], Loss: 0.5257\n",
            "Epoch [4/10], Step [160], Loss: 0.4885\n",
            "Epoch [4/10], Step [170], Loss: 0.3944\n",
            "Epoch [4/10], Step [180], Loss: 0.5449\n",
            "Epoch [4/10], Step [190], Loss: 0.2450\n",
            "Epoch [4/10], Step [200], Loss: 0.1908\n",
            "Epoch [4/10], Step [210], Loss: 0.4573\n",
            "Epoch [4/10], Step [220], Loss: 0.4993\n",
            "Epoch [4/10], Step [230], Loss: 0.5078\n",
            "Epoch [4/10], Step [240], Loss: 0.5880\n",
            "Epoch [4/10], Step [250], Loss: 0.4117\n",
            "Epoch [4/10], Step [260], Loss: 0.4900\n",
            "Epoch [4/10], Step [270], Loss: 0.2918\n",
            "Epoch [4/10], Step [280], Loss: 0.3170\n",
            "Epoch [4/10], Step [290], Loss: 0.4328\n",
            "Epoch [4/10], Step [300], Loss: 0.5157\n",
            "Epoch [4/10], Step [310], Loss: 0.4244\n",
            "Epoch [4/10], Step [320], Loss: 0.5791\n",
            "Epoch [4/10], Step [330], Loss: 0.3985\n",
            "Epoch [4/10], Step [340], Loss: 0.1932\n",
            "Epoch [4/10], Step [350], Loss: 0.2816\n",
            "Epoch [4/10], Step [360], Loss: 0.3092\n",
            "Epoch [4/10], Step [370], Loss: 0.3979\n",
            "Epoch [4/10], Step [380], Loss: 0.3537\n",
            "Epoch [4/10], Step [390], Loss: 0.5476\n",
            "Epoch [4/10], Step [400], Loss: 0.2839\n",
            "Epoch [4/10], Step [410], Loss: 0.2154\n",
            "Epoch [4/10], Step [420], Loss: 0.4240\n",
            "Epoch [4/10], Step [430], Loss: 0.2979\n",
            "Epoch [4/10], Step [440], Loss: 0.3714\n",
            "Epoch [4/10], Step [450], Loss: 0.5208\n",
            "Epoch [4/10], Step [460], Loss: 0.4328\n",
            "Epoch [4/10], Step [470], Loss: 0.3188\n",
            "Epoch [4/10], Step [480], Loss: 0.3222\n",
            "Epoch [4/10], Step [490], Loss: 0.5811\n",
            "Epoch [4/10], Step [500], Loss: 0.3133\n",
            "Epoch [4/10], Step [510], Loss: 0.5425\n",
            "Epoch [4/10], Step [520], Loss: 0.3662\n",
            "Epoch [4/10], Step [530], Loss: 0.2167\n",
            "Epoch [4/10], Step [540], Loss: 0.4956\n",
            "Epoch [4/10], Step [550], Loss: 0.5314\n",
            "Epoch [4/10], Step [560], Loss: 0.3204\n",
            "Epoch [4/10], Step [570], Loss: 0.4565\n",
            "Epoch [4/10], Step [580], Loss: 0.4997\n",
            "Epoch [4/10], Step [590], Loss: 0.3810\n",
            "Epoch [4/10], Step [600], Loss: 0.4115\n",
            "Epoch [4/10], Step [610], Loss: 0.6165\n",
            "Epoch [4/10], Step [620], Loss: 0.3999\n",
            "Epoch [4/10], Step [630], Loss: 0.7590\n",
            "Epoch [4/10], Step [640], Loss: 0.5682\n",
            "Epoch [4/10], Step [650], Loss: 0.4480\n",
            "Epoch [4/10], Step [660], Loss: 0.5340\n",
            "Epoch [4/10], Step [670], Loss: 0.3284\n",
            "Epoch [4/10], Step [680], Loss: 0.3659\n",
            "Epoch [4/10], Step [690], Loss: 0.3378\n",
            "Epoch [4/10], Step [700], Loss: 0.4048\n",
            "Epoch [4/10], Step [710], Loss: 0.7282\n",
            "Epoch [4/10], Step [720], Loss: 0.3741\n",
            "Epoch [4/10], Step [730], Loss: 0.4267\n",
            "Epoch [4/10], Step [740], Loss: 0.8201\n",
            "Epoch [4/10], Step [750], Loss: 0.7686\n",
            "Epoch [4/10], Step [760], Loss: 0.3424\n",
            "Epoch [4/10], Step [770], Loss: 0.4801\n",
            "Epoch [4/10], Step [780], Loss: 1.0131\n",
            "Epoch [4/10], Step [790], Loss: 0.4824\n",
            "Epoch [4/10], Step [800], Loss: 0.4566\n",
            "Epoch [4/10], Step [810], Loss: 0.7954\n",
            "Epoch [4/10], Step [820], Loss: 0.5071\n",
            "Epoch [4/10], Step [830], Loss: 0.4113\n",
            "Epoch [4/10], Step [840], Loss: 0.4420\n",
            "Epoch [4/10], Step [850], Loss: 0.3945\n",
            "Epoch [4/10], Step [860], Loss: 0.4626\n",
            "Epoch [4/10], Step [870], Loss: 0.3149\n",
            "Epoch [4/10], Step [880], Loss: 0.4917\n",
            "Epoch [4/10], Step [890], Loss: 0.3466\n",
            "Epoch [4/10], Step [900], Loss: 0.5416\n",
            "Epoch [4/10], Step [910], Loss: 0.2557\n",
            "Epoch [4/10], Step [920], Loss: 0.3369\n",
            "Epoch [4/10], Step [930], Loss: 0.4274\n",
            "Epoch [4/10], Step [940], Loss: 0.3721\n",
            "Epoch [4/10], Step [950], Loss: 0.6650\n",
            "Epoch [4/10], Step [960], Loss: 0.5089\n",
            "Epoch [4/10], Step [970], Loss: 0.2690\n",
            "Epoch [4/10], Step [980], Loss: 0.5947\n",
            "Epoch [4/10], Step [990], Loss: 0.2538\n",
            "Epoch [4/10], Step [1000], Loss: 0.3675\n",
            "Epoch [4/10], Step [1010], Loss: 0.2666\n",
            "Epoch [4/10], Step [1020], Loss: 0.5141\n",
            "Epoch [4/10], Step [1030], Loss: 0.4603\n",
            "Epoch [4/10], Step [1040], Loss: 0.5570\n",
            "Epoch [4/10], Step [1050], Loss: 0.4638\n",
            "Epoch [4/10], Step [1060], Loss: 0.7804\n",
            "Epoch [4/10], Step [1070], Loss: 0.6571\n",
            "Epoch [4/10], Step [1080], Loss: 0.3679\n",
            "Epoch [4/10], Step [1090], Loss: 0.5577\n",
            "Epoch [4/10], Step [1100], Loss: 0.7981\n",
            "Epoch [4/10], Step [1110], Loss: 0.2021\n",
            "Epoch [4/10], Step [1120], Loss: 0.7133\n",
            "Epoch [4/10], Step [1130], Loss: 0.5013\n",
            "Epoch [4/10], Step [1140], Loss: 0.3045\n",
            "Epoch [4/10], Step [1150], Loss: 0.4400\n",
            "Epoch [4/10], Step [1160], Loss: 0.4415\n",
            "Epoch [4/10], Step [1170], Loss: 0.2144\n",
            "Epoch [4/10], Step [1180], Loss: 0.7403\n",
            "Epoch [4/10], Step [1190], Loss: 0.5435\n",
            "Epoch [4/10], Step [1200], Loss: 0.5313\n",
            "Epoch [4/10], Step [1210], Loss: 0.4953\n",
            "Epoch [4/10], Step [1220], Loss: 0.4832\n",
            "Epoch [4/10], Step [1230], Loss: 0.4163\n",
            "Epoch [4/10], Step [1240], Loss: 0.2360\n",
            "Epoch [4/10], Step [1250], Loss: 0.4756\n",
            "Epoch [4/10], Step [1260], Loss: 0.3429\n",
            "Epoch [4/10], Step [1270], Loss: 0.3760\n",
            "Epoch [4/10], Step [1280], Loss: 0.5557\n",
            "Epoch [4/10], Step [1290], Loss: 0.2521\n",
            "Epoch [4/10], Step [1300], Loss: 0.4215\n",
            "Epoch [4/10], Step [1310], Loss: 0.5089\n",
            "Epoch [4/10], Step [1320], Loss: 0.4319\n",
            "Epoch [4/10], Step [1330], Loss: 0.5713\n",
            "Epoch [4/10], Step [1340], Loss: 0.4158\n",
            "Epoch [4/10], Step [1350], Loss: 0.5941\n",
            "Epoch [4/10], Step [1360], Loss: 0.3475\n",
            "Epoch [4/10], Step [1370], Loss: 0.3751\n",
            "Epoch [4/10], Step [1380], Loss: 0.2823\n",
            "Epoch [4/10], Step [1390], Loss: 0.4507\n",
            "Epoch [4/10], Step [1400], Loss: 0.4873\n",
            "Epoch [4/10], Step [1410], Loss: 0.2587\n",
            "Epoch [4/10], Step [1420], Loss: 0.6039\n",
            "Epoch [4/10], Step [1430], Loss: 0.3042\n",
            "Epoch [4/10], Step [1440], Loss: 0.5801\n",
            "Epoch [4/10], Step [1450], Loss: 0.3811\n",
            "Epoch [4/10], Step [1460], Loss: 0.7018\n",
            "Epoch [4/10], Step [1470], Loss: 0.8517\n",
            "Epoch [4/10], Step [1480], Loss: 0.5109\n",
            "Epoch [4/10], Step [1490], Loss: 0.6400\n",
            "Epoch [4/10], Step [1500], Loss: 0.5271\n",
            "Epoch [4/10], Step [1510], Loss: 0.5015\n",
            "Epoch [4/10], Step [1520], Loss: 0.2655\n",
            "Epoch [4/10], Step [1530], Loss: 0.3374\n",
            "Epoch [4/10], Step [1540], Loss: 0.2000\n",
            "Epoch [4/10], Step [1550], Loss: 0.7511\n",
            "Epoch [4/10], Step [1560], Loss: 0.2818\n",
            "Epoch [4/10], Step [1570], Loss: 0.5884\n",
            "Epoch [4/10], Step [1580], Loss: 0.6854\n",
            "Epoch [4/10], Step [1590], Loss: 0.2293\n",
            "Epoch [4/10], Step [1600], Loss: 0.7686\n",
            "Epoch [4/10], Step [1610], Loss: 0.3201\n",
            "Epoch [4/10], Step [1620], Loss: 0.3342\n",
            "Epoch [4/10], Step [1630], Loss: 0.3569\n",
            "Epoch [4/10], Step [1640], Loss: 0.4161\n",
            "Epoch [4/10], Step [1650], Loss: 0.3897\n",
            "Epoch [4/10], Step [1660], Loss: 0.3890\n",
            "Epoch [4/10], Step [1670], Loss: 0.5455\n",
            "Epoch [4/10], Step [1680], Loss: 0.6582\n",
            "Epoch [4/10], Step [1690], Loss: 0.4783\n",
            "Epoch [4/10], Step [1700], Loss: 0.2995\n",
            "Epoch [4/10], Step [1710], Loss: 0.3464\n",
            "Epoch [4/10], Step [1720], Loss: 0.2596\n",
            "Epoch [4/10], Step [1730], Loss: 0.3709\n",
            "Epoch [5/10], Step [10], Loss: 0.4216\n",
            "Epoch [5/10], Step [20], Loss: 0.6226\n",
            "Epoch [5/10], Step [30], Loss: 0.3279\n",
            "Epoch [5/10], Step [40], Loss: 0.4502\n",
            "Epoch [5/10], Step [50], Loss: 0.2148\n",
            "Epoch [5/10], Step [60], Loss: 0.3215\n",
            "Epoch [5/10], Step [70], Loss: 0.7001\n",
            "Epoch [5/10], Step [80], Loss: 0.5633\n",
            "Epoch [5/10], Step [90], Loss: 0.1773\n",
            "Epoch [5/10], Step [100], Loss: 0.3199\n",
            "Epoch [5/10], Step [110], Loss: 0.6319\n",
            "Epoch [5/10], Step [120], Loss: 0.3804\n",
            "Epoch [5/10], Step [130], Loss: 0.4246\n",
            "Epoch [5/10], Step [140], Loss: 0.5052\n",
            "Epoch [5/10], Step [150], Loss: 0.3649\n",
            "Epoch [5/10], Step [160], Loss: 0.2502\n",
            "Epoch [5/10], Step [170], Loss: 0.4625\n",
            "Epoch [5/10], Step [180], Loss: 0.6046\n",
            "Epoch [5/10], Step [190], Loss: 0.5056\n",
            "Epoch [5/10], Step [200], Loss: 0.3506\n",
            "Epoch [5/10], Step [210], Loss: 0.4064\n",
            "Epoch [5/10], Step [220], Loss: 0.4048\n",
            "Epoch [5/10], Step [230], Loss: 0.5161\n",
            "Epoch [5/10], Step [240], Loss: 0.5118\n",
            "Epoch [5/10], Step [250], Loss: 0.4060\n",
            "Epoch [5/10], Step [260], Loss: 0.7993\n",
            "Epoch [5/10], Step [270], Loss: 0.5568\n",
            "Epoch [5/10], Step [280], Loss: 0.6230\n",
            "Epoch [5/10], Step [290], Loss: 0.3931\n",
            "Epoch [5/10], Step [300], Loss: 0.3004\n",
            "Epoch [5/10], Step [310], Loss: 0.4519\n",
            "Epoch [5/10], Step [320], Loss: 0.5050\n",
            "Epoch [5/10], Step [330], Loss: 0.2880\n",
            "Epoch [5/10], Step [340], Loss: 0.3098\n",
            "Epoch [5/10], Step [350], Loss: 0.3476\n",
            "Epoch [5/10], Step [360], Loss: 0.7003\n",
            "Epoch [5/10], Step [370], Loss: 0.2815\n",
            "Epoch [5/10], Step [380], Loss: 0.4952\n",
            "Epoch [5/10], Step [390], Loss: 0.3965\n",
            "Epoch [5/10], Step [400], Loss: 0.1933\n",
            "Epoch [5/10], Step [410], Loss: 0.3478\n",
            "Epoch [5/10], Step [420], Loss: 0.5206\n",
            "Epoch [5/10], Step [430], Loss: 0.4875\n",
            "Epoch [5/10], Step [440], Loss: 0.5853\n",
            "Epoch [5/10], Step [450], Loss: 0.4319\n",
            "Epoch [5/10], Step [460], Loss: 0.2940\n",
            "Epoch [5/10], Step [470], Loss: 0.3840\n",
            "Epoch [5/10], Step [480], Loss: 0.2886\n",
            "Epoch [5/10], Step [490], Loss: 0.4828\n",
            "Epoch [5/10], Step [500], Loss: 0.5287\n",
            "Epoch [5/10], Step [510], Loss: 0.3512\n",
            "Epoch [5/10], Step [520], Loss: 0.5417\n",
            "Epoch [5/10], Step [530], Loss: 0.3462\n",
            "Epoch [5/10], Step [540], Loss: 0.4875\n",
            "Epoch [5/10], Step [550], Loss: 0.3432\n",
            "Epoch [5/10], Step [560], Loss: 0.2182\n",
            "Epoch [5/10], Step [570], Loss: 0.3704\n",
            "Epoch [5/10], Step [580], Loss: 0.7204\n",
            "Epoch [5/10], Step [590], Loss: 0.2085\n",
            "Epoch [5/10], Step [600], Loss: 0.5967\n",
            "Epoch [5/10], Step [610], Loss: 0.3435\n",
            "Epoch [5/10], Step [620], Loss: 0.6392\n",
            "Epoch [5/10], Step [630], Loss: 0.3817\n",
            "Epoch [5/10], Step [640], Loss: 0.6030\n",
            "Epoch [5/10], Step [650], Loss: 0.2648\n",
            "Epoch [5/10], Step [660], Loss: 0.2196\n",
            "Epoch [5/10], Step [670], Loss: 0.2394\n",
            "Epoch [5/10], Step [680], Loss: 0.7897\n",
            "Epoch [5/10], Step [690], Loss: 0.5381\n",
            "Epoch [5/10], Step [700], Loss: 0.4564\n",
            "Epoch [5/10], Step [710], Loss: 0.3788\n",
            "Epoch [5/10], Step [720], Loss: 0.3091\n",
            "Epoch [5/10], Step [730], Loss: 0.5172\n",
            "Epoch [5/10], Step [740], Loss: 0.4119\n",
            "Epoch [5/10], Step [750], Loss: 0.4847\n",
            "Epoch [5/10], Step [760], Loss: 0.4496\n",
            "Epoch [5/10], Step [770], Loss: 0.2491\n",
            "Epoch [5/10], Step [780], Loss: 0.3406\n",
            "Epoch [5/10], Step [790], Loss: 0.5229\n",
            "Epoch [5/10], Step [800], Loss: 0.2252\n",
            "Epoch [5/10], Step [810], Loss: 0.5102\n",
            "Epoch [5/10], Step [820], Loss: 0.2661\n",
            "Epoch [5/10], Step [830], Loss: 0.6231\n",
            "Epoch [5/10], Step [840], Loss: 0.5956\n",
            "Epoch [5/10], Step [850], Loss: 0.6384\n",
            "Epoch [5/10], Step [860], Loss: 0.4444\n",
            "Epoch [5/10], Step [870], Loss: 0.4819\n",
            "Epoch [5/10], Step [880], Loss: 0.5351\n",
            "Epoch [5/10], Step [890], Loss: 0.6986\n",
            "Epoch [5/10], Step [900], Loss: 0.4613\n",
            "Epoch [5/10], Step [910], Loss: 0.2360\n",
            "Epoch [5/10], Step [920], Loss: 0.5428\n",
            "Epoch [5/10], Step [930], Loss: 0.2202\n",
            "Epoch [5/10], Step [940], Loss: 0.6078\n",
            "Epoch [5/10], Step [950], Loss: 0.2704\n",
            "Epoch [5/10], Step [960], Loss: 0.3835\n",
            "Epoch [5/10], Step [970], Loss: 0.4981\n",
            "Epoch [5/10], Step [980], Loss: 0.4700\n",
            "Epoch [5/10], Step [990], Loss: 0.3137\n",
            "Epoch [5/10], Step [1000], Loss: 0.4841\n",
            "Epoch [5/10], Step [1010], Loss: 0.1996\n",
            "Epoch [5/10], Step [1020], Loss: 0.4462\n",
            "Epoch [5/10], Step [1030], Loss: 0.3420\n",
            "Epoch [5/10], Step [1040], Loss: 0.4369\n",
            "Epoch [5/10], Step [1050], Loss: 0.6400\n",
            "Epoch [5/10], Step [1060], Loss: 0.5337\n",
            "Epoch [5/10], Step [1070], Loss: 0.3225\n",
            "Epoch [5/10], Step [1080], Loss: 0.3934\n",
            "Epoch [5/10], Step [1090], Loss: 0.4271\n",
            "Epoch [5/10], Step [1100], Loss: 0.6108\n",
            "Epoch [5/10], Step [1110], Loss: 0.5143\n",
            "Epoch [5/10], Step [1120], Loss: 0.5664\n",
            "Epoch [5/10], Step [1130], Loss: 0.4721\n",
            "Epoch [5/10], Step [1140], Loss: 0.2255\n",
            "Epoch [5/10], Step [1150], Loss: 0.4836\n",
            "Epoch [5/10], Step [1160], Loss: 0.2714\n",
            "Epoch [5/10], Step [1170], Loss: 0.4354\n",
            "Epoch [5/10], Step [1180], Loss: 0.4003\n",
            "Epoch [5/10], Step [1190], Loss: 0.2388\n",
            "Epoch [5/10], Step [1200], Loss: 0.4040\n",
            "Epoch [5/10], Step [1210], Loss: 0.5277\n",
            "Epoch [5/10], Step [1220], Loss: 0.2615\n",
            "Epoch [5/10], Step [1230], Loss: 0.3102\n",
            "Epoch [5/10], Step [1240], Loss: 0.2763\n",
            "Epoch [5/10], Step [1250], Loss: 0.3402\n",
            "Epoch [5/10], Step [1260], Loss: 0.2900\n",
            "Epoch [5/10], Step [1270], Loss: 0.3484\n",
            "Epoch [5/10], Step [1280], Loss: 0.3556\n",
            "Epoch [5/10], Step [1290], Loss: 0.2890\n",
            "Epoch [5/10], Step [1300], Loss: 0.4586\n",
            "Epoch [5/10], Step [1310], Loss: 0.3030\n",
            "Epoch [5/10], Step [1320], Loss: 0.6123\n",
            "Epoch [5/10], Step [1330], Loss: 0.4165\n",
            "Epoch [5/10], Step [1340], Loss: 0.1961\n",
            "Epoch [5/10], Step [1350], Loss: 0.4638\n",
            "Epoch [5/10], Step [1360], Loss: 0.3784\n",
            "Epoch [5/10], Step [1370], Loss: 0.4799\n",
            "Epoch [5/10], Step [1380], Loss: 0.2714\n",
            "Epoch [5/10], Step [1390], Loss: 0.5141\n",
            "Epoch [5/10], Step [1400], Loss: 0.4587\n",
            "Epoch [5/10], Step [1410], Loss: 0.5681\n",
            "Epoch [5/10], Step [1420], Loss: 0.5318\n",
            "Epoch [5/10], Step [1430], Loss: 0.3865\n",
            "Epoch [5/10], Step [1440], Loss: 0.4151\n",
            "Epoch [5/10], Step [1450], Loss: 0.4042\n",
            "Epoch [5/10], Step [1460], Loss: 0.4810\n",
            "Epoch [5/10], Step [1470], Loss: 0.4441\n",
            "Epoch [5/10], Step [1480], Loss: 0.7111\n",
            "Epoch [5/10], Step [1490], Loss: 0.4863\n",
            "Epoch [5/10], Step [1500], Loss: 0.5320\n",
            "Epoch [5/10], Step [1510], Loss: 0.3174\n",
            "Epoch [5/10], Step [1520], Loss: 0.5534\n",
            "Epoch [5/10], Step [1530], Loss: 0.5126\n",
            "Epoch [5/10], Step [1540], Loss: 0.4307\n",
            "Epoch [5/10], Step [1550], Loss: 0.5721\n",
            "Epoch [5/10], Step [1560], Loss: 0.3220\n",
            "Epoch [5/10], Step [1570], Loss: 0.4183\n",
            "Epoch [5/10], Step [1580], Loss: 0.2126\n",
            "Epoch [5/10], Step [1590], Loss: 0.6240\n",
            "Epoch [5/10], Step [1600], Loss: 0.4326\n",
            "Epoch [5/10], Step [1610], Loss: 0.8623\n",
            "Epoch [5/10], Step [1620], Loss: 0.4641\n",
            "Epoch [5/10], Step [1630], Loss: 0.5491\n",
            "Epoch [5/10], Step [1640], Loss: 0.4407\n",
            "Epoch [5/10], Step [1650], Loss: 0.2675\n",
            "Epoch [5/10], Step [1660], Loss: 0.2149\n",
            "Epoch [5/10], Step [1670], Loss: 0.8031\n",
            "Epoch [5/10], Step [1680], Loss: 0.4873\n",
            "Epoch [5/10], Step [1690], Loss: 0.2096\n",
            "Epoch [5/10], Step [1700], Loss: 0.6280\n",
            "Epoch [5/10], Step [1710], Loss: 0.5950\n",
            "Epoch [5/10], Step [1720], Loss: 0.3677\n",
            "Epoch [5/10], Step [1730], Loss: 0.5161\n",
            "Epoch [6/10], Step [10], Loss: 0.4246\n",
            "Epoch [6/10], Step [20], Loss: 0.2613\n",
            "Epoch [6/10], Step [30], Loss: 0.4071\n",
            "Epoch [6/10], Step [40], Loss: 0.4217\n",
            "Epoch [6/10], Step [50], Loss: 0.3018\n",
            "Epoch [6/10], Step [60], Loss: 0.2314\n",
            "Epoch [6/10], Step [70], Loss: 0.3682\n",
            "Epoch [6/10], Step [80], Loss: 0.2419\n",
            "Epoch [6/10], Step [90], Loss: 0.2216\n",
            "Epoch [6/10], Step [100], Loss: 0.2778\n",
            "Epoch [6/10], Step [110], Loss: 0.4439\n",
            "Epoch [6/10], Step [120], Loss: 0.2925\n",
            "Epoch [6/10], Step [130], Loss: 0.4307\n",
            "Epoch [6/10], Step [140], Loss: 0.3216\n",
            "Epoch [6/10], Step [150], Loss: 0.3024\n",
            "Epoch [6/10], Step [160], Loss: 0.3940\n",
            "Epoch [6/10], Step [170], Loss: 0.3454\n",
            "Epoch [6/10], Step [180], Loss: 0.5880\n",
            "Epoch [6/10], Step [190], Loss: 0.3685\n",
            "Epoch [6/10], Step [200], Loss: 0.4448\n",
            "Epoch [6/10], Step [210], Loss: 0.2696\n",
            "Epoch [6/10], Step [220], Loss: 0.3924\n",
            "Epoch [6/10], Step [230], Loss: 0.3335\n",
            "Epoch [6/10], Step [240], Loss: 0.2782\n",
            "Epoch [6/10], Step [250], Loss: 0.4398\n",
            "Epoch [6/10], Step [260], Loss: 0.2841\n",
            "Epoch [6/10], Step [270], Loss: 0.1837\n",
            "Epoch [6/10], Step [280], Loss: 0.2152\n",
            "Epoch [6/10], Step [290], Loss: 0.5224\n",
            "Epoch [6/10], Step [300], Loss: 0.2441\n",
            "Epoch [6/10], Step [310], Loss: 0.2535\n",
            "Epoch [6/10], Step [320], Loss: 0.2101\n",
            "Epoch [6/10], Step [330], Loss: 0.5262\n",
            "Epoch [6/10], Step [340], Loss: 0.3425\n",
            "Epoch [6/10], Step [350], Loss: 0.2523\n",
            "Epoch [6/10], Step [360], Loss: 0.3349\n",
            "Epoch [6/10], Step [370], Loss: 0.3595\n",
            "Epoch [6/10], Step [380], Loss: 0.6950\n",
            "Epoch [6/10], Step [390], Loss: 0.3477\n",
            "Epoch [6/10], Step [400], Loss: 0.5077\n",
            "Epoch [6/10], Step [410], Loss: 0.4345\n",
            "Epoch [6/10], Step [420], Loss: 0.2221\n",
            "Epoch [6/10], Step [430], Loss: 0.2841\n",
            "Epoch [6/10], Step [440], Loss: 0.2079\n",
            "Epoch [6/10], Step [450], Loss: 0.2327\n",
            "Epoch [6/10], Step [460], Loss: 0.6067\n",
            "Epoch [6/10], Step [470], Loss: 0.2523\n",
            "Epoch [6/10], Step [480], Loss: 0.2720\n",
            "Epoch [6/10], Step [490], Loss: 0.4157\n",
            "Epoch [6/10], Step [500], Loss: 0.3035\n",
            "Epoch [6/10], Step [510], Loss: 0.2987\n",
            "Epoch [6/10], Step [520], Loss: 0.2360\n",
            "Epoch [6/10], Step [530], Loss: 0.2472\n",
            "Epoch [6/10], Step [540], Loss: 0.4020\n",
            "Epoch [6/10], Step [550], Loss: 0.3471\n",
            "Epoch [6/10], Step [560], Loss: 0.3045\n",
            "Epoch [6/10], Step [570], Loss: 0.2783\n",
            "Epoch [6/10], Step [580], Loss: 0.1647\n",
            "Epoch [6/10], Step [590], Loss: 0.3847\n",
            "Epoch [6/10], Step [600], Loss: 0.3526\n",
            "Epoch [6/10], Step [610], Loss: 0.3956\n",
            "Epoch [6/10], Step [620], Loss: 0.3868\n",
            "Epoch [6/10], Step [630], Loss: 0.3258\n",
            "Epoch [6/10], Step [640], Loss: 0.5722\n",
            "Epoch [6/10], Step [650], Loss: 0.5366\n",
            "Epoch [6/10], Step [660], Loss: 0.3920\n",
            "Epoch [6/10], Step [670], Loss: 0.2756\n",
            "Epoch [6/10], Step [680], Loss: 0.6087\n",
            "Epoch [6/10], Step [690], Loss: 0.3832\n",
            "Epoch [6/10], Step [700], Loss: 0.2829\n",
            "Epoch [6/10], Step [710], Loss: 0.4192\n",
            "Epoch [6/10], Step [720], Loss: 0.4301\n",
            "Epoch [6/10], Step [730], Loss: 0.5805\n",
            "Epoch [6/10], Step [740], Loss: 0.2689\n",
            "Epoch [6/10], Step [750], Loss: 0.5084\n",
            "Epoch [6/10], Step [760], Loss: 0.3809\n",
            "Epoch [6/10], Step [770], Loss: 0.3204\n",
            "Epoch [6/10], Step [780], Loss: 0.4292\n",
            "Epoch [6/10], Step [790], Loss: 0.3729\n",
            "Epoch [6/10], Step [800], Loss: 0.3430\n",
            "Epoch [6/10], Step [810], Loss: 0.4460\n",
            "Epoch [6/10], Step [820], Loss: 0.4606\n",
            "Epoch [6/10], Step [830], Loss: 0.2586\n",
            "Epoch [6/10], Step [840], Loss: 0.2681\n",
            "Epoch [6/10], Step [850], Loss: 0.3366\n",
            "Epoch [6/10], Step [860], Loss: 0.5900\n",
            "Epoch [6/10], Step [870], Loss: 0.4275\n",
            "Epoch [6/10], Step [880], Loss: 0.2721\n",
            "Epoch [6/10], Step [890], Loss: 0.4368\n",
            "Epoch [6/10], Step [900], Loss: 0.4782\n",
            "Epoch [6/10], Step [910], Loss: 0.5975\n",
            "Epoch [6/10], Step [920], Loss: 0.2928\n",
            "Epoch [6/10], Step [930], Loss: 0.4963\n",
            "Epoch [6/10], Step [940], Loss: 0.3517\n",
            "Epoch [6/10], Step [950], Loss: 0.2287\n",
            "Epoch [6/10], Step [960], Loss: 0.3948\n",
            "Epoch [6/10], Step [970], Loss: 0.7343\n",
            "Epoch [6/10], Step [980], Loss: 0.2807\n",
            "Epoch [6/10], Step [990], Loss: 0.4992\n",
            "Epoch [6/10], Step [1000], Loss: 0.4117\n",
            "Epoch [6/10], Step [1010], Loss: 0.4509\n",
            "Epoch [6/10], Step [1020], Loss: 0.4241\n",
            "Epoch [6/10], Step [1030], Loss: 0.2589\n",
            "Epoch [6/10], Step [1040], Loss: 0.3558\n",
            "Epoch [6/10], Step [1050], Loss: 0.3794\n",
            "Epoch [6/10], Step [1060], Loss: 0.3050\n",
            "Epoch [6/10], Step [1070], Loss: 0.4541\n",
            "Epoch [6/10], Step [1080], Loss: 0.3403\n",
            "Epoch [6/10], Step [1090], Loss: 0.4810\n",
            "Epoch [6/10], Step [1100], Loss: 0.4433\n",
            "Epoch [6/10], Step [1110], Loss: 0.3769\n",
            "Epoch [6/10], Step [1120], Loss: 0.2655\n",
            "Epoch [6/10], Step [1130], Loss: 0.4258\n",
            "Epoch [6/10], Step [1140], Loss: 0.3795\n",
            "Epoch [6/10], Step [1150], Loss: 0.4367\n",
            "Epoch [6/10], Step [1160], Loss: 0.7466\n",
            "Epoch [6/10], Step [1170], Loss: 0.5888\n",
            "Epoch [6/10], Step [1180], Loss: 0.4450\n",
            "Epoch [6/10], Step [1190], Loss: 0.4778\n",
            "Epoch [6/10], Step [1200], Loss: 0.3535\n",
            "Epoch [6/10], Step [1210], Loss: 0.5576\n",
            "Epoch [6/10], Step [1220], Loss: 0.4090\n",
            "Epoch [6/10], Step [1230], Loss: 0.4982\n",
            "Epoch [6/10], Step [1240], Loss: 0.4746\n",
            "Epoch [6/10], Step [1250], Loss: 0.2543\n",
            "Epoch [6/10], Step [1260], Loss: 0.2684\n",
            "Epoch [6/10], Step [1270], Loss: 0.3526\n",
            "Epoch [6/10], Step [1280], Loss: 0.4721\n",
            "Epoch [6/10], Step [1290], Loss: 0.2525\n",
            "Epoch [6/10], Step [1300], Loss: 0.3012\n",
            "Epoch [6/10], Step [1310], Loss: 0.3315\n",
            "Epoch [6/10], Step [1320], Loss: 0.2072\n",
            "Epoch [6/10], Step [1330], Loss: 0.7301\n",
            "Epoch [6/10], Step [1340], Loss: 0.3338\n",
            "Epoch [6/10], Step [1350], Loss: 0.3622\n",
            "Epoch [6/10], Step [1360], Loss: 0.4844\n",
            "Epoch [6/10], Step [1370], Loss: 0.4465\n",
            "Epoch [6/10], Step [1380], Loss: 0.3856\n",
            "Epoch [6/10], Step [1390], Loss: 0.4375\n",
            "Epoch [6/10], Step [1400], Loss: 0.4830\n",
            "Epoch [6/10], Step [1410], Loss: 0.3957\n",
            "Epoch [6/10], Step [1420], Loss: 0.6242\n",
            "Epoch [6/10], Step [1430], Loss: 0.4407\n",
            "Epoch [6/10], Step [1440], Loss: 0.6130\n",
            "Epoch [6/10], Step [1450], Loss: 0.2943\n",
            "Epoch [6/10], Step [1460], Loss: 0.2841\n",
            "Epoch [6/10], Step [1470], Loss: 0.3625\n",
            "Epoch [6/10], Step [1480], Loss: 0.5984\n",
            "Epoch [6/10], Step [1490], Loss: 0.6115\n",
            "Epoch [6/10], Step [1500], Loss: 0.5386\n",
            "Epoch [6/10], Step [1510], Loss: 0.2161\n",
            "Epoch [6/10], Step [1520], Loss: 0.4325\n",
            "Epoch [6/10], Step [1530], Loss: 0.3538\n",
            "Epoch [6/10], Step [1540], Loss: 0.5832\n",
            "Epoch [6/10], Step [1550], Loss: 0.2020\n",
            "Epoch [6/10], Step [1560], Loss: 0.5922\n",
            "Epoch [6/10], Step [1570], Loss: 0.4653\n",
            "Epoch [6/10], Step [1580], Loss: 0.2655\n",
            "Epoch [6/10], Step [1590], Loss: 0.5558\n",
            "Epoch [6/10], Step [1600], Loss: 0.3227\n",
            "Epoch [6/10], Step [1610], Loss: 0.4177\n",
            "Epoch [6/10], Step [1620], Loss: 0.3109\n",
            "Epoch [6/10], Step [1630], Loss: 0.5294\n",
            "Epoch [6/10], Step [1640], Loss: 0.3946\n",
            "Epoch [6/10], Step [1650], Loss: 0.2899\n",
            "Epoch [6/10], Step [1660], Loss: 0.3582\n",
            "Epoch [6/10], Step [1670], Loss: 0.1825\n",
            "Epoch [6/10], Step [1680], Loss: 0.3050\n",
            "Epoch [6/10], Step [1690], Loss: 0.2949\n",
            "Epoch [6/10], Step [1700], Loss: 0.2416\n",
            "Epoch [6/10], Step [1710], Loss: 0.3334\n",
            "Epoch [6/10], Step [1720], Loss: 0.3998\n",
            "Epoch [6/10], Step [1730], Loss: 0.2776\n",
            "Epoch [7/10], Step [10], Loss: 0.6291\n",
            "Epoch [7/10], Step [20], Loss: 0.4040\n",
            "Epoch [7/10], Step [30], Loss: 0.2850\n",
            "Epoch [7/10], Step [40], Loss: 0.3369\n",
            "Epoch [7/10], Step [50], Loss: 0.2161\n",
            "Epoch [7/10], Step [60], Loss: 0.2329\n",
            "Epoch [7/10], Step [70], Loss: 0.3897\n",
            "Epoch [7/10], Step [80], Loss: 0.4876\n",
            "Epoch [7/10], Step [90], Loss: 0.3387\n",
            "Epoch [7/10], Step [100], Loss: 0.2306\n",
            "Epoch [7/10], Step [110], Loss: 0.3060\n",
            "Epoch [7/10], Step [120], Loss: 0.2768\n",
            "Epoch [7/10], Step [130], Loss: 0.2069\n",
            "Epoch [7/10], Step [140], Loss: 0.1636\n",
            "Epoch [7/10], Step [150], Loss: 0.4244\n",
            "Epoch [7/10], Step [160], Loss: 0.7935\n",
            "Epoch [7/10], Step [170], Loss: 0.3389\n",
            "Epoch [7/10], Step [180], Loss: 0.4195\n",
            "Epoch [7/10], Step [190], Loss: 0.5307\n",
            "Epoch [7/10], Step [200], Loss: 0.4591\n",
            "Epoch [7/10], Step [210], Loss: 0.5354\n",
            "Epoch [7/10], Step [220], Loss: 0.2018\n",
            "Epoch [7/10], Step [230], Loss: 0.4561\n",
            "Epoch [7/10], Step [240], Loss: 0.4384\n",
            "Epoch [7/10], Step [250], Loss: 0.5837\n",
            "Epoch [7/10], Step [260], Loss: 0.3785\n",
            "Epoch [7/10], Step [270], Loss: 0.2632\n",
            "Epoch [7/10], Step [280], Loss: 0.2765\n",
            "Epoch [7/10], Step [290], Loss: 0.2857\n",
            "Epoch [7/10], Step [300], Loss: 0.2084\n",
            "Epoch [7/10], Step [310], Loss: 0.3994\n",
            "Epoch [7/10], Step [320], Loss: 0.3688\n",
            "Epoch [7/10], Step [330], Loss: 0.5167\n",
            "Epoch [7/10], Step [340], Loss: 0.2340\n",
            "Epoch [7/10], Step [350], Loss: 0.3788\n",
            "Epoch [7/10], Step [360], Loss: 0.4837\n",
            "Epoch [7/10], Step [370], Loss: 0.3762\n",
            "Epoch [7/10], Step [380], Loss: 0.3892\n",
            "Epoch [7/10], Step [390], Loss: 0.2236\n",
            "Epoch [7/10], Step [400], Loss: 0.5902\n",
            "Epoch [7/10], Step [410], Loss: 0.2064\n",
            "Epoch [7/10], Step [420], Loss: 0.4120\n",
            "Epoch [7/10], Step [430], Loss: 0.4384\n",
            "Epoch [7/10], Step [440], Loss: 0.1055\n",
            "Epoch [7/10], Step [450], Loss: 0.4716\n",
            "Epoch [7/10], Step [460], Loss: 0.4462\n",
            "Epoch [7/10], Step [470], Loss: 0.3712\n",
            "Epoch [7/10], Step [480], Loss: 0.3844\n",
            "Epoch [7/10], Step [490], Loss: 0.3022\n",
            "Epoch [7/10], Step [500], Loss: 0.1845\n",
            "Epoch [7/10], Step [510], Loss: 0.4336\n",
            "Epoch [7/10], Step [520], Loss: 0.3756\n",
            "Epoch [7/10], Step [530], Loss: 0.7880\n",
            "Epoch [7/10], Step [540], Loss: 0.4874\n",
            "Epoch [7/10], Step [550], Loss: 0.3191\n",
            "Epoch [7/10], Step [560], Loss: 0.3825\n",
            "Epoch [7/10], Step [570], Loss: 0.3677\n",
            "Epoch [7/10], Step [580], Loss: 0.1994\n",
            "Epoch [7/10], Step [590], Loss: 0.4906\n",
            "Epoch [7/10], Step [600], Loss: 0.3650\n",
            "Epoch [7/10], Step [610], Loss: 0.2621\n",
            "Epoch [7/10], Step [620], Loss: 0.5307\n",
            "Epoch [7/10], Step [630], Loss: 0.5996\n",
            "Epoch [7/10], Step [640], Loss: 0.2254\n",
            "Epoch [7/10], Step [650], Loss: 0.2368\n",
            "Epoch [7/10], Step [660], Loss: 0.4107\n",
            "Epoch [7/10], Step [670], Loss: 0.4250\n",
            "Epoch [7/10], Step [680], Loss: 0.2122\n",
            "Epoch [7/10], Step [690], Loss: 0.4653\n",
            "Epoch [7/10], Step [700], Loss: 0.3652\n",
            "Epoch [7/10], Step [710], Loss: 0.2690\n",
            "Epoch [7/10], Step [720], Loss: 0.5839\n",
            "Epoch [7/10], Step [730], Loss: 0.2906\n",
            "Epoch [7/10], Step [740], Loss: 0.1615\n",
            "Epoch [7/10], Step [750], Loss: 0.3221\n",
            "Epoch [7/10], Step [760], Loss: 0.5063\n",
            "Epoch [7/10], Step [770], Loss: 0.4712\n",
            "Epoch [7/10], Step [780], Loss: 0.3271\n",
            "Epoch [7/10], Step [790], Loss: 0.2961\n",
            "Epoch [7/10], Step [800], Loss: 0.3897\n",
            "Epoch [7/10], Step [810], Loss: 0.3980\n",
            "Epoch [7/10], Step [820], Loss: 0.3105\n",
            "Epoch [7/10], Step [830], Loss: 0.3592\n",
            "Epoch [7/10], Step [840], Loss: 0.6315\n",
            "Epoch [7/10], Step [850], Loss: 0.3138\n",
            "Epoch [7/10], Step [860], Loss: 0.3130\n",
            "Epoch [7/10], Step [870], Loss: 0.2425\n",
            "Epoch [7/10], Step [880], Loss: 0.7006\n",
            "Epoch [7/10], Step [890], Loss: 0.2968\n",
            "Epoch [7/10], Step [900], Loss: 1.1362\n",
            "Epoch [7/10], Step [910], Loss: 0.1066\n",
            "Epoch [7/10], Step [920], Loss: 0.5150\n",
            "Epoch [7/10], Step [930], Loss: 0.1602\n",
            "Epoch [7/10], Step [940], Loss: 0.5809\n",
            "Epoch [7/10], Step [950], Loss: 0.5316\n",
            "Epoch [7/10], Step [960], Loss: 0.5706\n",
            "Epoch [7/10], Step [970], Loss: 0.5431\n",
            "Epoch [7/10], Step [980], Loss: 0.2418\n",
            "Epoch [7/10], Step [990], Loss: 0.3827\n",
            "Epoch [7/10], Step [1000], Loss: 0.1164\n",
            "Epoch [7/10], Step [1010], Loss: 0.5983\n",
            "Epoch [7/10], Step [1020], Loss: 0.3936\n",
            "Epoch [7/10], Step [1030], Loss: 0.3870\n",
            "Epoch [7/10], Step [1040], Loss: 0.3771\n",
            "Epoch [7/10], Step [1050], Loss: 0.2725\n",
            "Epoch [7/10], Step [1060], Loss: 0.2331\n",
            "Epoch [7/10], Step [1070], Loss: 0.2975\n",
            "Epoch [7/10], Step [1080], Loss: 0.4272\n",
            "Epoch [7/10], Step [1090], Loss: 0.2898\n",
            "Epoch [7/10], Step [1100], Loss: 0.4667\n",
            "Epoch [7/10], Step [1110], Loss: 0.2450\n",
            "Epoch [7/10], Step [1120], Loss: 0.2439\n",
            "Epoch [7/10], Step [1130], Loss: 0.1931\n",
            "Epoch [7/10], Step [1140], Loss: 0.2597\n",
            "Epoch [7/10], Step [1150], Loss: 0.3051\n",
            "Epoch [7/10], Step [1160], Loss: 0.3077\n",
            "Epoch [7/10], Step [1170], Loss: 0.5084\n",
            "Epoch [7/10], Step [1180], Loss: 0.3386\n",
            "Epoch [7/10], Step [1190], Loss: 0.1943\n",
            "Epoch [7/10], Step [1200], Loss: 0.4395\n",
            "Epoch [7/10], Step [1210], Loss: 0.2368\n",
            "Epoch [7/10], Step [1220], Loss: 0.2281\n",
            "Epoch [7/10], Step [1230], Loss: 0.4412\n",
            "Epoch [7/10], Step [1240], Loss: 0.2978\n",
            "Epoch [7/10], Step [1250], Loss: 0.3670\n",
            "Epoch [7/10], Step [1260], Loss: 0.3515\n",
            "Epoch [7/10], Step [1270], Loss: 0.3980\n",
            "Epoch [7/10], Step [1280], Loss: 0.4163\n",
            "Epoch [7/10], Step [1290], Loss: 0.3362\n",
            "Epoch [7/10], Step [1300], Loss: 0.5755\n",
            "Epoch [7/10], Step [1310], Loss: 0.2704\n",
            "Epoch [7/10], Step [1320], Loss: 0.2953\n",
            "Epoch [7/10], Step [1330], Loss: 0.2929\n",
            "Epoch [7/10], Step [1340], Loss: 0.3986\n",
            "Epoch [7/10], Step [1350], Loss: 0.4890\n",
            "Epoch [7/10], Step [1360], Loss: 0.6345\n",
            "Epoch [7/10], Step [1370], Loss: 0.7183\n",
            "Epoch [7/10], Step [1380], Loss: 0.2927\n",
            "Epoch [7/10], Step [1390], Loss: 0.2951\n",
            "Epoch [7/10], Step [1400], Loss: 0.3610\n",
            "Epoch [7/10], Step [1410], Loss: 0.2697\n",
            "Epoch [7/10], Step [1420], Loss: 0.5471\n",
            "Epoch [7/10], Step [1430], Loss: 0.5266\n",
            "Epoch [7/10], Step [1440], Loss: 0.2047\n",
            "Epoch [7/10], Step [1450], Loss: 0.3353\n",
            "Epoch [7/10], Step [1460], Loss: 0.4586\n",
            "Epoch [7/10], Step [1470], Loss: 0.2491\n",
            "Epoch [7/10], Step [1480], Loss: 0.2023\n",
            "Epoch [7/10], Step [1490], Loss: 0.5727\n",
            "Epoch [7/10], Step [1500], Loss: 0.3766\n",
            "Epoch [7/10], Step [1510], Loss: 0.1614\n",
            "Epoch [7/10], Step [1520], Loss: 0.4011\n",
            "Epoch [7/10], Step [1530], Loss: 0.4054\n",
            "Epoch [7/10], Step [1540], Loss: 0.4270\n",
            "Epoch [7/10], Step [1550], Loss: 0.2108\n",
            "Epoch [7/10], Step [1560], Loss: 0.5391\n",
            "Epoch [7/10], Step [1570], Loss: 0.3213\n",
            "Epoch [7/10], Step [1580], Loss: 0.2739\n",
            "Epoch [7/10], Step [1590], Loss: 0.3748\n",
            "Epoch [7/10], Step [1600], Loss: 0.2202\n",
            "Epoch [7/10], Step [1610], Loss: 0.3784\n",
            "Epoch [7/10], Step [1620], Loss: 0.2850\n",
            "Epoch [7/10], Step [1630], Loss: 0.5672\n",
            "Epoch [7/10], Step [1640], Loss: 0.5724\n",
            "Epoch [7/10], Step [1650], Loss: 0.4308\n",
            "Epoch [7/10], Step [1660], Loss: 0.4927\n",
            "Epoch [7/10], Step [1670], Loss: 0.7809\n",
            "Epoch [7/10], Step [1680], Loss: 0.3244\n",
            "Epoch [7/10], Step [1690], Loss: 0.1249\n",
            "Epoch [7/10], Step [1700], Loss: 0.4729\n",
            "Epoch [7/10], Step [1710], Loss: 0.3302\n",
            "Epoch [7/10], Step [1720], Loss: 0.4741\n",
            "Epoch [7/10], Step [1730], Loss: 0.1773\n",
            "Epoch [8/10], Step [10], Loss: 0.1998\n",
            "Epoch [8/10], Step [20], Loss: 0.3566\n",
            "Epoch [8/10], Step [30], Loss: 0.2843\n",
            "Epoch [8/10], Step [40], Loss: 0.4691\n",
            "Epoch [8/10], Step [50], Loss: 0.3241\n",
            "Epoch [8/10], Step [60], Loss: 0.2967\n",
            "Epoch [8/10], Step [70], Loss: 0.4004\n",
            "Epoch [8/10], Step [80], Loss: 0.4601\n",
            "Epoch [8/10], Step [90], Loss: 0.1596\n",
            "Epoch [8/10], Step [100], Loss: 0.2731\n",
            "Epoch [8/10], Step [110], Loss: 0.3918\n",
            "Epoch [8/10], Step [120], Loss: 0.2079\n",
            "Epoch [8/10], Step [130], Loss: 0.5156\n",
            "Epoch [8/10], Step [140], Loss: 0.2405\n",
            "Epoch [8/10], Step [150], Loss: 0.2543\n",
            "Epoch [8/10], Step [160], Loss: 0.4127\n",
            "Epoch [8/10], Step [170], Loss: 0.3541\n",
            "Epoch [8/10], Step [180], Loss: 0.5096\n",
            "Epoch [8/10], Step [190], Loss: 0.4172\n",
            "Epoch [8/10], Step [200], Loss: 0.1193\n",
            "Epoch [8/10], Step [210], Loss: 0.5009\n",
            "Epoch [8/10], Step [220], Loss: 0.2068\n",
            "Epoch [8/10], Step [230], Loss: 0.2111\n",
            "Epoch [8/10], Step [240], Loss: 0.2206\n",
            "Epoch [8/10], Step [250], Loss: 0.5986\n",
            "Epoch [8/10], Step [260], Loss: 0.2281\n",
            "Epoch [8/10], Step [270], Loss: 0.5921\n",
            "Epoch [8/10], Step [280], Loss: 0.2818\n",
            "Epoch [8/10], Step [290], Loss: 0.2647\n",
            "Epoch [8/10], Step [300], Loss: 0.2671\n",
            "Epoch [8/10], Step [310], Loss: 0.4855\n",
            "Epoch [8/10], Step [320], Loss: 0.2330\n",
            "Epoch [8/10], Step [330], Loss: 0.2268\n",
            "Epoch [8/10], Step [340], Loss: 0.3719\n",
            "Epoch [8/10], Step [350], Loss: 0.2550\n",
            "Epoch [8/10], Step [360], Loss: 0.7058\n",
            "Epoch [8/10], Step [370], Loss: 0.2028\n",
            "Epoch [8/10], Step [380], Loss: 0.3598\n",
            "Epoch [8/10], Step [390], Loss: 0.5984\n",
            "Epoch [8/10], Step [400], Loss: 0.2501\n",
            "Epoch [8/10], Step [410], Loss: 0.2207\n",
            "Epoch [8/10], Step [420], Loss: 0.3361\n",
            "Epoch [8/10], Step [430], Loss: 0.4107\n",
            "Epoch [8/10], Step [440], Loss: 0.2218\n",
            "Epoch [8/10], Step [450], Loss: 0.1514\n",
            "Epoch [8/10], Step [460], Loss: 0.5055\n",
            "Epoch [8/10], Step [470], Loss: 0.3864\n",
            "Epoch [8/10], Step [480], Loss: 0.3580\n",
            "Epoch [8/10], Step [490], Loss: 0.3053\n",
            "Epoch [8/10], Step [500], Loss: 0.2929\n",
            "Epoch [8/10], Step [510], Loss: 0.3631\n",
            "Epoch [8/10], Step [520], Loss: 0.2959\n",
            "Epoch [8/10], Step [530], Loss: 0.2088\n",
            "Epoch [8/10], Step [540], Loss: 0.2637\n",
            "Epoch [8/10], Step [550], Loss: 0.6039\n",
            "Epoch [8/10], Step [560], Loss: 0.2636\n",
            "Epoch [8/10], Step [570], Loss: 0.5640\n",
            "Epoch [8/10], Step [580], Loss: 0.3293\n",
            "Epoch [8/10], Step [590], Loss: 0.2384\n",
            "Epoch [8/10], Step [600], Loss: 0.4002\n",
            "Epoch [8/10], Step [610], Loss: 0.2066\n",
            "Epoch [8/10], Step [620], Loss: 0.6877\n",
            "Epoch [8/10], Step [630], Loss: 0.3680\n",
            "Epoch [8/10], Step [640], Loss: 0.2162\n",
            "Epoch [8/10], Step [650], Loss: 0.1388\n",
            "Epoch [8/10], Step [660], Loss: 0.2359\n",
            "Epoch [8/10], Step [670], Loss: 0.2498\n",
            "Epoch [8/10], Step [680], Loss: 0.4571\n",
            "Epoch [8/10], Step [690], Loss: 0.2663\n",
            "Epoch [8/10], Step [700], Loss: 0.2516\n",
            "Epoch [8/10], Step [710], Loss: 0.1925\n",
            "Epoch [8/10], Step [720], Loss: 0.0782\n",
            "Epoch [8/10], Step [730], Loss: 0.4108\n",
            "Epoch [8/10], Step [740], Loss: 0.4457\n",
            "Epoch [8/10], Step [750], Loss: 0.2311\n",
            "Epoch [8/10], Step [760], Loss: 0.4071\n",
            "Epoch [8/10], Step [770], Loss: 0.4044\n",
            "Epoch [8/10], Step [780], Loss: 0.3766\n",
            "Epoch [8/10], Step [790], Loss: 0.3667\n",
            "Epoch [8/10], Step [800], Loss: 0.3199\n",
            "Epoch [8/10], Step [810], Loss: 0.3297\n",
            "Epoch [8/10], Step [820], Loss: 0.2608\n",
            "Epoch [8/10], Step [830], Loss: 0.3452\n",
            "Epoch [8/10], Step [840], Loss: 0.3004\n",
            "Epoch [8/10], Step [850], Loss: 0.3499\n",
            "Epoch [8/10], Step [860], Loss: 0.2411\n",
            "Epoch [8/10], Step [870], Loss: 0.2625\n",
            "Epoch [8/10], Step [880], Loss: 0.1542\n",
            "Epoch [8/10], Step [890], Loss: 0.2904\n",
            "Epoch [8/10], Step [900], Loss: 0.2037\n",
            "Epoch [8/10], Step [910], Loss: 0.3892\n",
            "Epoch [8/10], Step [920], Loss: 0.4360\n",
            "Epoch [8/10], Step [930], Loss: 0.4414\n",
            "Epoch [8/10], Step [940], Loss: 0.1575\n",
            "Epoch [8/10], Step [950], Loss: 0.1731\n",
            "Epoch [8/10], Step [960], Loss: 0.1866\n",
            "Epoch [8/10], Step [970], Loss: 0.2439\n",
            "Epoch [8/10], Step [980], Loss: 0.3961\n",
            "Epoch [8/10], Step [990], Loss: 0.1910\n",
            "Epoch [8/10], Step [1000], Loss: 0.3620\n",
            "Epoch [8/10], Step [1010], Loss: 0.2861\n",
            "Epoch [8/10], Step [1020], Loss: 0.4372\n",
            "Epoch [8/10], Step [1030], Loss: 0.1952\n",
            "Epoch [8/10], Step [1040], Loss: 0.1657\n",
            "Epoch [8/10], Step [1050], Loss: 0.2742\n",
            "Epoch [8/10], Step [1060], Loss: 0.3374\n",
            "Epoch [8/10], Step [1070], Loss: 0.2345\n",
            "Epoch [8/10], Step [1080], Loss: 0.2659\n",
            "Epoch [8/10], Step [1090], Loss: 0.8037\n",
            "Epoch [8/10], Step [1100], Loss: 0.2464\n",
            "Epoch [8/10], Step [1110], Loss: 0.3941\n",
            "Epoch [8/10], Step [1120], Loss: 0.3447\n",
            "Epoch [8/10], Step [1130], Loss: 0.3126\n",
            "Epoch [8/10], Step [1140], Loss: 0.3270\n",
            "Epoch [8/10], Step [1150], Loss: 0.4507\n",
            "Epoch [8/10], Step [1160], Loss: 0.4198\n",
            "Epoch [8/10], Step [1170], Loss: 0.4257\n",
            "Epoch [8/10], Step [1180], Loss: 0.1824\n",
            "Epoch [8/10], Step [1190], Loss: 0.4099\n",
            "Epoch [8/10], Step [1200], Loss: 0.4029\n",
            "Epoch [8/10], Step [1210], Loss: 0.2098\n",
            "Epoch [8/10], Step [1220], Loss: 0.3145\n",
            "Epoch [8/10], Step [1230], Loss: 0.1054\n",
            "Epoch [8/10], Step [1240], Loss: 0.2371\n",
            "Epoch [8/10], Step [1250], Loss: 0.2013\n",
            "Epoch [8/10], Step [1260], Loss: 0.4394\n",
            "Epoch [8/10], Step [1270], Loss: 0.3979\n",
            "Epoch [8/10], Step [1280], Loss: 0.3045\n",
            "Epoch [8/10], Step [1290], Loss: 0.2145\n",
            "Epoch [8/10], Step [1300], Loss: 0.4444\n",
            "Epoch [8/10], Step [1310], Loss: 0.6022\n",
            "Epoch [8/10], Step [1320], Loss: 0.7309\n",
            "Epoch [8/10], Step [1330], Loss: 0.4323\n",
            "Epoch [8/10], Step [1340], Loss: 0.2515\n",
            "Epoch [8/10], Step [1350], Loss: 0.3232\n",
            "Epoch [8/10], Step [1360], Loss: 0.4318\n",
            "Epoch [8/10], Step [1370], Loss: 0.4848\n",
            "Epoch [8/10], Step [1380], Loss: 0.4582\n",
            "Epoch [8/10], Step [1390], Loss: 0.2133\n",
            "Epoch [8/10], Step [1400], Loss: 0.2008\n",
            "Epoch [8/10], Step [1410], Loss: 0.3851\n",
            "Epoch [8/10], Step [1420], Loss: 0.6315\n",
            "Epoch [8/10], Step [1430], Loss: 0.1529\n",
            "Epoch [8/10], Step [1440], Loss: 0.3778\n",
            "Epoch [8/10], Step [1450], Loss: 0.2440\n",
            "Epoch [8/10], Step [1460], Loss: 0.2897\n",
            "Epoch [8/10], Step [1470], Loss: 0.2079\n",
            "Epoch [8/10], Step [1480], Loss: 0.2261\n",
            "Epoch [8/10], Step [1490], Loss: 0.2797\n",
            "Epoch [8/10], Step [1500], Loss: 0.2868\n",
            "Epoch [8/10], Step [1510], Loss: 0.4227\n",
            "Epoch [8/10], Step [1520], Loss: 0.3723\n",
            "Epoch [8/10], Step [1530], Loss: 0.2207\n",
            "Epoch [8/10], Step [1540], Loss: 0.4762\n",
            "Epoch [8/10], Step [1550], Loss: 0.3300\n",
            "Epoch [8/10], Step [1560], Loss: 0.2136\n",
            "Epoch [8/10], Step [1570], Loss: 0.1651\n",
            "Epoch [8/10], Step [1580], Loss: 0.8094\n",
            "Epoch [8/10], Step [1590], Loss: 0.4508\n",
            "Epoch [8/10], Step [1600], Loss: 0.3079\n",
            "Epoch [8/10], Step [1610], Loss: 0.3987\n",
            "Epoch [8/10], Step [1620], Loss: 0.4118\n",
            "Epoch [8/10], Step [1630], Loss: 0.2795\n",
            "Epoch [8/10], Step [1640], Loss: 0.5364\n",
            "Epoch [8/10], Step [1650], Loss: 0.3495\n",
            "Epoch [8/10], Step [1660], Loss: 0.6767\n",
            "Epoch [8/10], Step [1670], Loss: 0.2382\n",
            "Epoch [8/10], Step [1680], Loss: 0.4219\n",
            "Epoch [8/10], Step [1690], Loss: 0.1987\n",
            "Epoch [8/10], Step [1700], Loss: 0.3259\n",
            "Epoch [8/10], Step [1710], Loss: 0.3550\n",
            "Epoch [8/10], Step [1720], Loss: 0.2756\n",
            "Epoch [8/10], Step [1730], Loss: 0.1790\n",
            "Epoch [9/10], Step [10], Loss: 0.2134\n",
            "Epoch [9/10], Step [20], Loss: 0.5131\n",
            "Epoch [9/10], Step [30], Loss: 0.3034\n",
            "Epoch [9/10], Step [40], Loss: 0.1918\n",
            "Epoch [9/10], Step [50], Loss: 0.2491\n",
            "Epoch [9/10], Step [60], Loss: 0.1554\n",
            "Epoch [9/10], Step [70], Loss: 0.5066\n",
            "Epoch [9/10], Step [80], Loss: 0.1654\n",
            "Epoch [9/10], Step [90], Loss: 0.1681\n",
            "Epoch [9/10], Step [100], Loss: 0.1863\n",
            "Epoch [9/10], Step [110], Loss: 0.1901\n",
            "Epoch [9/10], Step [120], Loss: 0.2280\n",
            "Epoch [9/10], Step [130], Loss: 0.1147\n",
            "Epoch [9/10], Step [140], Loss: 0.3566\n",
            "Epoch [9/10], Step [150], Loss: 0.0583\n",
            "Epoch [9/10], Step [160], Loss: 0.3931\n",
            "Epoch [9/10], Step [170], Loss: 0.4704\n",
            "Epoch [9/10], Step [180], Loss: 0.3003\n",
            "Epoch [9/10], Step [190], Loss: 0.2118\n",
            "Epoch [9/10], Step [200], Loss: 0.1565\n",
            "Epoch [9/10], Step [210], Loss: 0.3005\n",
            "Epoch [9/10], Step [220], Loss: 0.1019\n",
            "Epoch [9/10], Step [230], Loss: 0.2156\n",
            "Epoch [9/10], Step [240], Loss: 0.4778\n",
            "Epoch [9/10], Step [250], Loss: 0.4224\n",
            "Epoch [9/10], Step [260], Loss: 0.2484\n",
            "Epoch [9/10], Step [270], Loss: 0.2455\n",
            "Epoch [9/10], Step [280], Loss: 0.2948\n",
            "Epoch [9/10], Step [290], Loss: 0.1870\n",
            "Epoch [9/10], Step [300], Loss: 0.2724\n",
            "Epoch [9/10], Step [310], Loss: 0.4608\n",
            "Epoch [9/10], Step [320], Loss: 0.2232\n",
            "Epoch [9/10], Step [330], Loss: 0.1428\n",
            "Epoch [9/10], Step [340], Loss: 0.2313\n",
            "Epoch [9/10], Step [350], Loss: 0.2609\n",
            "Epoch [9/10], Step [360], Loss: 0.2099\n",
            "Epoch [9/10], Step [370], Loss: 0.3401\n",
            "Epoch [9/10], Step [380], Loss: 0.4664\n",
            "Epoch [9/10], Step [390], Loss: 0.2559\n",
            "Epoch [9/10], Step [400], Loss: 0.2333\n",
            "Epoch [9/10], Step [410], Loss: 0.1393\n",
            "Epoch [9/10], Step [420], Loss: 0.2265\n",
            "Epoch [9/10], Step [430], Loss: 0.1117\n",
            "Epoch [9/10], Step [440], Loss: 0.2933\n",
            "Epoch [9/10], Step [450], Loss: 0.3933\n",
            "Epoch [9/10], Step [460], Loss: 0.2368\n",
            "Epoch [9/10], Step [470], Loss: 0.2985\n",
            "Epoch [9/10], Step [480], Loss: 0.2825\n",
            "Epoch [9/10], Step [490], Loss: 0.2156\n",
            "Epoch [9/10], Step [500], Loss: 0.4301\n",
            "Epoch [9/10], Step [510], Loss: 0.3229\n",
            "Epoch [9/10], Step [520], Loss: 0.2749\n",
            "Epoch [9/10], Step [530], Loss: 0.2494\n",
            "Epoch [9/10], Step [540], Loss: 0.1716\n",
            "Epoch [9/10], Step [550], Loss: 0.4277\n",
            "Epoch [9/10], Step [560], Loss: 0.3606\n",
            "Epoch [9/10], Step [570], Loss: 0.2994\n",
            "Epoch [9/10], Step [580], Loss: 0.3766\n",
            "Epoch [9/10], Step [590], Loss: 0.1678\n",
            "Epoch [9/10], Step [600], Loss: 0.3011\n",
            "Epoch [9/10], Step [610], Loss: 0.2679\n",
            "Epoch [9/10], Step [620], Loss: 0.4024\n",
            "Epoch [9/10], Step [630], Loss: 0.2741\n",
            "Epoch [9/10], Step [640], Loss: 0.5983\n",
            "Epoch [9/10], Step [650], Loss: 0.2565\n",
            "Epoch [9/10], Step [660], Loss: 0.2720\n",
            "Epoch [9/10], Step [670], Loss: 0.3794\n",
            "Epoch [9/10], Step [680], Loss: 0.3753\n",
            "Epoch [9/10], Step [690], Loss: 0.3608\n",
            "Epoch [9/10], Step [700], Loss: 0.4473\n",
            "Epoch [9/10], Step [710], Loss: 0.4838\n",
            "Epoch [9/10], Step [720], Loss: 0.4284\n",
            "Epoch [9/10], Step [730], Loss: 0.2220\n",
            "Epoch [9/10], Step [740], Loss: 0.3486\n",
            "Epoch [9/10], Step [750], Loss: 0.2378\n",
            "Epoch [9/10], Step [760], Loss: 0.3520\n",
            "Epoch [9/10], Step [770], Loss: 0.2349\n",
            "Epoch [9/10], Step [780], Loss: 0.7396\n",
            "Epoch [9/10], Step [790], Loss: 0.2101\n",
            "Epoch [9/10], Step [800], Loss: 0.1557\n",
            "Epoch [9/10], Step [810], Loss: 0.4004\n",
            "Epoch [9/10], Step [820], Loss: 0.4286\n",
            "Epoch [9/10], Step [830], Loss: 0.3733\n",
            "Epoch [9/10], Step [840], Loss: 0.2308\n",
            "Epoch [9/10], Step [850], Loss: 0.2676\n",
            "Epoch [9/10], Step [860], Loss: 0.3723\n",
            "Epoch [9/10], Step [870], Loss: 0.4283\n",
            "Epoch [9/10], Step [880], Loss: 0.4391\n",
            "Epoch [9/10], Step [890], Loss: 0.1154\n",
            "Epoch [9/10], Step [900], Loss: 0.3302\n",
            "Epoch [9/10], Step [910], Loss: 0.2938\n",
            "Epoch [9/10], Step [920], Loss: 0.5185\n",
            "Epoch [9/10], Step [930], Loss: 0.3016\n",
            "Epoch [9/10], Step [940], Loss: 0.4611\n",
            "Epoch [9/10], Step [950], Loss: 0.2926\n",
            "Epoch [9/10], Step [960], Loss: 0.4246\n",
            "Epoch [9/10], Step [970], Loss: 0.5309\n",
            "Epoch [9/10], Step [980], Loss: 0.3130\n",
            "Epoch [9/10], Step [990], Loss: 0.2840\n",
            "Epoch [9/10], Step [1000], Loss: 0.5175\n",
            "Epoch [9/10], Step [1010], Loss: 0.2734\n",
            "Epoch [9/10], Step [1020], Loss: 0.2766\n",
            "Epoch [9/10], Step [1030], Loss: 0.2447\n",
            "Epoch [9/10], Step [1040], Loss: 0.2693\n",
            "Epoch [9/10], Step [1050], Loss: 0.1895\n",
            "Epoch [9/10], Step [1060], Loss: 0.3584\n",
            "Epoch [9/10], Step [1070], Loss: 0.2906\n",
            "Epoch [9/10], Step [1080], Loss: 0.1982\n",
            "Epoch [9/10], Step [1090], Loss: 0.4630\n",
            "Epoch [9/10], Step [1100], Loss: 0.1265\n",
            "Epoch [9/10], Step [1110], Loss: 0.5213\n",
            "Epoch [9/10], Step [1120], Loss: 0.1865\n",
            "Epoch [9/10], Step [1130], Loss: 0.2419\n",
            "Epoch [9/10], Step [1140], Loss: 0.3041\n",
            "Epoch [9/10], Step [1150], Loss: 0.3054\n",
            "Epoch [9/10], Step [1160], Loss: 0.4624\n",
            "Epoch [9/10], Step [1170], Loss: 0.4030\n",
            "Epoch [9/10], Step [1180], Loss: 0.4425\n",
            "Epoch [9/10], Step [1190], Loss: 0.6102\n",
            "Epoch [9/10], Step [1200], Loss: 0.3450\n",
            "Epoch [9/10], Step [1210], Loss: 0.3779\n",
            "Epoch [9/10], Step [1220], Loss: 0.1724\n",
            "Epoch [9/10], Step [1230], Loss: 0.5953\n",
            "Epoch [9/10], Step [1240], Loss: 0.3171\n",
            "Epoch [9/10], Step [1250], Loss: 0.2548\n",
            "Epoch [9/10], Step [1260], Loss: 0.2588\n",
            "Epoch [9/10], Step [1270], Loss: 0.4159\n",
            "Epoch [9/10], Step [1280], Loss: 0.1507\n",
            "Epoch [9/10], Step [1290], Loss: 0.3044\n",
            "Epoch [9/10], Step [1300], Loss: 0.3666\n",
            "Epoch [9/10], Step [1310], Loss: 0.3383\n",
            "Epoch [9/10], Step [1320], Loss: 0.5540\n",
            "Epoch [9/10], Step [1330], Loss: 0.3121\n",
            "Epoch [9/10], Step [1340], Loss: 0.3229\n",
            "Epoch [9/10], Step [1350], Loss: 0.3055\n",
            "Epoch [9/10], Step [1360], Loss: 0.2732\n",
            "Epoch [9/10], Step [1370], Loss: 0.2001\n",
            "Epoch [9/10], Step [1380], Loss: 0.3060\n",
            "Epoch [9/10], Step [1390], Loss: 0.3933\n",
            "Epoch [9/10], Step [1400], Loss: 0.1570\n",
            "Epoch [9/10], Step [1410], Loss: 0.3242\n",
            "Epoch [9/10], Step [1420], Loss: 0.2880\n",
            "Epoch [9/10], Step [1430], Loss: 0.2562\n",
            "Epoch [9/10], Step [1440], Loss: 0.3366\n",
            "Epoch [9/10], Step [1450], Loss: 0.3550\n",
            "Epoch [9/10], Step [1460], Loss: 0.1571\n",
            "Epoch [9/10], Step [1470], Loss: 0.6323\n",
            "Epoch [9/10], Step [1480], Loss: 0.2058\n",
            "Epoch [9/10], Step [1490], Loss: 0.3612\n",
            "Epoch [9/10], Step [1500], Loss: 0.2396\n",
            "Epoch [9/10], Step [1510], Loss: 0.2644\n",
            "Epoch [9/10], Step [1520], Loss: 0.6441\n",
            "Epoch [9/10], Step [1530], Loss: 0.4760\n",
            "Epoch [9/10], Step [1540], Loss: 0.3392\n",
            "Epoch [9/10], Step [1550], Loss: 0.4627\n",
            "Epoch [9/10], Step [1560], Loss: 0.5069\n",
            "Epoch [9/10], Step [1570], Loss: 0.5143\n",
            "Epoch [9/10], Step [1580], Loss: 0.2608\n",
            "Epoch [9/10], Step [1590], Loss: 0.1547\n",
            "Epoch [9/10], Step [1600], Loss: 0.3113\n",
            "Epoch [9/10], Step [1610], Loss: 0.2125\n",
            "Epoch [9/10], Step [1620], Loss: 0.1471\n",
            "Epoch [9/10], Step [1630], Loss: 0.4126\n",
            "Epoch [9/10], Step [1640], Loss: 0.4884\n",
            "Epoch [9/10], Step [1650], Loss: 0.5605\n",
            "Epoch [9/10], Step [1660], Loss: 0.3194\n",
            "Epoch [9/10], Step [1670], Loss: 0.2338\n",
            "Epoch [9/10], Step [1680], Loss: 0.1898\n",
            "Epoch [9/10], Step [1690], Loss: 0.2947\n",
            "Epoch [9/10], Step [1700], Loss: 0.2617\n",
            "Epoch [9/10], Step [1710], Loss: 0.3125\n",
            "Epoch [9/10], Step [1720], Loss: 0.2960\n",
            "Epoch [9/10], Step [1730], Loss: 0.2872\n",
            "Epoch [10/10], Step [10], Loss: 0.2948\n",
            "Epoch [10/10], Step [20], Loss: 0.2803\n",
            "Epoch [10/10], Step [30], Loss: 0.2317\n",
            "Epoch [10/10], Step [40], Loss: 0.2334\n",
            "Epoch [10/10], Step [50], Loss: 0.2557\n",
            "Epoch [10/10], Step [60], Loss: 0.1167\n",
            "Epoch [10/10], Step [70], Loss: 0.1088\n",
            "Epoch [10/10], Step [80], Loss: 0.1482\n",
            "Epoch [10/10], Step [90], Loss: 0.2310\n",
            "Epoch [10/10], Step [100], Loss: 0.2750\n",
            "Epoch [10/10], Step [110], Loss: 0.4135\n",
            "Epoch [10/10], Step [120], Loss: 0.2419\n",
            "Epoch [10/10], Step [130], Loss: 0.3021\n",
            "Epoch [10/10], Step [140], Loss: 0.1468\n",
            "Epoch [10/10], Step [150], Loss: 0.2609\n",
            "Epoch [10/10], Step [160], Loss: 0.4529\n",
            "Epoch [10/10], Step [170], Loss: 0.1596\n",
            "Epoch [10/10], Step [180], Loss: 0.2214\n",
            "Epoch [10/10], Step [190], Loss: 0.2425\n",
            "Epoch [10/10], Step [200], Loss: 0.1648\n",
            "Epoch [10/10], Step [210], Loss: 0.2510\n",
            "Epoch [10/10], Step [220], Loss: 0.1206\n",
            "Epoch [10/10], Step [230], Loss: 0.4245\n",
            "Epoch [10/10], Step [240], Loss: 0.2423\n",
            "Epoch [10/10], Step [250], Loss: 0.2878\n",
            "Epoch [10/10], Step [260], Loss: 0.2640\n",
            "Epoch [10/10], Step [270], Loss: 0.3443\n",
            "Epoch [10/10], Step [280], Loss: 0.3824\n",
            "Epoch [10/10], Step [290], Loss: 0.2062\n",
            "Epoch [10/10], Step [300], Loss: 0.1305\n",
            "Epoch [10/10], Step [310], Loss: 0.2853\n",
            "Epoch [10/10], Step [320], Loss: 0.4658\n",
            "Epoch [10/10], Step [330], Loss: 0.3365\n",
            "Epoch [10/10], Step [340], Loss: 0.3724\n",
            "Epoch [10/10], Step [350], Loss: 0.4236\n",
            "Epoch [10/10], Step [360], Loss: 0.2549\n",
            "Epoch [10/10], Step [370], Loss: 0.3794\n",
            "Epoch [10/10], Step [380], Loss: 0.1217\n",
            "Epoch [10/10], Step [390], Loss: 0.2118\n",
            "Epoch [10/10], Step [400], Loss: 0.4317\n",
            "Epoch [10/10], Step [410], Loss: 0.2580\n",
            "Epoch [10/10], Step [420], Loss: 0.1666\n",
            "Epoch [10/10], Step [430], Loss: 0.2639\n",
            "Epoch [10/10], Step [440], Loss: 0.4624\n",
            "Epoch [10/10], Step [450], Loss: 0.3129\n",
            "Epoch [10/10], Step [460], Loss: 0.2600\n",
            "Epoch [10/10], Step [470], Loss: 0.4032\n",
            "Epoch [10/10], Step [480], Loss: 0.1025\n",
            "Epoch [10/10], Step [490], Loss: 0.1601\n",
            "Epoch [10/10], Step [500], Loss: 0.2439\n",
            "Epoch [10/10], Step [510], Loss: 0.2565\n",
            "Epoch [10/10], Step [520], Loss: 0.1250\n",
            "Epoch [10/10], Step [530], Loss: 0.4150\n",
            "Epoch [10/10], Step [540], Loss: 0.2880\n",
            "Epoch [10/10], Step [550], Loss: 0.2247\n",
            "Epoch [10/10], Step [560], Loss: 0.1916\n",
            "Epoch [10/10], Step [570], Loss: 0.2287\n",
            "Epoch [10/10], Step [580], Loss: 0.2513\n",
            "Epoch [10/10], Step [590], Loss: 0.3836\n",
            "Epoch [10/10], Step [600], Loss: 0.2936\n",
            "Epoch [10/10], Step [610], Loss: 0.3839\n",
            "Epoch [10/10], Step [620], Loss: 0.3079\n",
            "Epoch [10/10], Step [630], Loss: 0.0943\n",
            "Epoch [10/10], Step [640], Loss: 0.3266\n",
            "Epoch [10/10], Step [650], Loss: 0.1442\n",
            "Epoch [10/10], Step [660], Loss: 0.0905\n",
            "Epoch [10/10], Step [670], Loss: 0.2186\n",
            "Epoch [10/10], Step [680], Loss: 0.3961\n",
            "Epoch [10/10], Step [690], Loss: 0.6236\n",
            "Epoch [10/10], Step [700], Loss: 0.4709\n",
            "Epoch [10/10], Step [710], Loss: 0.2373\n",
            "Epoch [10/10], Step [720], Loss: 0.1465\n",
            "Epoch [10/10], Step [730], Loss: 0.2850\n",
            "Epoch [10/10], Step [740], Loss: 0.2793\n",
            "Epoch [10/10], Step [750], Loss: 0.3632\n",
            "Epoch [10/10], Step [760], Loss: 0.2691\n",
            "Epoch [10/10], Step [770], Loss: 0.2389\n",
            "Epoch [10/10], Step [780], Loss: 0.4209\n",
            "Epoch [10/10], Step [790], Loss: 0.1772\n",
            "Epoch [10/10], Step [800], Loss: 0.1600\n",
            "Epoch [10/10], Step [810], Loss: 0.3397\n",
            "Epoch [10/10], Step [820], Loss: 0.2032\n",
            "Epoch [10/10], Step [830], Loss: 0.2693\n",
            "Epoch [10/10], Step [840], Loss: 0.3805\n",
            "Epoch [10/10], Step [850], Loss: 0.1523\n",
            "Epoch [10/10], Step [860], Loss: 0.1460\n",
            "Epoch [10/10], Step [870], Loss: 0.2304\n",
            "Epoch [10/10], Step [880], Loss: 0.2847\n",
            "Epoch [10/10], Step [890], Loss: 0.2232\n",
            "Epoch [10/10], Step [900], Loss: 0.2685\n",
            "Epoch [10/10], Step [910], Loss: 0.2264\n",
            "Epoch [10/10], Step [920], Loss: 0.3719\n",
            "Epoch [10/10], Step [930], Loss: 0.7088\n",
            "Epoch [10/10], Step [940], Loss: 0.1615\n",
            "Epoch [10/10], Step [950], Loss: 0.1901\n",
            "Epoch [10/10], Step [960], Loss: 0.4034\n",
            "Epoch [10/10], Step [970], Loss: 0.4827\n",
            "Epoch [10/10], Step [980], Loss: 0.3041\n",
            "Epoch [10/10], Step [990], Loss: 0.1400\n",
            "Epoch [10/10], Step [1000], Loss: 0.2068\n",
            "Epoch [10/10], Step [1010], Loss: 0.3782\n",
            "Epoch [10/10], Step [1020], Loss: 0.4178\n",
            "Epoch [10/10], Step [1030], Loss: 0.1077\n",
            "Epoch [10/10], Step [1040], Loss: 0.5970\n",
            "Epoch [10/10], Step [1050], Loss: 0.6622\n",
            "Epoch [10/10], Step [1060], Loss: 0.2062\n",
            "Epoch [10/10], Step [1070], Loss: 0.2146\n",
            "Epoch [10/10], Step [1080], Loss: 0.2559\n",
            "Epoch [10/10], Step [1090], Loss: 0.2771\n",
            "Epoch [10/10], Step [1100], Loss: 0.3785\n",
            "Epoch [10/10], Step [1110], Loss: 0.1531\n",
            "Epoch [10/10], Step [1120], Loss: 0.5285\n",
            "Epoch [10/10], Step [1130], Loss: 0.1557\n",
            "Epoch [10/10], Step [1140], Loss: 0.2969\n",
            "Epoch [10/10], Step [1150], Loss: 0.2353\n",
            "Epoch [10/10], Step [1160], Loss: 0.2517\n",
            "Epoch [10/10], Step [1170], Loss: 0.3144\n",
            "Epoch [10/10], Step [1180], Loss: 0.4936\n",
            "Epoch [10/10], Step [1190], Loss: 0.1750\n",
            "Epoch [10/10], Step [1200], Loss: 0.4427\n",
            "Epoch [10/10], Step [1210], Loss: 0.3190\n",
            "Epoch [10/10], Step [1220], Loss: 0.2328\n",
            "Epoch [10/10], Step [1230], Loss: 0.3053\n",
            "Epoch [10/10], Step [1240], Loss: 0.2528\n",
            "Epoch [10/10], Step [1250], Loss: 0.0916\n",
            "Epoch [10/10], Step [1260], Loss: 0.1623\n",
            "Epoch [10/10], Step [1270], Loss: 0.2964\n",
            "Epoch [10/10], Step [1280], Loss: 0.5545\n",
            "Epoch [10/10], Step [1290], Loss: 0.2106\n",
            "Epoch [10/10], Step [1300], Loss: 0.5200\n",
            "Epoch [10/10], Step [1310], Loss: 0.3016\n",
            "Epoch [10/10], Step [1320], Loss: 0.2234\n",
            "Epoch [10/10], Step [1330], Loss: 0.1176\n",
            "Epoch [10/10], Step [1340], Loss: 0.2894\n",
            "Epoch [10/10], Step [1350], Loss: 0.2737\n",
            "Epoch [10/10], Step [1360], Loss: 0.3244\n",
            "Epoch [10/10], Step [1370], Loss: 0.1962\n",
            "Epoch [10/10], Step [1380], Loss: 0.2063\n",
            "Epoch [10/10], Step [1390], Loss: 0.7060\n",
            "Epoch [10/10], Step [1400], Loss: 0.2755\n",
            "Epoch [10/10], Step [1410], Loss: 0.3285\n",
            "Epoch [10/10], Step [1420], Loss: 0.2333\n",
            "Epoch [10/10], Step [1430], Loss: 0.1811\n",
            "Epoch [10/10], Step [1440], Loss: 0.2928\n",
            "Epoch [10/10], Step [1450], Loss: 0.5581\n",
            "Epoch [10/10], Step [1460], Loss: 0.2912\n",
            "Epoch [10/10], Step [1470], Loss: 0.2603\n",
            "Epoch [10/10], Step [1480], Loss: 0.4400\n",
            "Epoch [10/10], Step [1490], Loss: 0.1001\n",
            "Epoch [10/10], Step [1500], Loss: 0.2651\n",
            "Epoch [10/10], Step [1510], Loss: 0.4322\n",
            "Epoch [10/10], Step [1520], Loss: 0.1307\n",
            "Epoch [10/10], Step [1530], Loss: 0.4696\n",
            "Epoch [10/10], Step [1540], Loss: 0.3723\n",
            "Epoch [10/10], Step [1550], Loss: 0.2801\n",
            "Epoch [10/10], Step [1560], Loss: 0.2604\n",
            "Epoch [10/10], Step [1570], Loss: 0.2027\n",
            "Epoch [10/10], Step [1580], Loss: 0.2909\n",
            "Epoch [10/10], Step [1590], Loss: 0.2719\n",
            "Epoch [10/10], Step [1600], Loss: 0.2702\n",
            "Epoch [10/10], Step [1610], Loss: 0.1790\n",
            "Epoch [10/10], Step [1620], Loss: 0.2631\n",
            "Epoch [10/10], Step [1630], Loss: 0.0823\n",
            "Epoch [10/10], Step [1640], Loss: 0.3235\n",
            "Epoch [10/10], Step [1650], Loss: 0.5185\n",
            "Epoch [10/10], Step [1660], Loss: 0.3196\n",
            "Epoch [10/10], Step [1670], Loss: 0.5135\n",
            "Epoch [10/10], Step [1680], Loss: 0.2292\n",
            "Epoch [10/10], Step [1690], Loss: 0.2700\n",
            "Epoch [10/10], Step [1700], Loss: 0.2954\n",
            "Epoch [10/10], Step [1710], Loss: 0.2041\n",
            "Epoch [10/10], Step [1720], Loss: 0.2465\n",
            "Epoch [10/10], Step [1730], Loss: 0.2671\n",
            "Model saved to gru_model.pth\n"
          ]
        }
      ],
      "source": [
        "import os\n",
        "\n",
        "device = torch.device('cuda' if torch.cuda.is_available() else 'cpu')\n",
        "epochs = 10\n",
        "learning_rate = 0.001\n",
        "# Each word (or token) is represented as a 300-dimensional vector\n",
        "embedding_size = 300\n",
        "# Number of time steps in each sequence (e.g. number of words in a sentence)         \n",
        "sequence_length = train_data_X.shape[1]\n",
        "            \n",
        "model = RNNClassifier(embedding_size, hidden_size=128, num_layers=1, num_classes=4).to(device)\n",
        "criterion = nn.CrossEntropyLoss()\n",
        "optimizer = torch.optim.Adam(model.parameters(), lr=learning_rate)\n",
        "model_path = \"gru_model.pth\"\n",
        "\n",
        "\n",
        "if os.path.exists(model_path):\n",
        "    print(\"Loading saved model\")\n",
        "    model = RNNClassifier(\n",
        "    embedding_size=embedding_size,  # input size per time step\n",
        "    hidden_size=128,                # how big the internal memory is\n",
        "    num_layers=1,                   # how many GRU layers stacked\n",
        "    num_classes=4                   # number of output classes to predict\n",
        "    ).to(device)\n",
        "    \n",
        "    model.load_state_dict(torch.load(model_path))\n",
        "    model.eval()\n",
        "else:\n",
        "    print(\"Training new model\")\n",
        "    model = RNNClassifier(embedding_size, hidden_size=128, num_layers=1, num_classes=num_classes).to(device)\n",
        "    # Loss function: used to compare predicted vs actual class\n",
        "    criterion = nn.CrossEntropyLoss()\n",
        "    # Optimizer: helps the model learn by adjusting weights\n",
        "    optimizer = torch.optim.Adam(model.parameters(), lr=learning_rate)\n",
        "\n",
        "\n",
        "    model.train()\n",
        "    for epoch in range(epochs):\n",
        "        for i, (inputs, labels) in enumerate(train_loader):\n",
        "            inputs, labels = inputs.to(device), labels.to(device)\n",
        "             # Forward pass: model makes a prediction\n",
        "            outputs = model(inputs)\n",
        "            # Compute how far off the prediction was\n",
        "            loss = criterion(outputs, labels)\n",
        "             # Backpropagation: update model to reduce loss\n",
        "            optimizer.zero_grad()\n",
        "            loss.backward()\n",
        "            optimizer.step()\n",
        "\n",
        "            if (i + 1) % 10 == 0:\n",
        "                print(f\"Epoch [{epoch+1}/{epochs}], Step [{i+1}], Loss: {loss.item():.4f}\")\n",
        "\n",
        "    torch.save(model.state_dict(), model_path)\n",
        "    print(f\"Model saved to {model_path}\")"
      ]
    },
    {
      "cell_type": "code",
      "execution_count": null,
      "id": "9f635a3c",
      "metadata": {},
      "outputs": [
        {
          "name": "stdout",
          "output_type": "stream",
          "text": [
            "True label: Normal vs Predicted: Normal\n",
            "True label: Anxiety-like vs Predicted: Depression\n",
            "True label: Depression vs Predicted: Depression\n",
            "True label: Depression vs Predicted: Depression\n",
            "True label: Normal vs Predicted: Normal\n",
            "True label: Suicidal vs Predicted: Suicidal\n",
            "True label: Normal vs Predicted: Normal\n",
            "True label: Depression vs Predicted: Suicidal\n",
            "True label: Depression vs Predicted: Depression\n",
            "True label: Depression vs Predicted: Depression\n",
            "True label: Anxiety-like vs Predicted: Anxiety-like\n",
            "True label: Normal vs Predicted: Normal\n",
            "True label: Normal vs Predicted: Depression\n",
            "True label: Depression vs Predicted: Suicidal\n",
            "True label: Normal vs Predicted: Normal\n",
            "True label: Normal vs Predicted: Normal\n",
            "True label: Depression vs Predicted: Depression\n",
            "True label: Suicidal vs Predicted: Suicidal\n",
            "True label: Depression vs Predicted: Depression\n",
            "True label: Anxiety-like vs Predicted: Anxiety-like\n",
            "\n",
            " Accuracy on test data: 76.20415089413915%\n"
          ]
        },
        {
          "data": {
            "image/png": "[encoded data removed]",
            "text/plain": [
              "<Figure size 640x480 with 2 Axes>"
            ]
          },
          "metadata": {},
          "output_type": "display_data"
        }
      ],
      "source": [
        "from sklearn.metrics import confusion_matrix, ConfusionMatrixDisplay\n",
        "import matplotlib.pyplot as plt\n",
        "\n",
        "\n",
        "label_names = ['Normal', 'Depression', 'Suicidal', 'Anxiety-like']\n",
        "# Set the model to evaluation mode (disables dropout, etc.)\n",
        "model.eval()\n",
        "y_true = []\n",
        "y_pred = []\n",
        "# Disable gradient calculation to speed up inference\n",
        "with torch.no_grad():\n",
        "    correct = 0\n",
        "    total = 0\n",
        "    shown_examples = 0  # limit number of example predictions to print\n",
        "\n",
        "    for batch_idx, (inputs, labels) in enumerate(test_loader):\n",
        "         # Move data to GPU/CPU device\n",
        "        inputs, labels = inputs.to(device), labels.to(device)\n",
        "        # Run model to get predictions\n",
        "        outputs = model(inputs)\n",
        "          # Get the index of the highest score as the predicted class\n",
        "        _, predicted = torch.max(outputs, 1)\n",
        "         # Update total and count correct predictions\n",
        "        total += labels.size(0)\n",
        "        correct += (predicted == labels).sum().item()\n",
        "         # Save results for confusion matrix\n",
        "        y_true.extend(labels.cpu().numpy())\n",
        "        y_pred.extend(predicted.cpu().numpy())\n",
        "         # Print up to 20 predicted vs actual labels (for inspection)\n",
        "        for i in range(inputs.size(0)):\n",
        "            if shown_examples >= 20:\n",
        "                break\n",
        "            true_label_id = labels[i].item()\n",
        "            pred_label_id = predicted[i].item()\n",
        "            true_label_name = label_names[true_label_id]\n",
        "            pred_label_name = label_names[pred_label_id]\n",
        "            print(f\"True label: {true_label_name} vs Predicted: {pred_label_name}\")\n",
        "            shown_examples += 1\n",
        "    # Calculate overall accuracy\n",
        "    acc = 100.0 * correct / total\n",
        "    print(f'\\n Accuracy on test data: {acc}%')\n",
        "\n",
        "     # Create and display the confusion matrix\n",
        "    cm = confusion_matrix(y_true, y_pred)\n",
        "    disp = ConfusionMatrixDisplay(confusion_matrix=cm, display_labels=label_names)\n",
        "    disp.plot(cmap=\"Blues\", values_format='d')\n",
        "    plt.title(\"Confusion Matrix\")\n",
        "    plt.xticks(rotation=45)\n",
        "    plt.show()\n"
      ]
    },
    {
      "cell_type": "code",
      "execution_count": null,
      "id": "c828c50f",
      "metadata": {},
      "outputs": [
        {
          "name": "stdout",
          "output_type": "stream",
          "text": [
            "              precision    recall  f1-score   support\n",
            "\n",
            "      Normal       0.91      0.89      0.90      2479\n",
            "  Depression       0.70      0.64      0.67      2227\n",
            "    Suicidal       0.61      0.71      0.65      1511\n",
            "Anxiety-like       0.78      0.78      0.78      1444\n",
            "\n",
            "    accuracy                           0.76      7661\n",
            "   macro avg       0.75      0.76      0.75      7661\n",
            "weighted avg       0.77      0.76      0.76      7661\n",
            "\n"
          ]
        }
      ],
      "source": [
        "\n",
        "from sklearn.metrics import classification_report\n",
        "print(classification_report(y_true, y_pred, target_names=label_names))"
      ]
    },
    {
      "cell_type": "markdown",
      "id": "4103666e",
      "metadata": {},
      "source": [
        "# Final Note on our results"
      ]
    },
    {
      "cell_type": "markdown",
      "id": "ad455cc2",
      "metadata": {},
      "source": [
        "it is noticed that our accuary on our test data has changed positively when we tried out different models. For the RNN model, we could not exceed the 70 % accuracy, and that is logical given the complexity and long sequences found in our data. As for the GRU, we may notice that there is an increase in terms of accuaracy to 76 %, and for our LSTM models the accuracy ranged between 75% and 78%  for our best model. Thus we may conclude that the reason behind not achieving stronger accuracies is related to the nature of our dataset.\n",
        "\n",
        "When we split the dataset into 4 classes, we convey 4 different categories under a class named other. This conveyment might be the reason why we did not get better results. The four mergered classes (anxiety, bipolar, stress, personality disorder) are classified as one target class that is causing label noise, after all it is a hetrogeneous class that is based on different patterns merged together. Moreover, there is a similarity between some of the depression and suicidal classes with the other class (actually with the hetrogenous classes conveying the other class), this could be solved by categorizing symptoms that similar together but may also cause class imbalance, and must be done clinicly by clincal experts. Further more, the class imbalance after the merger (although the merger some balanced the catastrophic previous class imbalance) may have something to do with our results, after all the other class has far fewer samples than normal, depression, and suicidal, thus possibly causing our models to favor the other classes."
      ]
    }
  ],
  "metadata": {
    "accelerator": "GPU",
    "colab": {
      "gpuType": "T4",
      "provenance": [],
      "toc_visible": true
    },
    "kernelspec": {
      "display_name": "Python 3",
      "name": "python3"
    },
    "language_info": {
      "codemirror_mode": {
        "name": "ipython",
        "version": 3
      },
      "file_extension": ".py",
      "mimetype": "text/x-python",
      "name": "python",
      "nbconvert_exporter": "python",
      "pygments_lexer": "ipython3",
      "version": "3.12.8"
    }
  },
  "nbformat": 4,
  "nbformat_minor": 5
}
